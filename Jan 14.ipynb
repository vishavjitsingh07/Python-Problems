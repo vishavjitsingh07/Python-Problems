{
 "cells": [
  {
   "cell_type": "markdown",
   "id": "69fe7456",
   "metadata": {},
   "source": [
    "# Minimum number of jumps \n",
    "Given an array of N integers arr[] where each element represents the max number of steps that can be made forward from that element. Find the minimum number of jumps to reach the end of the array (starting from the first element). If an element is 0, then you cannot move through that element.\n",
    "Note: Return -1 if you can't reach the end of the array."
   ]
  },
  {
   "cell_type": "code",
   "execution_count": 1,
   "id": "ad6e2d98",
   "metadata": {
    "scrolled": true
   },
   "outputs": [
    {
     "name": "stdout",
     "output_type": "stream",
     "text": [
      "0 0 3 Line 7\n",
      "1 1 9 Line 7\n",
      "2 5 7 Line 7\n",
      "3\n",
      "0 0 3 Line 7\n",
      "1 1 9 Line 7\n",
      "2 5 7 Line 7\n",
      "3\n",
      "None\n",
      "1 1 1 line 31\n",
      "4 3 2 line 31\n",
      "7 2 2 line 31\n",
      "11 1 2 line 31\n",
      "13 9 3 line 31\n",
      "13 8 3 line 31\n",
      "13 7 3 line 31\n",
      "14 6 3 line 31\n",
      "14 5 3 line 31\n",
      "17 4 3 line 31\n",
      "3\n"
     ]
    }
   ],
   "source": [
    "#iterative approach with time complexity nlogn\n",
    "def jumps(arr):\n",
    "    i = 0 #Iterator\n",
    "    count = 0 #Step counter\n",
    "    while i<=len(arr) -1 :        \n",
    "        currJump = max(arr[i+1 : i + arr[i] + 1 ]) #Max value\n",
    "        print(count, i, currJump, 'Line 7')\n",
    "        if currJump == 0: #Edge Case\n",
    "            print(-1)\n",
    "            break\n",
    "        j = arr.index(currJump)\n",
    "        i += j #add steps to index\n",
    "        count +=1\n",
    "    print(count) #Return max value\n",
    "arr = [1, 3, 5, 8, 9, 2, 6, 7, 6, 8, 9] #test Case\n",
    "jumps(arr)\n",
    "\n",
    "\n",
    "#Optimised sol\n",
    "def minJumps(arr):\n",
    "    n = len(arr)\n",
    "    if (n <= 1): #If thr is only one element jump is 0\n",
    "        return 0\n",
    "    if (arr[0] == 0): #If first element is zero jump is impossible\n",
    "        return -1\n",
    "    maxReach = arr[0] #Intiallize max with 1st jump\n",
    "    step = arr[0] #Step with first element\n",
    "    jump = 1 #Counter to count jump\n",
    "          \n",
    "    for i in range(1, n): #Loop through element\n",
    "        print(maxReach, step, jump, 'line 31')\n",
    "        if (i == n-1): #If final element found\n",
    "            return jump #Return counter\n",
    "        maxReach = max(maxReach, i + arr[i]) #Else Max will be maxReach, curr element+ max jump\n",
    "        step -= 1 # Checking is thr any other element in remaining jump\n",
    "        if (step == 0): #IF No \n",
    "            jump += 1 #Increment Jump\n",
    "            if(i >= maxReach): #If nothing found edge case\n",
    "                return -1 \n",
    "            step = maxReach - i #Decrement step\n",
    "    return -1\n",
    "                \n",
    "                \n",
    "arr = [1, 3, 5, 8, 9, 2, 6, 7, 6, 8, 9] #test Case\n",
    "print(jumps(arr))\n",
    "\n",
    "arr = [1, 3, 5, 8, 9, 2, 6, 7, 6, 8, 9] #test Case\n",
    "print(minJumps(arr))"
   ]
  }
 ],
 "metadata": {
  "kernelspec": {
   "display_name": "Python 3",
   "language": "python",
   "name": "python3"
  },
  "language_info": {
   "codemirror_mode": {
    "name": "ipython",
    "version": 3
   },
   "file_extension": ".py",
   "mimetype": "text/x-python",
   "name": "python",
   "nbconvert_exporter": "python",
   "pygments_lexer": "ipython3",
   "version": "3.8.8"
  }
 },
 "nbformat": 4,
 "nbformat_minor": 5
}
