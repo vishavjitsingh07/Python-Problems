{
 "cells": [
  {
   "cell_type": "markdown",
   "id": "a6c13fed",
   "metadata": {},
   "source": [
    "# Insertion Sort\n",
    "Write a algorithm of insertion sort"
   ]
  },
  {
   "cell_type": "code",
   "execution_count": 1,
   "id": "be98973b",
   "metadata": {},
   "outputs": [
    {
     "name": "stdout",
     "output_type": "stream",
     "text": [
      "[1, 2, 3, 4, 5, 6]\n"
     ]
    }
   ],
   "source": [
    "def insertionSort(arr):\n",
    "    for i in range(1, len(arr)):\n",
    "        j = i\n",
    "        while arr[j-1] > arr[j] and j>0:\n",
    "            arr[j - 1], arr[j] = arr[j], arr[j - 1]\n",
    "            j -= 1\n",
    "    return arr\n",
    "arr = [3, 4, 5, 2, 1, 6]\n",
    "print(insertionSort(arr))"
   ]
  },
  {
   "cell_type": "markdown",
   "id": "d732adc4",
   "metadata": {},
   "source": [
    "# Bubble Sort\n",
    "Write a algorithm of Bubble sort"
   ]
  },
  {
   "cell_type": "code",
   "execution_count": 2,
   "id": "91c97127",
   "metadata": {},
   "outputs": [
    {
     "name": "stdout",
     "output_type": "stream",
     "text": [
      "[1, 2, 3, 4, 5, 6]\n"
     ]
    }
   ],
   "source": [
    "def BubbleSort(arr):\n",
    "    for i in range(0, len(arr)):\n",
    "        for j in range(i, len(arr)):\n",
    "            if arr[i]>arr[j]:\n",
    "                arr[i], arr[j] = arr[j], arr[i]\n",
    "    return arr\n",
    "arr = [3, 4, 5, 2, 1, 6]\n",
    "print(BubbleSort(arr))"
   ]
  },
  {
   "cell_type": "markdown",
   "id": "7925eea5",
   "metadata": {},
   "source": [
    "# Selection Sort\n",
    "Write a algorithm of Selection sort"
   ]
  },
  {
   "cell_type": "code",
   "execution_count": 3,
   "id": "47ef6d46",
   "metadata": {},
   "outputs": [
    {
     "name": "stdout",
     "output_type": "stream",
     "text": [
      "[1, 2, 3, 4, 5, 6]\n"
     ]
    }
   ],
   "source": [
    "def SelecttionSort(arr):\n",
    "    for i in range(len(arr)):\n",
    "        min = i\n",
    "        for j in range(i, len(arr)):\n",
    "            if arr[j] < arr[min]:\n",
    "                min = j\n",
    "        arr[i], arr[min] = arr[min], arr[i]\n",
    "    return arr\n",
    "arr = [3, 4, 5, 2, 1, 6]\n",
    "print(SelecttionSort(arr))"
   ]
  }
 ],
 "metadata": {
  "kernelspec": {
   "display_name": "Python 3",
   "language": "python",
   "name": "python3"
  },
  "language_info": {
   "codemirror_mode": {
    "name": "ipython",
    "version": 3
   },
   "file_extension": ".py",
   "mimetype": "text/x-python",
   "name": "python",
   "nbconvert_exporter": "python",
   "pygments_lexer": "ipython3",
   "version": "3.8.8"
  }
 },
 "nbformat": 4,
 "nbformat_minor": 5
}
