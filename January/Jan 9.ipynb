{
 "cells": [
  {
   "cell_type": "markdown",
   "id": "25656327",
   "metadata": {},
   "source": [
    "# Insertion Sort\n",
    "Write a algorithm of insertion sort"
   ]
  },
  {
   "cell_type": "code",
   "execution_count": 1,
   "id": "26e58bf2",
   "metadata": {},
   "outputs": [
    {
     "name": "stdout",
     "output_type": "stream",
     "text": [
      "[1, 2, 3, 4, 5, 6]\n"
     ]
    }
   ],
   "source": [
    "def insertionSort(arr):\n",
    "    for i in range(1, len(arr)):\n",
    "        j = i\n",
    "        while arr[j-1] > arr[j] and j>0:\n",
    "            arr[j - 1], arr[j] = arr[j], arr[j - 1]\n",
    "            j -= 1\n",
    "    return arr\n",
    "arr = [3, 4, 5, 2, 1, 6]\n",
    "print(insertionSort(arr))"
   ]
  },
  {
   "cell_type": "code",
   "execution_count": null,
   "id": "b5991326",
   "metadata": {},
   "outputs": [],
   "source": []
  }
 ],
 "metadata": {
  "kernelspec": {
   "display_name": "Python 3",
   "language": "python",
   "name": "python3"
  },
  "language_info": {
   "codemirror_mode": {
    "name": "ipython",
    "version": 3
   },
   "file_extension": ".py",
   "mimetype": "text/x-python",
   "name": "python",
   "nbconvert_exporter": "python",
   "pygments_lexer": "ipython3",
   "version": "3.8.8"
  }
 },
 "nbformat": 4,
 "nbformat_minor": 5
}
