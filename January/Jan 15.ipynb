{
 "cells": [
  {
   "cell_type": "markdown",
   "id": "5a0f4703",
   "metadata": {},
   "source": [
    "# OOPs Continue"
   ]
  },
  {
   "cell_type": "code",
   "execution_count": 1,
   "id": "9d60b6af",
   "metadata": {},
   "outputs": [
    {
     "name": "stdout",
     "output_type": "stream",
     "text": [
      "My car name is  BMW and its mileage is 7Km\n",
      "My car name is  Audi and its mileage is 13.5km Car color is Red\n"
     ]
    }
   ],
   "source": [
    "#Inheritence\n",
    "class Vehicle:\n",
    "    def __init__(self, name, mileage): #Private class\n",
    "        self.name = name\n",
    "        self.mileage = mileage\n",
    "        \n",
    "    def showVehicleDetails(self): #Vehicle details\n",
    "        print('My car name is ', self.name, 'and its mileage is', self.mileage)   \n",
    "    \n",
    "    \n",
    "class Car(Vehicle): #inherting from Parent Class      \n",
    "    def carFeature(self, color): #Function to perform operations\n",
    "        print('My car name is ', self.name, 'and its mileage is', self.mileage,'Car color is', color)       \n",
    "        \n",
    "        \n",
    "Parentclass =  Vehicle(\"BMW\", \"7Km\")\n",
    "Parentclass.showVehicleDetails()\n",
    "\n",
    "childClass = Car('Audi', '13.5km')\n",
    "childClass.carFeature('Red')"
   ]
  },
  {
   "cell_type": "code",
   "execution_count": 2,
   "id": "21020cea",
   "metadata": {},
   "outputs": [
    {
     "name": "stdout",
     "output_type": "stream",
     "text": [
      "My car name is  BMW and its mileage is 7Km\n",
      "My car name is  Audi and its mileage is 13.5km Car color is Red and the tyres are of MRF\n"
     ]
    }
   ],
   "source": [
    "#Over Riding The func\n",
    "#Inheritence\n",
    "class Vehicle: #parent class\n",
    "    def __init__(self, name, mileage): #Private class\n",
    "        self.name = name\n",
    "        self.mileage = mileage\n",
    "        \n",
    "    def showVehicleDetails(self): #Vehicle details\n",
    "        print('My car name is ', self.name, 'and its mileage is', self.mileage)   \n",
    "    \n",
    "    \n",
    "class Car(Vehicle): #inherting from Parent Class\n",
    "    def __init__(self,name, mileage, color, tyre):\n",
    "        super().__init__(name, mileage) #inherting and over-riding the features\n",
    "        self.tyre = tyre\n",
    "        self.color = color\n",
    "    def carFeature(self): #Function to perform operations\n",
    "        print('My car name is ', self.name, 'and its mileage is', self.mileage,'Car color is', self.color, 'and the tyres are of', self.tyre)   #In above code color is given in function but now it is in function     \n",
    "        \n",
    "        \n",
    "Parentclass =  Vehicle(\"BMW\", \"7Km\")\n",
    "Parentclass.showVehicleDetails()\n",
    "\n",
    "childClass = Car('Audi', '13.5km', 'Red', 'MRF')\n",
    "childClass.carFeature()"
   ]
  },
  {
   "cell_type": "code",
   "execution_count": 3,
   "id": "8d3ee19b",
   "metadata": {},
   "outputs": [
    {
     "name": "stdout",
     "output_type": "stream",
     "text": [
      "String of Parent 1\n",
      "String of Parent 2\n",
      "String of Child Class\n"
     ]
    }
   ],
   "source": [
    "#Multi Inheritence\n",
    "class Parent1: #Parent 1\n",
    "    def assignStr1(self, str1):\n",
    "        self.str1 = str1\n",
    "    def showStr1(self):\n",
    "        return self.str1\n",
    "class Parent2: #Parent 2\n",
    "    def assignStr2(self, str2):\n",
    "        self.str2 = str2\n",
    "    def showStr2(self):\n",
    "        return self.str2\n",
    "class child(Parent1, Parent2): #Child of Parent 1 and Parent 2\n",
    "    def assignStr3(self, str3):\n",
    "        self.str3 = str3\n",
    "    def showStr3(self):\n",
    "        return self.str3\n",
    "    \n",
    "    \n",
    "childClass = child()\n",
    "#Assigning Strings\n",
    "childClass.assignStr1('String of Parent 1')\n",
    "childClass.assignStr2('String of Parent 2')\n",
    "childClass.assignStr3('String of Child Class')\n",
    "#Printing values\n",
    "print(childClass.showStr1())\n",
    "print(childClass.showStr2())\n",
    "print(childClass.showStr3())"
   ]
  },
  {
   "cell_type": "code",
   "execution_count": 4,
   "id": "06987263",
   "metadata": {},
   "outputs": [
    {
     "name": "stdout",
     "output_type": "stream",
     "text": [
      "String of Parent\n",
      "String of Child\n",
      "String of Grand Child\n"
     ]
    }
   ],
   "source": [
    "#Multi Level Inheritnece\n",
    "class Parent: #Parent 1\n",
    "    def assignStr1(self, str1):\n",
    "        self.str1 = str1\n",
    "    def showStr1(self):\n",
    "        return self.str1\n",
    "class Child(Parent): #Child\n",
    "    def assignStr2(self, str2):\n",
    "        self.str2 = str2\n",
    "    def showStr2(self):\n",
    "        return self.str2\n",
    "class Grandchild(Child): #Child of Child\n",
    "    def assignStr3(self, str3):\n",
    "        self.str3 = str3\n",
    "    def showStr3(self):\n",
    "        return self.str3\n",
    "    \n",
    "    \n",
    "childClass = Grandchild()\n",
    "#Assigning Strings\n",
    "childClass.assignStr1('String of Parent')\n",
    "childClass.assignStr2('String of Child')\n",
    "childClass.assignStr3('String of Grand Child')\n",
    "#Printing values\n",
    "print(childClass.showStr1())\n",
    "print(childClass.showStr2())\n",
    "print(childClass.showStr3())"
   ]
  },
  {
   "cell_type": "code",
   "execution_count": 5,
   "id": "3d8cb044",
   "metadata": {},
   "outputs": [
    {
     "name": "stdout",
     "output_type": "stream",
     "text": [
      "String of Parent 1\n",
      "String of Parent 2\n",
      "String of Child\n",
      "String of child of Child\n"
     ]
    }
   ],
   "source": [
    "# Hybrid Inheritence\n",
    "class Parent1: #Parent 1\n",
    "    def assignStr1(self, str1):\n",
    "        self.str1 = str1\n",
    "    def showStr1(self):\n",
    "        return self.str1\n",
    "class Parent2: #Parent 2\n",
    "    def assignStr2(self, str2):\n",
    "        self.str2 = str2\n",
    "    def showStr2(self):\n",
    "        return self.str2\n",
    "class child(Parent1, Parent2): #Child of Parent 1 and Parent 2\n",
    "    def assignStr3(self, str3):\n",
    "        self.str3 = str3\n",
    "    def showStr3(self):\n",
    "        return self.str3\n",
    "\n",
    "class Grandchild(child): #Child of Child Hybrid class\n",
    "    def assignStr4(self, str4):\n",
    "        self.str4 = str4\n",
    "    def showStr4(self):\n",
    "        return self.str4\n",
    "    \n",
    "childClass = Grandchild()\n",
    "#Assigning Strings\n",
    "childClass.assignStr1('String of Parent 1')\n",
    "childClass.assignStr2('String of Parent 2')\n",
    "childClass.assignStr3('String of Child')\n",
    "childClass.assignStr4('String of child of Child')\n",
    "#Printing values\n",
    "print(childClass.showStr1())\n",
    "print(childClass.showStr2())\n",
    "print(childClass.showStr3())\n",
    "print(childClass.showStr4())"
   ]
  },
  {
   "cell_type": "code",
   "execution_count": 6,
   "id": "9ca34d36",
   "metadata": {},
   "outputs": [
    {
     "name": "stdout",
     "output_type": "stream",
     "text": [
      "My name is Varun and  my age is  22\n",
      "My age is  25\n"
     ]
    }
   ],
   "source": [
    "#Types of methods\n",
    "class Other:\n",
    "    def __init__(self, name, age, rollNo):\n",
    "        self.name = name\n",
    "        self.age = age\n",
    "        self.rollNo = rollNo\n",
    "        \n",
    "    @classmethod #It make sure it will not only take varible of current class rather variable of another class along with this class \n",
    "    def classmethods(self, c1, age): #self and c1 are two classes and age is normal 3rd variable\n",
    "        print(\"My name is\", c1.name, 'and  my age is ', age)\n",
    "    \n",
    "    @staticmethod\n",
    "    def staticmethods(name): #It make sure not to give self as first var it take automatically \n",
    "        print('My age is ', name) \n",
    "\n",
    "a = Other('Vishu', '20', '14')\n",
    "b = Other('Varun', '25', '35')\n",
    "a.classmethods(b, 22) #class A var1 class b.name var2 normal age\n",
    "a.staticmethods(b.age) #"
   ]
  },
  {
   "cell_type": "code",
   "execution_count": 7,
   "id": "82cb9eb4",
   "metadata": {},
   "outputs": [
    {
     "name": "stdout",
     "output_type": "stream",
     "text": [
      "This is func1 from class C\n",
      "This is func2 from class C\n",
      "This is the func3 from class A\n",
      "This is the func4 from class A\n",
      "This is the func5 from class B\n",
      "This is the func6 from class C\n"
     ]
    }
   ],
   "source": [
    "#MRO: - Method Resolution Order\n",
    "#It means it start taking varible from left to right\n",
    "\n",
    "class A:\n",
    "    def __init__(self, name, age):\n",
    "        self.name = name\n",
    "        self.age = age        \n",
    "    def get_func2(self):\n",
    "        print('This is func2 from class A')\n",
    "        \n",
    "    def get_func3(self):\n",
    "        print('This is the func3 from class A')\n",
    "        \n",
    "    def get_func4(self):\n",
    "        print('This is the func4 from class A')\n",
    "        \n",
    "class B:\n",
    "    def __init__(self, name, age):\n",
    "        self.name = name\n",
    "        self.age = age\n",
    "    def get_func1(self):\n",
    "        print('This is func1 from class B')\n",
    "        \n",
    "        \n",
    "    def get_func3(self):\n",
    "        print('This is the func3 from class B')\n",
    "    \n",
    "    def get_func5(self):\n",
    "        print('This is the func5 from class B')\n",
    "        \n",
    "    \n",
    "        \n",
    "class C(A, B):\n",
    "    def __init__(self, name, age):\n",
    "        super().__init__(name, age) #It will inherit var of A\n",
    "        super().__init__(name, age) #It will inherit var of B\n",
    "        self.name = name\n",
    "        self.age = age\n",
    "        \n",
    "    def get_func1(self):\n",
    "        print('This is func1 from class C')\n",
    "        \n",
    "    def get_func2(self):\n",
    "        print('This is func2 from class C')\n",
    "        \n",
    "    def get_func6(self):\n",
    "        print('This is the func6 from class C')\n",
    "        \n",
    "        \n",
    "mroClass = C(\"Vishu\", 20)\n",
    "mroClass.get_func1() #First search in C then A then B but C returns first answer and further check stops\n",
    "mroClass.get_func2() #First search in C then A then B but C returns first answer and further check stops\n",
    "mroClass.get_func3() #First search in C then A then B but A returns first answer and further check stops\n",
    "mroClass.get_func4() #First search in C then A then B but A returns first answer and further check stops\n",
    "mroClass.get_func5() #First search in C then A then B but B returns first answer and further check stops\n",
    "mroClass.get_func6() #First search in C then A then B but C returns first answer and further check stops"
   ]
  },
  {
   "cell_type": "code",
   "execution_count": 8,
   "id": "9af68484",
   "metadata": {},
   "outputs": [
    {
     "name": "stdout",
     "output_type": "stream",
     "text": [
      "This is func1 from class C nameC collegeC\n",
      "This is func2 from class C nameC collegeC\n",
      "This is the func3 from class A nameC ageA\n",
      "This is the func4 from class A nameC ageA\n",
      "This is the func6 from class C nameC collegeC\n"
     ]
    }
   ],
   "source": [
    "#MRO: - Method Resolution Order\n",
    "#It means it start taking varible from left to right\n",
    "\n",
    "\n",
    "#Only diff in both the codes is C will not herit varibles of B but it can use var of A since super not give in C\n",
    "class A:\n",
    "    def __init__(self):\n",
    "        self.name = 'nameA'\n",
    "        self.age = 'ageA'\n",
    "    def get_func2(self):\n",
    "        print('This is func2 from class A', self.name, self.age)\n",
    "        \n",
    "    def get_func3(self):\n",
    "        print('This is the func3 from class A', self.name, self.age)\n",
    "        \n",
    "    def get_func4(self):\n",
    "        print('This is the func4 from class A', self.name, self.age)\n",
    "        \n",
    "class B:\n",
    "    def __init__(self):\n",
    "        self.name = \"nameB\"\n",
    "        self.section = 'sectionB'\n",
    "    def get_func1(self):\n",
    "        print('This is func1 from class B', self.name, self.section)\n",
    "        \n",
    "        \n",
    "    def get_func3(self):\n",
    "        print('This is the func3 from class B', self.name, self.section)\n",
    "    \n",
    "    def get_func5(self):\n",
    "        print('This is the func5 from class B', self.name, self.section)\n",
    "        \n",
    "    \n",
    "        \n",
    "class C(A, B):\n",
    "    def __init__(self, name):\n",
    "        super().__init__() #It will inherit var of A\n",
    "        super().__init__() #It will inherit var of B\n",
    "        self.name = \"nameC\"\n",
    "        self.college = 'collegeC'\n",
    "        \n",
    "    def get_func1(self):\n",
    "        print('This is func1 from class C', self.name, self.college)\n",
    "        \n",
    "    def get_func2(self):\n",
    "        print('This is func2 from class C', self.name, self.college)\n",
    "        \n",
    "    def get_func6(self):\n",
    "        print('This is the func6 from class C', self.name, self.college)\n",
    "        \n",
    "        \n",
    "mroClass = C(\"Vishu\")\n",
    "mroClass.get_func1() #First search in C then A then B but C returns first answer and further check stops\n",
    "mroClass.get_func2() #First search in C then A then B but C returns first answer and further check stops\n",
    "mroClass.get_func3() #First search in C then A then B but A returns first answer and further check stops\n",
    "mroClass.get_func4() #First search in C then A then B but A returns first answer and further check stops\n",
    "\n",
    "#This func 5 give error 'C' object has no attribute 'section'\n",
    "#Because B variable are not called \n",
    "#mroClass.get_func5() #First search in C then A then B but B returns first answer and further check stops\n",
    "mroClass.get_func6() #First search in C then A then B but C returns first answer and further check stops"
   ]
  }
 ],
 "metadata": {
  "kernelspec": {
   "display_name": "Python 3",
   "language": "python",
   "name": "python3"
  },
  "language_info": {
   "codemirror_mode": {
    "name": "ipython",
    "version": 3
   },
   "file_extension": ".py",
   "mimetype": "text/x-python",
   "name": "python",
   "nbconvert_exporter": "python",
   "pygments_lexer": "ipython3",
   "version": "3.8.8"
  }
 },
 "nbformat": 4,
 "nbformat_minor": 5
}
