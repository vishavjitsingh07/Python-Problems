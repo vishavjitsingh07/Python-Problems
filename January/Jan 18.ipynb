{
 "cells": [
  {
   "cell_type": "markdown",
   "id": "14b75f23",
   "metadata": {},
   "source": [
    "# Find the Duplicate Number\n",
    "Given an array of integers nums containing n + 1 integers where each integer is in the range [1, n] inclusive.\n",
    "\n",
    "There is only one repeated number in nums, return this repeated number.\n",
    "\n",
    "You must solve the problem without modifying the array nums and uses only constant extra space.\n",
    "\n",
    "(Leet Code)"
   ]
  },
  {
   "cell_type": "code",
   "execution_count": 1,
   "id": "bfb60789",
   "metadata": {},
   "outputs": [
    {
     "name": "stdout",
     "output_type": "stream",
     "text": [
      "1\n"
     ]
    }
   ],
   "source": [
    "#My solution using Dict O(n) complexity\n",
    "class Solution:\n",
    "    def duplicate(self, arr):\n",
    "        dict1 = {}\n",
    "        for i in arr:\n",
    "            if i in dict1:\n",
    "                return i\n",
    "            else:\n",
    "                dict1[i] = True\n",
    "                \n",
    "#Solution by sets Time complexity O(n) and space Complexity O(n)           \n",
    "class SolutionSets:\n",
    "    def findDuplicate(self, nums):\n",
    "        seen = set()\n",
    "        for num in nums:\n",
    "            if num in seen:\n",
    "                return num\n",
    "            seen.add(num)\n",
    "            \n",
    "#Making seen array as negative Time Complexity O(n) and Space Complexity O(n2)       \n",
    "class SolutionNegative:\n",
    "    def findDuplicate(self, nums):\n",
    "        for num in nums:\n",
    "            cur = abs(num)\n",
    "            if nums[cur] < 0:\n",
    "                duplicate = cur\n",
    "                break\n",
    "            nums[cur] = -nums[cur]\n",
    "\n",
    "        # Restore numbers\n",
    "        for i in range(len(nums)):\n",
    "            nums[i] = abs(nums[i])\n",
    "\n",
    "        return duplicate\n",
    "    \n",
    "arr = [1, 2, 3, 5, 6, 7, 9, 1]\n",
    "z = Solution()\n",
    "print(z.duplicate(arr))"
   ]
  },
  {
   "cell_type": "markdown",
   "id": "d443433b",
   "metadata": {},
   "source": [
    "# Merge Without Extra Space \n",
    "Given two sorted arrays arr1[] of size N and arr2[] of size M. Each array is sorted in non-decreasing order. \n",
    "\n",
    "Merge the two arrays into one sorted array in non-decreasing order without using any extra space.\n",
    "\n",
    "GFG"
   ]
  },
  {
   "cell_type": "raw",
   "id": "b03faabd",
   "metadata": {},
   "source": [
    "Gap Method\n",
    "Explainatiom Link: https://www.youtube.com/watch?v=hVl2b3bLzBw  Time Stam: - 4:48"
   ]
  },
  {
   "cell_type": "code",
   "execution_count": 2,
   "id": "ca3e73c2",
   "metadata": {},
   "outputs": [
    {
     "name": "stdout",
     "output_type": "stream",
     "text": [
      "([0, 1, 2, 3, 5, 6, 7, 8, 9], [])\n"
     ]
    }
   ],
   "source": [
    "def mergeSort(arr1, arr2):\n",
    "    i = 0\n",
    "    j = 0\n",
    "    while i<len(arr1) and j<len(arr2): #Loop through element till both arr\n",
    "        if arr1[i] >= arr2[j]:#If element is found to be greater than arr1\n",
    "            arr1[i], arr2[j] = arr2[j], arr1[i] #Swap it\n",
    "            arr2.sort() #sort the arr2 to place new element to its place\n",
    "            i+=1 #increment i\n",
    "            \n",
    "    return arr1, arr2 #return both the array\n",
    "\n",
    "\n",
    "\n",
    "\n",
    "\n",
    "#Approach 2\n",
    "def mergeSort(arr1, arr2):\n",
    "    arr1 = arr1 + arr2 #Combine both the array\n",
    "    arr1.sort() #Sort Array1\n",
    "    arr2.clear() #Clear Arr2\n",
    "    return arr1, arr2 #return\n",
    "\n",
    "    \n",
    "    \n",
    "    \n",
    "    \n",
    "    \n",
    "    \n",
    "#Approch 3 Gap Method\n",
    "def nextGap(gap): #Finding the gaps after each iteration gap should decrease\n",
    "\n",
    "    if (gap <= 1):\n",
    "        return 0\n",
    "    return (gap // 2) + (gap % 2) #Make if gap//2 is odd than add 1\n",
    "\n",
    "\n",
    "def merge(arr1, arr2, n, m):\n",
    "\n",
    "    gap = n + m #Intially total lenght will be n+m\n",
    "    gap = nextGap(gap)\n",
    "    while gap > 0:\n",
    "\n",
    "        # comparing elements in\n",
    "        # the first array.\n",
    "        i = 0\n",
    "        while i + gap < n: #Comparing element of arr1\n",
    "            if (arr1[i] > arr1[i + gap]):\n",
    "                arr1[i], arr1[i + gap] = arr1[i + gap], arr1[i] #If element is greater swap and not in order\n",
    "\n",
    "            i += 1\n",
    "\n",
    "        # comparing elements in both arrays.\n",
    "        j = gap - n if gap > n else 0 #j should be in greater than n else 0\n",
    "        while i < n and j < m: #Comparing both the array\n",
    "            if (arr1[i] > arr2[j]):\n",
    "                arr1[i], arr2[j] = arr2[j], arr1[i] #if arr1> arr2 swap\n",
    "\n",
    "            i += 1\n",
    "            j += 1\n",
    "\n",
    "        if (j < m):\n",
    "\n",
    "            # comparing elements in the\n",
    "            # second array.\n",
    "            j = 0\n",
    "            while j + gap < m: #Comparing array 2\n",
    "                if (arr2[j] > arr2[j + gap]): #If any element is not in order\n",
    "                    arr2[j], arr2[j + gap] = arr2[j + gap], arr2[j] #Swap\n",
    "\n",
    "                j += 1\n",
    "\n",
    "        gap = nextGap(gap)\n",
    "        \n",
    "        \n",
    "        \n",
    "    \n",
    "arr1 = [1, 3, 5, 7]\n",
    "arr2 = [0, 2, 6, 8, 9]\n",
    "print(mergeSort(arr1, arr2))\n",
    "\n",
    "\n"
   ]
  }
 ],
 "metadata": {
  "kernelspec": {
   "display_name": "Python 3",
   "language": "python",
   "name": "python3"
  },
  "language_info": {
   "codemirror_mode": {
    "name": "ipython",
    "version": 3
   },
   "file_extension": ".py",
   "mimetype": "text/x-python",
   "name": "python",
   "nbconvert_exporter": "python",
   "pygments_lexer": "ipython3",
   "version": "3.8.8"
  }
 },
 "nbformat": 4,
 "nbformat_minor": 5
}
