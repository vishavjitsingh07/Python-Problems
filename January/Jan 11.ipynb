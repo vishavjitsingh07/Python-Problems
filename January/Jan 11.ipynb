{
 "cells": [
  {
   "cell_type": "markdown",
   "id": "0d9d1a71",
   "metadata": {},
   "source": [
    "# Sort an array of 0s, 1s and 2s \n",
    "Given an array of size N containing only 0s, 1s, and 2s; sort the array in ascending order."
   ]
  },
  {
   "cell_type": "code",
   "execution_count": 1,
   "id": "ddc85528",
   "metadata": {},
   "outputs": [
    {
     "name": "stdout",
     "output_type": "stream",
     "text": [
      "[0, 0, 0, 0, 0, 0, 1, 1, 1, 1, 1, 2, 2, 2, 2, 2, 2]\n"
     ]
    }
   ],
   "source": [
    "class solution:\n",
    "    def __init__(self, arr):\n",
    "        self.arr = arr\n",
    "        \n",
    "    def sort012(self):\n",
    "        start = 0\n",
    "        for i in range(len(self.arr)): #Sorting 0's\n",
    "            if self.arr[i] == 0: #If 0 found\n",
    "                self.arr[i], self.arr[start] = self.arr[start], self.arr[i] #Swap with higher number\n",
    "                start += 1\n",
    "\n",
    "        mid = start #Just after start we need to append 1's\n",
    "        for i in range(start, len(self.arr)): #Sorting 1's Start after 0's\n",
    "            if self.arr[i] == 1 and mid<len(self.arr): #If 1 found\n",
    "                self.arr[i], self.arr[mid] = self.arr[mid], self.arr[i] #Swap with 2\n",
    "                mid += 1\n",
    "        return self.arr\n",
    "arr = [1, 0, 2, 2, 0, 2, 2, 1, 0, 2, 0, 1, 1, 0, 1, 0, 2]\n",
    "a = solution(arr)\n",
    "print(a.sort012())"
   ]
  },
  {
   "cell_type": "markdown",
   "id": "4edffc14",
   "metadata": {},
   "source": [
    "# Move Negative\n",
    "Move all negative numbers to beginning and positive to end with constant extra space"
   ]
  },
  {
   "cell_type": "code",
   "execution_count": 2,
   "id": "8cbb948b",
   "metadata": {},
   "outputs": [
    {
     "name": "stdout",
     "output_type": "stream",
     "text": [
      "[-1, -3, -7, 4, 5, 6, 2, 8, 9]\n"
     ]
    }
   ],
   "source": [
    "class negative:\n",
    "    def moveNeg(self, arr):\n",
    "        start = 0\n",
    "        for i in range(len(arr)):\n",
    "\n",
    "            if arr[i]<0:\n",
    "                arr[i], arr[start] = arr[start], arr[i]\n",
    "                start+=1\n",
    "        return arr\n",
    "arr = [-1, 2, -3, 4, 5, 6, -7, 8, 9]\n",
    "a = negative()\n",
    "print(a.moveNeg(arr))"
   ]
  }
 ],
 "metadata": {
  "kernelspec": {
   "display_name": "Python 3",
   "language": "python",
   "name": "python3"
  },
  "language_info": {
   "codemirror_mode": {
    "name": "ipython",
    "version": 3
   },
   "file_extension": ".py",
   "mimetype": "text/x-python",
   "name": "python",
   "nbconvert_exporter": "python",
   "pygments_lexer": "ipython3",
   "version": "3.8.8"
  }
 },
 "nbformat": 4,
 "nbformat_minor": 5
}
