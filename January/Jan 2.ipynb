{
 "cells": [
  {
   "cell_type": "markdown",
   "id": "136a4359",
   "metadata": {},
   "source": [
    "# Check Number in Array\n",
    "__Given an array of length N and an integer x, you need to find if x is present in the array or not. Return true or false.__\n",
    "\n",
    "Do this recursively."
   ]
  },
  {
   "cell_type": "code",
   "execution_count": 1,
   "id": "48c15e31",
   "metadata": {},
   "outputs": [
    {
     "name": "stdout",
     "output_type": "stream",
     "text": [
      "False\n"
     ]
    }
   ],
   "source": [
    "def check_num(x, n):\n",
    "    if len(x) == 0:\n",
    "        return\n",
    "    if x[0] == n:\n",
    "        return True\n",
    "    return check_num(x[1:], n)\n",
    "\n",
    "arr = [1, 2, 3, 4, 5, 6, 7]\n",
    "n = 10\n",
    "z = check_num(arr, n)\n",
    "if z:\n",
    "    print(True)\n",
    "else:\n",
    "    print(False)"
   ]
  },
  {
   "cell_type": "markdown",
   "id": "2bf2c10f",
   "metadata": {},
   "source": [
    "# Last Index of Number - Question\n",
    "\n",
    "__Given an array of length N and an integer x, you need to find and return the first index of integer x present in the array.__\n",
    "1. Return -1 if it is not present in the array.\n",
    "2. First index means, the index of first occurrence of x in the input array.\n",
    "\n",
    "Do this recursively. Indexing in the array starts from 0."
   ]
  },
  {
   "cell_type": "code",
   "execution_count": 2,
   "id": "1ca2b0b0",
   "metadata": {},
   "outputs": [
    {
     "name": "stdout",
     "output_type": "stream",
     "text": [
      "7\n"
     ]
    }
   ],
   "source": [
    "def check_num(x, n):\n",
    "    if len(x) == 0:\n",
    "        return -1\n",
    "    if x[-1] == n:\n",
    "        return len(x) -1\n",
    "    return check_num(x[:-1], n)\n",
    "\n",
    "arr = [1, 2, 3, 4, 5, 6, 7, 1]\n",
    "n = 1\n",
    "z = check_num(arr, n)\n",
    "print(z)"
   ]
  },
  {
   "cell_type": "markdown",
   "id": "5b2aef04",
   "metadata": {},
   "source": [
    "# First Index Of Number Question\n",
    "__Given an array of length N and an integer x, you need to find and return the last index of integer x present in the array.__\n",
    "\n",
    "Return -1 if it is not present in the array.\n",
    "\n",
    "Last index means - if x is present multiple times in the array, return the index at which x comes last in the array.\n",
    "\n",
    "You should start traversing your array from 0, not from (N - 1).\n",
    "\n",
    "Do this recursively. Indexing in the array starts from 0.\n"
   ]
  },
  {
   "cell_type": "code",
   "execution_count": 3,
   "id": "dffcc419",
   "metadata": {},
   "outputs": [
    {
     "name": "stdout",
     "output_type": "stream",
     "text": [
      "8\n"
     ]
    }
   ],
   "source": [
    "def check_num(x, n):\n",
    "    if len(x) == 0:\n",
    "        return -1\n",
    "    if x[0] == n:\n",
    "        return 1\n",
    "    return 1 + check_num(x[1:], n)\n",
    "\n",
    "arr = [10, 2, 3, 4, 5, 6, 7, 1]\n",
    "n = 1\n",
    "z = check_num(arr, n)\n",
    "print(z)"
   ]
  },
  {
   "cell_type": "markdown",
   "id": "9199663b",
   "metadata": {},
   "source": [
    "# Remove X\n",
    "Given a string, compute recursively a new string where all 'x' chars have been removed."
   ]
  },
  {
   "cell_type": "code",
   "execution_count": 4,
   "id": "d3e51497",
   "metadata": {},
   "outputs": [
    {
     "name": "stdout",
     "output_type": "stream",
     "text": [
      "abcabc\n"
     ]
    }
   ],
   "source": [
    "def removeX(arr):\n",
    "    if len(arr) == 0:\n",
    "        return arr\n",
    "    if arr[0] == 'x':\n",
    "        return removeX(arr[1:])\n",
    "\n",
    "    return arr[0] + removeX(arr[1:])\n",
    "arr = 'xabcxxxabcxx'\n",
    "print(removeX(arr))"
   ]
  },
  {
   "cell_type": "markdown",
   "id": "2ce0469f",
   "metadata": {},
   "source": [
    "# Remove Duplicates Recursively\n",
    "Given a string S, remove consecutive duplicates from it recursively."
   ]
  },
  {
   "cell_type": "code",
   "execution_count": 5,
   "id": "59dcfcfd",
   "metadata": {},
   "outputs": [
    {
     "name": "stdout",
     "output_type": "stream",
     "text": [
      "xabcxabcx\n"
     ]
    }
   ],
   "source": [
    "def removeDuplicate(arr):\n",
    "    if len(arr) <= 1:\n",
    "        return arr\n",
    "    if arr[0] == arr[1]:\n",
    "        return removeDuplicate(arr[1:])\n",
    "\n",
    "    return arr[0] + removeDuplicate(arr[1:])\n",
    "arr = 'xabcxxxabcxx'\n",
    "print(removeDuplicate(arr))"
   ]
  }
 ],
 "metadata": {
  "kernelspec": {
   "display_name": "Python 3",
   "language": "python",
   "name": "python3"
  },
  "language_info": {
   "codemirror_mode": {
    "name": "ipython",
    "version": 3
   },
   "file_extension": ".py",
   "mimetype": "text/x-python",
   "name": "python",
   "nbconvert_exporter": "python",
   "pygments_lexer": "ipython3",
   "version": "3.8.8"
  }
 },
 "nbformat": 4,
 "nbformat_minor": 5
}
