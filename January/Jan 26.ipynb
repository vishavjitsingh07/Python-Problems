{
 "cells": [
  {
   "cell_type": "markdown",
   "id": "8b2ec334",
   "metadata": {},
   "source": [
    "# Triplet Sum in Array \n",
    "Given an array arr of size n and an integer X. Find if there's a triplet in the array which sums up to the given integer X."
   ]
  },
  {
   "cell_type": "code",
   "execution_count": 1,
   "id": "4039d615",
   "metadata": {},
   "outputs": [
    {
     "data": {
      "text/plain": [
       "True"
      ]
     },
     "execution_count": 1,
     "metadata": {},
     "output_type": "execute_result"
    }
   ],
   "source": [
    "def tripletSum(arr, k):\n",
    "    arr.sort() #sort the array\n",
    "    for i in range(len(arr) - 2): #since we need atleast 3 elements so len - 2\n",
    "        if arr[i]> k-1: #if I greater than k means not possible\n",
    "            break\n",
    "            \n",
    "        j = i+1\n",
    "        r = len(arr) - 1\n",
    "        while j<r:\n",
    "            if arr[i] + arr[j] + arr[r] == k: #if element found\n",
    "                return True\n",
    "            if arr[j]> k - 1: #if arr[j]> k\n",
    "                break\n",
    "            elif arr[i] > k-1: #if arr[r]> k\n",
    "                r-= 1\n",
    "            elif arr[i] + arr[j] + arr[r]> k: #If sum > k \n",
    "                r = r-1 #decrease r\n",
    "            elif arr[i] + arr[j] + arr[r] < k: #if sum < k\n",
    "                j+=1 #Increase j\n",
    "    return False \n",
    "\n",
    "k = 3\n",
    "arr = [1, 1, 2, 1, 1, 2]\n",
    "tripletSum(arr, k)"
   ]
  },
  {
   "cell_type": "markdown",
   "id": "fb9595ae",
   "metadata": {},
   "source": [
    "# Trapping Rain Water \n",
    "Given an array arr[] of N non-negative integers representing the height of blocks. If width of each block is 1, compute how much water can be trapped between the blocks during the rainy season. "
   ]
  },
  {
   "cell_type": "code",
   "execution_count": 2,
   "id": "a0b75c1c",
   "metadata": {},
   "outputs": [
    {
     "name": "stdout",
     "output_type": "stream",
     "text": [
      "[9, 9, 9, 9, 9, 9, 9, 9, 9, 9, 9, 9, 9, 9]\n",
      "[9, 7, 7, 7, 7, 7, 7, 7, 7, 7, 7, 7, 7, 7]\n",
      "0 0\n",
      "1 5\n",
      "2 12\n",
      "3 19\n",
      "4 21\n",
      "5 28\n",
      "6 35\n",
      "7 42\n",
      "8 46\n",
      "9 53\n",
      "10 60\n",
      "11 67\n",
      "12 74\n",
      "13 74\n",
      "74\n"
     ]
    }
   ],
   "source": [
    "def rainWater(arr):\n",
    "    n = len(arr)\n",
    "    left = [0]*n #right\n",
    "    right = [0]*n\n",
    "    water = 0\n",
    "    left[0] = arr[0]\n",
    "    for i in range(1, n):\n",
    "        left[i] = max(left[i-1], arr[i]) #get the list from min to max\n",
    "        \n",
    "    print(left)        \n",
    "    right[n-1] = arr[n-1]\n",
    "    for i in range(n-2, -1, -1): #get the list of max to min\n",
    "        right[i] = max(right[i + 1], arr[i]);\n",
    "        \n",
    "    print(right)\n",
    "    for i in range(0, n):\n",
    "        water += min(left[i], right[i]) - arr[i] #get the min value - block value\n",
    "        print(i, water)\n",
    "    \n",
    "    return water #return total Water\n",
    "        \n",
    "arr = [9, 2, 0, 0, 5, 0, 0, 0, 3, 0, 0, 0, 0, 7]\n",
    "print(rainWater(arr))"
   ]
  },
  {
   "cell_type": "markdown",
   "id": "1c129753",
   "metadata": {},
   "source": [
    "# Chocolate Distribution Problem\n",
    "Given an array A[ ] of positive integers of size N, where each value represents the number of chocolates in a packet. Each packet can have a variable number of chocolates. There are M students, the task is to distribute chocolate packets among M students such that :\n",
    "1. Each student gets exactly one packet.\n",
    "2. The difference between maximum number of chocolates given to a student and minimum number of chocolates given to a student is minimum."
   ]
  },
  {
   "cell_type": "code",
   "execution_count": 3,
   "id": "b278a7e8",
   "metadata": {},
   "outputs": [
    {
     "name": "stdout",
     "output_type": "stream",
     "text": [
      "[1, 17, 25, 25, 37, 38, 59, 63, 83]\n",
      "83 1 82\n"
     ]
    },
    {
     "data": {
      "text/plain": [
       "82"
      ]
     },
     "execution_count": 3,
     "metadata": {},
     "output_type": "execute_result"
    }
   ],
   "source": [
    "import sys\n",
    "def chocolate(arr, m):\n",
    "    arr.sort()\n",
    "    print(arr)\n",
    "    mindiff = sys.maxsize\n",
    "    for i in range(len(arr)-m+1):\n",
    "        newMin = arr[i+m-1] - arr[i]\n",
    "        print(arr[i+m-1], arr[i], newMin)\n",
    "        if newMin < mindiff:\n",
    "            mindiff = newMin\n",
    "    return mindiff\n",
    "arr = [17, 83, 59, 25, 38, 63, 25, 1, 37]\n",
    "m = 9\n",
    "chocolate(arr, m)"
   ]
  }
 ],
 "metadata": {
  "kernelspec": {
   "display_name": "Python 3",
   "language": "python",
   "name": "python3"
  },
  "language_info": {
   "codemirror_mode": {
    "name": "ipython",
    "version": 3
   },
   "file_extension": ".py",
   "mimetype": "text/x-python",
   "name": "python",
   "nbconvert_exporter": "python",
   "pygments_lexer": "ipython3",
   "version": "3.8.8"
  }
 },
 "nbformat": 4,
 "nbformat_minor": 5
}
