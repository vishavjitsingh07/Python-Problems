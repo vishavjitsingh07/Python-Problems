{
 "cells": [
  {
   "cell_type": "markdown",
   "id": "3d9a61b3",
   "metadata": {},
   "source": [
    "# Replace PI\n",
    "Using recursion replace 'pi' with 3.14"
   ]
  },
  {
   "cell_type": "code",
   "execution_count": 1,
   "id": "c4a3edbf",
   "metadata": {},
   "outputs": [
    {
     "name": "stdout",
     "output_type": "stream",
     "text": [
      "3.14abc3.143.14abcp3.14i3.14\n"
     ]
    }
   ],
   "source": [
    "def replacePi(arr):\n",
    "    if len(arr)<=1:\n",
    "        return arr\n",
    "    if arr[0] == 'p' and arr[1] == 'i':\n",
    "        return '3.14' + replacePi(arr[2:])\n",
    "    return arr[0]+ replacePi(arr[1:])\n",
    "arr = 'piabcpipiabcppiipi'\n",
    "print(replacePi(arr))"
   ]
  },
  {
   "cell_type": "markdown",
   "id": "c879cd59",
   "metadata": {},
   "source": [
    "# Binary Search\n",
    "Use recursion to get the binary search of number"
   ]
  },
  {
   "cell_type": "code",
   "execution_count": 2,
   "id": "20cefcd0",
   "metadata": {},
   "outputs": [
    {
     "name": "stdout",
     "output_type": "stream",
     "text": [
      "8\n"
     ]
    }
   ],
   "source": [
    "def BinarySearchHelper(arr, x, start , end):\n",
    "    if start>end:\n",
    "        return -1\n",
    "    mid = (start+end)//2\n",
    "    if arr[mid] == x:\n",
    "        return mid\n",
    "    elif arr[mid] > x:\n",
    "        return BinarySearchHelper(arr, x, start, mid-1)\n",
    "    else:\n",
    "        return BinarySearchHelper(arr, x, mid+1, end)\n",
    "    \n",
    "def BinarySearch(arr, x):\n",
    "    return BinarySearchHelper(arr, x, 0, len(arr))\n",
    "    \n",
    "arr = [1, 2, 3, 4, 5, 6, 7, 8, 9]\n",
    "valueToSeacrh = 9\n",
    "print(BinarySearch(arr, valueToSeacrh))"
   ]
  },
  {
   "cell_type": "markdown",
   "id": "6d0f2786",
   "metadata": {},
   "source": [
    "# Merge Sort\n",
    "Write a algorithm for merge sort"
   ]
  },
  {
   "cell_type": "code",
   "execution_count": 3,
   "id": "7df02c28",
   "metadata": {},
   "outputs": [
    {
     "name": "stdout",
     "output_type": "stream",
     "text": [
      "[1, 1, 2, 3, 4, 5, 6, 7, 8]\n"
     ]
    }
   ],
   "source": [
    "def merging(a1, a2, a):\n",
    "    i = 0\n",
    "    j = 0\n",
    "    k = 0\n",
    "    while i<len(a1) and j<len(a2):\n",
    "        if a1[i]< a2[j]:\n",
    "            a[k] = a1[i]\n",
    "            k+=1\n",
    "            i+=1\n",
    "            \n",
    "        else:\n",
    "            a[k] = a2[j]\n",
    "            j+= 1\n",
    "            k+= 1\n",
    "    while i< len(a1):\n",
    "        a[k] = a1[i]\n",
    "        i+= 1\n",
    "        k+= 1\n",
    "\n",
    "    while j< len(a2):\n",
    "        a[k] = a2[j]\n",
    "        j+= 1\n",
    "        k+= 1\n",
    "            \n",
    "def mergeSort(a):\n",
    "    if len(a) <= 1:\n",
    "        return a\n",
    "    mid = len(a)//2\n",
    "    a1 = a[:mid]\n",
    "    a2 = a[mid:]\n",
    "    mergeSort(a1)\n",
    "    mergeSort(a2)\n",
    "    merging(a1, a2, a)\n",
    "    return a\n",
    "\n",
    "arr = [1, 8, 7, 6, 5, 4, 3, 2, 1]\n",
    "print(mergeSort(arr))"
   ]
  },
  {
   "cell_type": "markdown",
   "id": "dfe30f66",
   "metadata": {},
   "source": [
    "# Quick Sort\n",
    "Write a algorithm for quick sort"
   ]
  },
  {
   "cell_type": "code",
   "execution_count": 4,
   "id": "4ba8e919",
   "metadata": {},
   "outputs": [
    {
     "name": "stdout",
     "output_type": "stream",
     "text": [
      "[1, 1, 2, 3, 4, 5, 6, 7, 8]\n"
     ]
    }
   ],
   "source": [
    "def part(a, start, end):\n",
    "    pivot = a[start]\n",
    "    c = 0\n",
    "    for i in range(start, end+1):\n",
    "        if a[i]< pivot:\n",
    "            c+= 1\n",
    "    a[start + c], a[start] = a[start], a[start + c]\n",
    "    pivot_index = start + c\n",
    "    i = start\n",
    "    j = end\n",
    "    while i<j:\n",
    "        if a[i]< pivot:\n",
    "            i+= 1\n",
    "            \n",
    "        elif a[j] >= pivot:\n",
    "            j = j-1\n",
    "        else:\n",
    "            a[i], a[j] = a[j], a[i]\n",
    "            i += 1\n",
    "            j -= 1\n",
    "    return pivot_index\n",
    "\n",
    "def quickSortHelper(arr, start, end):\n",
    "    if start >= end:\n",
    "        return\n",
    "    pivot_index = part(arr, start, end)\n",
    "    quickSortHelper(arr, start, pivot_index - 1)\n",
    "    quickSortHelper(arr, pivot_index+1, end)\n",
    "    return arr\n",
    "    \n",
    "def quickSort(arr):\n",
    "    return quickSortHelper(arr, 0, len(arr) - 1)\n",
    "    \n",
    "arr = [1, 8, 7, 6, 5, 4, 3, 2, 1]\n",
    "print(quickSort(arr))"
   ]
  },
  {
   "cell_type": "markdown",
   "id": "88fa2899",
   "metadata": {},
   "source": [
    "# Tower of Hanoi\n",
    "Tower of Hanoi is a mathematical puzzle where we have three rods and n disks. The objective of the puzzle is to move all disks from source rod to destination rod using third rod (say auxiliary). The rules are :\n",
    "1. Only one disk can be moved at a time.\n",
    "2. A disk can be moved only if it is on the top of a rod.\n",
    "3. No disk can be placed on the top of a smaller disk.\n",
    "\n",
    "Print the steps required to move n disks from source rod to destination rod.\n",
    "\n",
    "Source Rod is named as 'a', auxiliary rod as 'b' and destination rod as 'c'."
   ]
  },
  {
   "cell_type": "code",
   "execution_count": 5,
   "id": "532fc98a",
   "metadata": {},
   "outputs": [
    {
     "name": "stdout",
     "output_type": "stream",
     "text": [
      "a b\n",
      "a c\n",
      "b c\n"
     ]
    }
   ],
   "source": [
    "def towerOfHanoi(n, a, b, c):\n",
    "    if n == 0:\n",
    "        return \n",
    "    if n == 1:\n",
    "        print(a, c)\n",
    "        return \n",
    "    towerOfHanoi(n-1, a, c, b)\n",
    "    print(a, c)\n",
    "    towerOfHanoi(n-1, b, a, c)\n",
    "    \n",
    "n = 2\n",
    "towerOfHanoi(n, 'a', 'b', 'c')"
   ]
  }
 ],
 "metadata": {
  "kernelspec": {
   "display_name": "Python 3",
   "language": "python",
   "name": "python3"
  },
  "language_info": {
   "codemirror_mode": {
    "name": "ipython",
    "version": 3
   },
   "file_extension": ".py",
   "mimetype": "text/x-python",
   "name": "python",
   "nbconvert_exporter": "python",
   "pygments_lexer": "ipython3",
   "version": "3.8.8"
  }
 },
 "nbformat": 4,
 "nbformat_minor": 5
}
