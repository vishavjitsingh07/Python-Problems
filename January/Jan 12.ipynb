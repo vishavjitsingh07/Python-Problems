{
 "cells": [
  {
   "cell_type": "markdown",
   "id": "af92f79a",
   "metadata": {},
   "source": [
    "# Union of two arrays \n",
    "Given two arrays a[] and b[] of size n and m respectively. The task is to find union between these two arrays.\n",
    "\n",
    "Union of the two arrays can be defined as the set containing distinct elements from both the arrays. If there are repetitions, then only one occurrence of element should be printed in the union."
   ]
  },
  {
   "cell_type": "code",
   "execution_count": 1,
   "id": "f91ac119",
   "metadata": {},
   "outputs": [
    {
     "name": "stdout",
     "output_type": "stream",
     "text": [
      "Iterative Approach:  6\n",
      "Using Inbuilt Sets:  6\n"
     ]
    }
   ],
   "source": [
    "#MY approch\n",
    "def union(a, b):\n",
    "    arr = []\n",
    "    for i in a: #Iterate in a\n",
    "        for j in b: #iterate in b\n",
    "            if i not in arr: #Checking in other array\n",
    "                arr.append(i)\n",
    "            if j not in arr: #Checking in arr2 \n",
    "                arr.append(j)\n",
    "    return len(arr)\n",
    "a = [1, 2, 3, 4, 5]\n",
    "b = [1, 2, 3, 6]\n",
    "print(\"Iterative Approach: \", union(a, b))\n",
    "c = set(a+b)\n",
    "print('Using Inbuilt Sets: ', len(c)) #inbuilt Sets in python"
   ]
  },
  {
   "cell_type": "markdown",
   "id": "9dfedc36",
   "metadata": {},
   "source": [
    "# Cyclically rotate\n",
    "Given an array, rotate the array by one position in clock-wise direction."
   ]
  },
  {
   "cell_type": "code",
   "execution_count": 2,
   "id": "4b6e9d33",
   "metadata": {},
   "outputs": [
    {
     "name": "stdout",
     "output_type": "stream",
     "text": [
      "[6, 0, 1, 2, 3, 4, 5]\n"
     ]
    }
   ],
   "source": [
    "def rotation(arr):\n",
    "    abc = arr[-1] #Saving the last index\n",
    "    for i in range(len(arr)-1, -1, -1): #Run a loop in backward\n",
    "        arr[i] =  arr[i-1]\n",
    "    arr[0] = abc #Changing 1st element\n",
    "    return arr #return arr\n",
    "arr = [0, 1, 2, 3, 4, 5, 6]# [6, 0, 1, 2, 3, 4, 5]\n",
    "print(rotation(arr))"
   ]
  },
  {
   "cell_type": "markdown",
   "id": "21a830f1",
   "metadata": {},
   "source": [
    "# Kadane's Algorithm \n",
    "Given an array Arr[] of N integers. Find the contiguous sub-array(containing at least one number) which has the maximum sum and return its sum."
   ]
  },
  {
   "cell_type": "code",
   "execution_count": 3,
   "id": "a7059eeb",
   "metadata": {},
   "outputs": [
    {
     "name": "stdout",
     "output_type": "stream",
     "text": [
      "([-1], -1)\n"
     ]
    }
   ],
   "source": [
    "import sys\n",
    "def sumSubString(arr): #Create set of substring\n",
    "    maxSum = -sys.maxsize    #Intially values\n",
    "    for i in range(len(arr)):\n",
    "        for j in range(i+1, len(arr)+1): #Finding the subsets\n",
    "            a = sum(arr[i:j]) #Sum of each subset\n",
    "            if a > maxSum: #If max found\n",
    "                maxSum = a #Get max\n",
    "                arr2 = arr[i:j] #Get array\n",
    "    return arr2, maxSum\n",
    "arr = [-1, -2, -3, -2, -5]\n",
    "print(sumSubString(arr))"
   ]
  }
 ],
 "metadata": {
  "kernelspec": {
   "display_name": "Python 3",
   "language": "python",
   "name": "python3"
  },
  "language_info": {
   "codemirror_mode": {
    "name": "ipython",
    "version": 3
   },
   "file_extension": ".py",
   "mimetype": "text/x-python",
   "name": "python",
   "nbconvert_exporter": "python",
   "pygments_lexer": "ipython3",
   "version": "3.8.8"
  }
 },
 "nbformat": 4,
 "nbformat_minor": 5
}
