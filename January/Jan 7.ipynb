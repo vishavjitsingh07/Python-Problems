{
 "cells": [
  {
   "cell_type": "markdown",
   "id": "ca8013ca",
   "metadata": {},
   "source": [
    "# Print Increasing Decreasing\n",
    "1. You are given a positive number n. \n",
    "2. You are required to print the counting from n to 1 and back to n again.\n",
    "3. You are required to not use any loops. Complete the body of pdi function to achieve it. Don't change the signature of the function."
   ]
  },
  {
   "cell_type": "code",
   "execution_count": 4,
   "id": "c31b9c5a",
   "metadata": {},
   "outputs": [
    {
     "name": "stdout",
     "output_type": "stream",
     "text": [
      "0\n",
      "1\n",
      "2\n",
      "3\n"
     ]
    }
   ],
   "source": [
    "def printIncDec(n):\n",
    "    if(n==0):\n",
    "        print(n)\n",
    "        return\n",
    "    print(n)\n",
    "    printIncDec(n-1);\n",
    "    print(n)\n",
    "\n",
    "n = 3\n",
    "printIncDec(n)"
   ]
  },
  {
   "cell_type": "markdown",
   "id": "54342644",
   "metadata": {},
   "source": [
    "# Print Zigzag\n",
    "1. Here are a few sets of inputs and outputs for your reference\n",
    "Input1 -> 1\n",
    "Output1 -> 1 1 1\n",
    "\n",
    "Input2 -> 2\n",
    "Output2 -> 2 1 1 1 2 1 1 1 2\n",
    "\n",
    "Input2 -> 3\n",
    "Output3 -> 3 2 1 1 1 2 1 1 1 2 3 2 1 1 1 2 1 1 1 2 3\n",
    "\n"
   ]
  },
  {
   "cell_type": "code",
   "execution_count": 30,
   "id": "58875610",
   "metadata": {},
   "outputs": [
    {
     "name": "stdout",
     "output_type": "stream",
     "text": [
      "3\n",
      "3 2 1 1 1 2 1 1 1 2 3 2 1 1 1 2 1 1 1 2 3 "
     ]
    }
   ],
   "source": [
    "def printZigZag(n):\n",
    "    if(n==0):\n",
    "        return\n",
    "    print(n,end = ' ')\n",
    "    printZigZag(n-1)\n",
    "    print(n,end = ' ')\n",
    "    printZigZag(n-1)\n",
    "    print(n,end = ' ')\n",
    "\n",
    "\n",
    "num = int(input())\n",
    "printZigZag(num)"
   ]
  },
  {
   "cell_type": "code",
   "execution_count": 29,
   "id": "d5950acb",
   "metadata": {},
   "outputs": [
    {
     "name": "stdout",
     "output_type": "stream",
     "text": [
      "1[10 -> 11]\n",
      "2[10 -> 12]\n",
      "1[12 -> 10]\n",
      "3[10 -> 11]\n",
      "1[11 -> 12]\n",
      "2[11 -> 10]\n",
      "1[10 -> 11]\n"
     ]
    }
   ],
   "source": [
    "def towerOfHonoi(n, a, b, c):\n",
    "    if n<=0:\n",
    "        #print(str(n) + '[' + a, '->', b + ']')\n",
    "        return\n",
    "    towerOfHonoi(n-1, a, c, b)\n",
    "    print(str(n) + '[' + a, '->', b + ']')\n",
    "    towerOfHonoi(n-1, b, a, c)\n",
    "    #print(str(n) + '[' + b, '->', a + ']')\n",
    "    return\n",
    "\n",
    "\n",
    "n = 3\n",
    "a = '10'\n",
    "b = '11'\n",
    "c = '12'\n",
    "towerOfHonoi(n, a, b, c)"
   ]
  },
  {
   "cell_type": "code",
   "execution_count": null,
   "id": "6816d6cd",
   "metadata": {},
   "outputs": [],
   "source": []
  }
 ],
 "metadata": {
  "kernelspec": {
   "display_name": "Python 3",
   "language": "python",
   "name": "python3"
  },
  "language_info": {
   "codemirror_mode": {
    "name": "ipython",
    "version": 3
   },
   "file_extension": ".py",
   "mimetype": "text/x-python",
   "name": "python",
   "nbconvert_exporter": "python",
   "pygments_lexer": "ipython3",
   "version": "3.8.8"
  }
 },
 "nbformat": 4,
 "nbformat_minor": 5
}
