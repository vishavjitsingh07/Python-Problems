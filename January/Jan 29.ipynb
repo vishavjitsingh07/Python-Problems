{
 "cells": [
  {
   "cell_type": "markdown",
   "id": "cd7e5621",
   "metadata": {},
   "source": [
    "# Median of two sorted arrays of same size\n",
    " \n",
    "There are 2 sorted arrays A and B of size n each. Write an algorithm to find the median of the array obtained after merging the above 2 arrays(i.e. array of length 2n). The complexity should be O(log(n)). "
   ]
  },
  {
   "cell_type": "code",
   "execution_count": 1,
   "id": "29a49d38",
   "metadata": {
    "scrolled": true
   },
   "outputs": [
    {
     "name": "stdout",
     "output_type": "stream",
     "text": [
      "6\n"
     ]
    },
    {
     "data": {
      "text/plain": [
       "13"
      ]
     },
     "execution_count": 1,
     "metadata": {},
     "output_type": "execute_result"
    }
   ],
   "source": [
    "def median(arr): #Func to find the median\n",
    "    n = len(arr) #get the len of arr\n",
    "    if n%2 == 0: #Median of even len\n",
    "        return (arr[n//2 - 1] + arr[n//2])//2\n",
    "    else: #median of odd len\n",
    "        return arr[n//2]\n",
    "#O(time to sort the array ) or O(nlogn)\n",
    "def medianoFTwoArr(arr1, arr2): #Get the median  of two array\n",
    "    arr = arr1 + arr2 #Get a common array\n",
    "    arr.sort() #sort the array\n",
    "    return median(arr) #retun median\n",
    "\n",
    "def medianoFTwoArr2(arr1, arr2):\n",
    "    n = len(arr1)\n",
    "    #base Case:\n",
    "    if n == 0: #N=0 mean no value found\n",
    "        return -1\n",
    "    if n == 1: #Center two elements or two median element\n",
    "        return (arr1[0] + arr2[0])//2\n",
    "    if n == 2: #last 4 elements will retrun the final result\n",
    "        return (min(arr1[1], arr2[1]) + max(arr1[0], arr2[0])//2)\n",
    "    \n",
    "    m1 = median(arr1) #get median of arr1\n",
    "    m2 = median(arr2) #get median of arr2\n",
    "    if m1>m2: #it means media of two array lie in arr2\n",
    "        if n%2 == 0: #even values\n",
    "            return medianoFTwoArr2(arr1[:n//2 + 1], arr2[n//2 - 1: ]) #Split it into next two parts\n",
    "        else: #odd value of N\n",
    "            return medianoFTwoArr2(arr1[:n//2], arr2[n//2 + 1:])\n",
    "    else:#Median lie in 1st array\n",
    "        if n%2 == 0:#Even Array\n",
    "            return medianoFTwoArr2(arr2[:n//2 + 1], arr1[n//2 - 1: ])\n",
    "        else: #odd array\n",
    "            return medianoFTwoArr2(arr2[:n//2], arr1[n//2 + 1:])\n",
    "    \n",
    "    \n",
    "a = [1, 2, 3, 4, 5, 20]\n",
    "b = [6, 7, 8, 9, 10, 11]\n",
    "print(medianoFTwoArr(a, b))\n",
    "medianoFTwoArr2(a, b)"
   ]
  },
  {
   "cell_type": "code",
   "execution_count": 2,
   "id": "fab2c89f",
   "metadata": {},
   "outputs": [
    {
     "name": "stdout",
     "output_type": "stream",
     "text": [
      "7 [1, 2, 3, 4, 5, 20] 2 [6, 7, 8, 9, 10, 11, 1, 3, 5] 5\n",
      "7 [1, 2, 3, 4, 5, 20] 3 [6, 7, 8, 9, 10, 11, 1, 3, 5] 6\n",
      "7 [1, 2, 3, 4, 5, 20] 2 [6, 7, 8, 9, 10, 11, 1, 3, 5] 5\n",
      "7 [1, 2, 3, 4, 5, 20] 4 [6, 7, 8, 9, 10, 11, 1, 3, 5] 7\n",
      "7 [1, 2, 3, 4, 5, 20] 2 [6, 7, 8, 9, 10, 11, 1, 3, 5] 5\n",
      "7 [1, 2, 3, 4, 5, 20] 3 [6, 7, 8, 9, 10, 11, 1, 3, 5] 6\n",
      "7 [1, 2, 3, 4, 5, 20] 2 [6, 7, 8, 9, 10, 11, 1, 3, 5] 5\n",
      "7\n"
     ]
    }
   ],
   "source": [
    "def MO2(a, b) :\n",
    "    return (a + b) // 2\n",
    "\n",
    "def MO3(a, b, c) :\n",
    "    return a + b + c - max(a, b, c) - min(a, b, c)\n",
    "\n",
    "def MO4(a, b, c, d) :\n",
    "    Max = max( a, b, c, d)\n",
    "    Min = min(a, b, c, d)\n",
    "    return ( a + b + c + d - Max - Min ) // 2\n",
    "\n",
    "\n",
    "def medianSingle(arr, n) :\n",
    "    if (n == 0) :\n",
    "        return -1\n",
    "    if (n % 2 == 0) :\n",
    "        return (arr[n // 2] + arr[n // 2 - 1]) // 2\n",
    "    \n",
    "    return arr[n // 2]\n",
    "\n",
    "def findMedianUtil(A, N, B, M) :\n",
    "    if (N == 0) :\n",
    "        return medianSingle(B, M)\n",
    "    if (N == 1) :\n",
    "        if (M == 1) :\n",
    "            return MO2(A[0], B[0])\n",
    "        if (M & 1 != 0) :\n",
    "            return MO2( B[M // 2], MO3(A[0], B[M // 2 - 1], B[M // 2 + 1]) )\n",
    "        return MO3(B[M // 2], B[M // 2 - 1], A[0])\n",
    "    elif (N == 2) :\n",
    "        if (M == 2) :\n",
    "            return MO4(A[0], A[1], B[0], B[1])\n",
    "        if (M & 1 != 0) :\n",
    "            return MO3 (B[M // 2], max(A[0], B[M // 2 - 1]), min(A[1], B[M // 2 + 1]))\n",
    "\n",
    "        return MO4 (B[M // 2], B[M // 2 - 1], max( A[0], B[M // 2 - 2] ), min( A[1], B[M // 2 + 1] ))\n",
    "\n",
    "    idxA = ( N - 1 ) // 2\n",
    "    idxB = ( M - 1 ) // 2\n",
    "#     print(A+idxA)\n",
    "    if (A[idxA] <= B[idxB] ) :\n",
    "        print(findMedianUtil(A , N // 2+1 , B, M - idxA ), A, N // 2 + 1, B, M - idxA )\n",
    "        return findMedianUtil(A , N // 2 + 1, B, M - idxA )\n",
    "    print(findMedianUtil(A, N // 2 + 1, B , M - idxA ), A, N // 2 + 1, B, M - idxA)\n",
    "    return findMedianUtil(A, N // 2 + 1, B , M - idxA )\n",
    "\n",
    "def findMedian(A, N, B, M) :\n",
    "    if (N > M) :\n",
    "        return findMedianUtil( B, M, A, N );\n",
    "    return findMedianUtil( A, N, B, M )\n",
    "\n",
    "a = [1, 2, 3, 4, 5, 20]\n",
    "b = [6, 7, 8, 9, 10, 11, 1, 3, 5]\n",
    "\n",
    "N = len(a)\n",
    "M = len(b)\n",
    "\n",
    "print(findMedian(a, N, b, M ))\n"
   ]
  },
  {
   "cell_type": "code",
   "execution_count": 3,
   "id": "a4da26c9",
   "metadata": {},
   "outputs": [],
   "source": [
    "#median of two arrays either with same lenght or diff length \n",
    "def medianOfArr(arr1, arr2):\n",
    "    arr = arr1 + arr2\n",
    "    arr.sort()\n",
    "    return median(arr)"
   ]
  }
 ],
 "metadata": {
  "kernelspec": {
   "display_name": "Python 3",
   "language": "python",
   "name": "python3"
  },
  "language_info": {
   "codemirror_mode": {
    "name": "ipython",
    "version": 3
   },
   "file_extension": ".py",
   "mimetype": "text/x-python",
   "name": "python",
   "nbconvert_exporter": "python",
   "pygments_lexer": "ipython3",
   "version": "3.8.8"
  }
 },
 "nbformat": 4,
 "nbformat_minor": 5
}
