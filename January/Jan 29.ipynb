{
 "cells": [
  {
   "cell_type": "markdown",
   "id": "882f3a66",
   "metadata": {},
   "source": [
    "# Spirally traversing a matrix\n",
    "Given a matrix of size r*c. Traverse the matrix in spiral form."
   ]
  },
  {
   "cell_type": "code",
   "execution_count": 1,
   "id": "2b6e78ad",
   "metadata": {},
   "outputs": [
    {
     "name": "stdout",
     "output_type": "stream",
     "text": [
      "1 2 3 4 \n",
      "5 6 7 8 \n",
      "9 10 11 12 \n",
      "13 14 15 16 \n",
      "===========================\n",
      "\n",
      "Forward\n",
      "1 2 3 4 \n",
      "Downward\n",
      "8 12 16 \n",
      "Backward\n",
      "15 14 13 \n",
      "Upward\n",
      "9 5 \n",
      "Forward\n",
      "6 7 \n",
      "Downward\n",
      "11 \n",
      "Backward\n",
      "10 "
     ]
    }
   ],
   "source": [
    "def spiral2(mat):\n",
    "    n = len(mat) #Number of rows\n",
    "    m = len(mat[0]) #Number of columns \n",
    "    \n",
    "    #original Matrix\n",
    "    for i in range(n):\n",
    "        for j in range(m):\n",
    "            print(mat[i][j], end = ' ')\n",
    "        print()\n",
    "    print(\"===========================\") #sepration between two matrix\n",
    "    #Spiral Matrix\n",
    "    \n",
    "    rowStarting = 0 #starting point\n",
    "    colStarting = 0 #starting column\n",
    "    rowEnding = n - 1\n",
    "    colEnding = m - 1\n",
    "    \n",
    "    if m%2 == 0:\n",
    "        rem = 1\n",
    "    else:\n",
    "        rem = 0\n",
    "        \n",
    "    for i in range(2*n - rem): #Equation number of time to run \n",
    "        if i%4==0: #First iteration go straight forward\n",
    "            j = colStarting\n",
    "            print('\\nForward')\n",
    "            while j <= colEnding:#From starting of column to end of column              \n",
    "                print(mat[rowStarting][j], end = ' ')\n",
    "                j+=1\n",
    "            rowStarting+=1\n",
    "            \n",
    "        if i%4 == 1: #2nd iteration downward\n",
    "            j = rowStarting\n",
    "            print('\\nDownward')\n",
    "            while j <= rowEnding:#starting from start row to last row        \n",
    "                print(mat[j][colEnding], end = ' ')\n",
    "                j+=1\n",
    "            colEnding-=1\n",
    "            \n",
    "        if i%4 == 2: #3rd iteration backward\n",
    "            j = colEnding\n",
    "            print('\\nBackward')\n",
    "            while j >= colStarting: #starting from last column to first colum\n",
    "                print(mat[rowEnding][j], end = ' ')\n",
    "                j-=1\n",
    "            rowEnding-=1\n",
    "        \n",
    "        if i%4 == 3:#Forth iteration upward\n",
    "            j = rowEnding\n",
    "            print('\\nUpward')\n",
    "            while j >= rowStarting: #starting from last row till 2nd row as first is already covered\n",
    "                print(mat[j][colStarting], end = ' ')\n",
    "                j-=1\n",
    "            colStarting+=1\n",
    "               \n",
    "    \n",
    "mat = [[1, 2, 3, 4], [5, 6, 7, 8], [9, 10, 11, 12], [13, 14, 15, 16]]\n",
    "spiral2(mat)"
   ]
  },
  {
   "cell_type": "markdown",
   "id": "02d5dc32",
   "metadata": {},
   "source": [
    "Search a 2D Matrix\n",
    "\n",
    "Write an efficient algorithm that searches for a value target in an m x n integer matrix matrix. This matrix has the following properties:\n",
    "\n",
    "Integers in each row are sorted from left to right.\n",
    "The first integer of each row is greater than the last integer of the previous row."
   ]
  },
  {
   "cell_type": "code",
   "execution_count": 2,
   "id": "a7564c54",
   "metadata": {},
   "outputs": [
    {
     "name": "stdout",
     "output_type": "stream",
     "text": [
      "True\n"
     ]
    }
   ],
   "source": [
    "#Binary Search\n",
    "def binarySearch(arr, k):\n",
    "    mid = len(arr)//2\n",
    "    half1 = arr[mid:]\n",
    "    half2 = arr[mid:]\n",
    "    midEle = arr[mid]\n",
    "    start = 0\n",
    "    end = len(arr)\n",
    "    if k == arr[mid]:\n",
    "#         print('Element found', k)\n",
    "        return True\n",
    "    \n",
    "    elif len(arr) == 1:\n",
    "        return False\n",
    "    \n",
    "    elif k>midEle:\n",
    "        return binarySearch(arr[mid:], k)\n",
    "    elif k<midEle:\n",
    "        return binarySearch(arr[:mid], k)\n",
    "    \n",
    "def searchInMatrix(mat, k):\n",
    "    m = len(mat) #rows\n",
    "    n = len(mat[0])#columns\n",
    "    \n",
    "    if mat[0][0]>k or mat[m-1][n-1]<k:#if k is smaller than first value or greater than last value so it is not in matrix\n",
    "        return False\n",
    "    \n",
    "    for i in range(m): #Iterate over columns\n",
    "        if k >= mat[i][0] and k <= mat[i][m-1]: #If k lie in \n",
    "            return binarySearch(mat[i], k)\n",
    "    return False\n",
    "\n",
    "mat = [[1, 2, 3, 4], [5, 6, 7, 8], [9, 10, 11, 12], [13, 14, 15, 17]]\n",
    "eleToSearch = 2\n",
    "print(searchInMatrix(mat, eleToSearch))"
   ]
  },
  {
   "cell_type": "markdown",
   "id": "b3096240",
   "metadata": {},
   "source": [
    "# Median in a row-wise sorted Matrix \n",
    "Given a row wise sorted matrix of size RxC where R and C are always odd, find the median of the matrix."
   ]
  },
  {
   "cell_type": "code",
   "execution_count": 3,
   "id": "516bf434",
   "metadata": {},
   "outputs": [
    {
     "name": "stdout",
     "output_type": "stream",
     "text": [
      "8\n"
     ]
    }
   ],
   "source": [
    "#function to get the median\n",
    "def median(arr):\n",
    "    n = len(arr)\n",
    "    mid = n//2\n",
    "    if n%2 ==1:\n",
    "        return arr[mid]\n",
    "    else:\n",
    "        return (arr[mid] + arr[mid - 1])//2        \n",
    "        \n",
    "def medianMatrix(mat):#\n",
    "    arr = []\n",
    "    #Making it 1D\n",
    "    for i in mat: \n",
    "        for j in i:\n",
    "            arr.append(j)\n",
    "    arr.sort()\n",
    "    return median(arr) #Get the median\n",
    "\n",
    "\n",
    "mat = [[1, 2, 3, 4], [5, 6, 7, 8], [9, 10, 11, 12], [13, 14, 15, 16]]\n",
    "print(medianMatrix(mat))"
   ]
  }
 ],
 "metadata": {
  "kernelspec": {
   "display_name": "Python 3",
   "language": "python",
   "name": "python3"
  },
  "language_info": {
   "codemirror_mode": {
    "name": "ipython",
    "version": 3
   },
   "file_extension": ".py",
   "mimetype": "text/x-python",
   "name": "python",
   "nbconvert_exporter": "python",
   "pygments_lexer": "ipython3",
   "version": "3.8.8"
  }
 },
 "nbformat": 4,
 "nbformat_minor": 5
}
