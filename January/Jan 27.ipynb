{
 "cells": [
  {
   "cell_type": "markdown",
   "id": "c222e8ad",
   "metadata": {},
   "source": [
    "# Smallest subarray with sum greater than a given value\n",
    "Given an array of integers and a number x, find the smallest subarray with sum greater than the given value. "
   ]
  },
  {
   "cell_type": "code",
   "execution_count": 1,
   "id": "97c633e7",
   "metadata": {},
   "outputs": [
    {
     "name": "stdout",
     "output_type": "stream",
     "text": [
      "4\n"
     ]
    },
    {
     "data": {
      "text/plain": [
       "4"
      ]
     },
     "execution_count": 1,
     "metadata": {},
     "output_type": "execute_result"
    }
   ],
   "source": [
    "#O(n^2) get all the substring and find sum\n",
    "def smallerArrsum(arr, k):\n",
    "    maxLen = float('inf')\n",
    "    for i in range(len(arr)):\n",
    "        for j in  range(i+1,len(arr)+1): #Get all substring\n",
    "            if sum(arr[i:j]) >= k and j-i < maxLen: #if sum>k and min leng\n",
    "                maxLen = j-i#Update Len\n",
    "                \n",
    "    if maxLen == float('inf'): #No sum not possible return -1\n",
    "        return -1\n",
    "    \n",
    "    return maxLen\n",
    "\n",
    "def smallestSubWithSum(arr, x): \n",
    "    n = len(arr) #Len of array\n",
    "    curr_sum = 0 #curr sum\n",
    "    min_len = float('inf') #Min lenght\n",
    "    start = 0 #Start Array\n",
    "    end = 0#end Array\n",
    "    while (end < n): #If end complete the array\n",
    "        while (curr_sum <= x and end < n): #if currsum <x increase end and add latest value in sum\n",
    "            curr_sum += arr[end]\n",
    "            end += 1\n",
    "        while (curr_sum >= x and start < n): #if currsum> x then decrease the first value if it still gives max\n",
    "            if (end - start < min_len): #if new min value found return\n",
    "                min_len = end - start\n",
    "            curr_sum -= arr[start]\n",
    "            start += 1 #Increase start\n",
    "            \n",
    "    if min_len == float('inf'):\n",
    "        return -1\n",
    "    return min_len\n",
    "\n",
    "arr = [1, 11, 100, 1, 0, 200, 3, 2, 1, 250]\n",
    "k = 280\n",
    "print(smallestSubWithSum(arr, k))\n",
    "smallerArrsum(arr, k)"
   ]
  },
  {
   "cell_type": "markdown",
   "id": "276aac85",
   "metadata": {},
   "source": [
    "# Minimum swaps and K together \n",
    "Given an array arr of n positive integers and a number k. One can apply a swap operation on the array any number of times, i.e choose any two index i and j (i < j) and swap arr[i] , arr[j] . Find the minimum number of swaps required to bring all the numbers less than or equal to k together, i.e. make them a contiguous subarray."
   ]
  },
  {
   "cell_type": "code",
   "execution_count": 2,
   "id": "3bd46be9",
   "metadata": {},
   "outputs": [
    {
     "name": "stdout",
     "output_type": "stream",
     "text": [
      "5\n"
     ]
    }
   ],
   "source": [
    "def minSwap2(arr, k) :\n",
    "    n = len(arr)\n",
    "    count = 0\n",
    "    for i in range(0, n) :\n",
    "        if (arr[i] <= k) :\n",
    "            count = count + 1\n",
    "            \n",
    "    bad = 0\n",
    "    for i in range(0, count) :\n",
    "        if (arr[i] > k) :\n",
    "            bad = bad + 1\n",
    "            \n",
    "    ans = bad\n",
    "    j = count\n",
    "    for i in range(0, n-j) :\n",
    "#         if(j == n) :\n",
    "#             break\n",
    "        if (arr[i] > k) :\n",
    "            bad = bad - 1\n",
    "        if (arr[j] > k) :\n",
    "            bad = bad + 1\n",
    "        ans = min(ans, bad)\n",
    "        \n",
    "        j = j + 1\n",
    "        \n",
    "    return ans\n",
    "\n",
    "arr = [1, 2, 3, 4, 5, 6, 7,8, 7, 6, 4, 3, 2, 1, 10, 5]\n",
    "k = 5\n",
    "print(minSwap2(arr, k))"
   ]
  }
 ],
 "metadata": {
  "kernelspec": {
   "display_name": "Python 3",
   "language": "python",
   "name": "python3"
  },
  "language_info": {
   "codemirror_mode": {
    "name": "ipython",
    "version": 3
   },
   "file_extension": ".py",
   "mimetype": "text/x-python",
   "name": "python",
   "nbconvert_exporter": "python",
   "pygments_lexer": "ipython3",
   "version": "3.8.8"
  }
 },
 "nbformat": 4,
 "nbformat_minor": 5
}
