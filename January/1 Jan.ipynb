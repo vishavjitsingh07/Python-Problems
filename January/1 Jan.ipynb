{
 "cells": [
  {
   "cell_type": "markdown",
   "id": "fc97f865",
   "metadata": {},
   "source": [
    "# Power Of A Number\n",
    "__Write a program to find x to the power n (i.e. x^n). Take x and n from the user. You need to print the answer Solving with recusrion.__"
   ]
  },
  {
   "cell_type": "code",
   "execution_count": 1,
   "id": "f118f33b",
   "metadata": {},
   "outputs": [],
   "source": [
    "from sys import setrecursionlimit\n",
    "setrecursionlimit(22000)"
   ]
  },
  {
   "cell_type": "code",
   "execution_count": 2,
   "id": "df59114e",
   "metadata": {},
   "outputs": [
    {
     "name": "stdout",
     "output_type": "stream",
     "text": [
      "3 4\n",
      "81\n"
     ]
    }
   ],
   "source": [
    "def power(x, n):\n",
    "    if n <= 0:\n",
    "        return 0\n",
    "    elif n == 1:\n",
    "        return x\n",
    "    return x * power(x, n-1)\n",
    "    \n",
    "x, n = [int(i) for i in input().split()]\n",
    "print(power(x, n))"
   ]
  },
  {
   "cell_type": "markdown",
   "id": "8872c14e",
   "metadata": {},
   "source": [
    "# Sum Of Array\n",
    "Given an array of length N, you need to find and return the sum of all elements of the array.\n",
    "Do this recursively."
   ]
  },
  {
   "cell_type": "code",
   "execution_count": 3,
   "id": "2a54ba13",
   "metadata": {},
   "outputs": [
    {
     "name": "stdout",
     "output_type": "stream",
     "text": [
      "100\n"
     ]
    }
   ],
   "source": [
    "def sum_arr(n):\n",
    "    if len(n) == 0:\n",
    "        return 0\n",
    "    c = n.pop()\n",
    "    return c + sum_arr(n)\n",
    "    \n",
    "    \n",
    "n = [10, 2, 3, 4, 5, 6, 70]\n",
    "print(sum_arr(n))"
   ]
  },
  {
   "cell_type": "code",
   "execution_count": null,
   "id": "c1d93bea",
   "metadata": {},
   "outputs": [],
   "source": []
  }
 ],
 "metadata": {
  "kernelspec": {
   "display_name": "Python 3",
   "language": "python",
   "name": "python3"
  },
  "language_info": {
   "codemirror_mode": {
    "name": "ipython",
    "version": 3
   },
   "file_extension": ".py",
   "mimetype": "text/x-python",
   "name": "python",
   "nbconvert_exporter": "python",
   "pygments_lexer": "ipython3",
   "version": "3.8.8"
  }
 },
 "nbformat": 4,
 "nbformat_minor": 5
}
