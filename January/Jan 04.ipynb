{
 "cells": [
  {
   "cell_type": "markdown",
   "id": "99afc324",
   "metadata": {},
   "source": [
    "# Geometric Sum\n",
    "\n",
    "Given k, find the geometric sum i.e.\n",
    "1 + 1/2 + 1/4 + 1/8 + ... + 1/(2^k) \n",
    "using recursion."
   ]
  },
  {
   "cell_type": "code",
   "execution_count": 1,
   "id": "df1c5669",
   "metadata": {},
   "outputs": [
    {
     "name": "stdout",
     "output_type": "stream",
     "text": [
      "1.9990234375\n"
     ]
    }
   ],
   "source": [
    "def geometricSum(k):\n",
    "    if k == 0:\n",
    "        return 1\n",
    "    return 1/(2**k) + geometricSum(k-1)\n",
    "k = 10\n",
    "print(geometricSum(k))"
   ]
  },
  {
   "cell_type": "markdown",
   "id": "6508647b",
   "metadata": {},
   "source": [
    "#Check Palindrome (recursive)\n",
    "\n",
    "Check whether a given String S is a palindrome using recursion. Return true or false."
   ]
  },
  {
   "cell_type": "code",
   "execution_count": 2,
   "id": "51b26c1b",
   "metadata": {},
   "outputs": [
    {
     "name": "stdout",
     "output_type": "stream",
     "text": [
      "True\n"
     ]
    }
   ],
   "source": [
    "def palidrome(arr):\n",
    "    if len(arr) == 0:\n",
    "        return True\n",
    "    if arr[0] == arr[-1]:\n",
    "        return True\n",
    "    else:\n",
    "        return False\n",
    "    return palidrome(arr[1:])\n",
    "arr = 'racecar'\n",
    "z = palidrome(arr)\n",
    "if z:\n",
    "    print('True')\n",
    "else:\n",
    "    print('False')"
   ]
  },
  {
   "cell_type": "markdown",
   "id": "1c8bddf9",
   "metadata": {},
   "source": [
    "# Sum of digits (recursive)\n",
    "\n",
    "Write a recursive function that returns the sum of the digits of a given integer."
   ]
  },
  {
   "cell_type": "code",
   "execution_count": 3,
   "id": "fb09c737",
   "metadata": {},
   "outputs": [
    {
     "name": "stdout",
     "output_type": "stream",
     "text": [
      "21\n"
     ]
    }
   ],
   "source": [
    "def SumOfDigit(arr):\n",
    "    if len(arr) == 0:\n",
    "        return 0\n",
    "    return int(arr[0]) + SumOfDigit(arr[1:])\n",
    "arr = 123456\n",
    "arr = str(arr)\n",
    "print(SumOfDigit(arr))"
   ]
  },
  {
   "cell_type": "markdown",
   "id": "f5e3370d",
   "metadata": {},
   "source": [
    "# Multiplication (Recursive)\n",
    "\n",
    "Given two integers M & N, calculate and return their multiplication using recursion. You can only use subtraction and addition for your calculation. No other operators are allowed."
   ]
  },
  {
   "cell_type": "code",
   "execution_count": 4,
   "id": "1d8f733b",
   "metadata": {},
   "outputs": [
    {
     "name": "stdout",
     "output_type": "stream",
     "text": [
      "12\n"
     ]
    }
   ],
   "source": [
    "def multiple(m, n):\n",
    "    if m <= 0:\n",
    "        return 0\n",
    "    return n + multiple(m-1, n)\n",
    "\n",
    "m = 3\n",
    "n = 4\n",
    "print(multiple(m, n))\n"
   ]
  },
  {
   "cell_type": "markdown",
   "id": "2f58e90a",
   "metadata": {},
   "source": [
    "# Pair Star\n",
    "\n",
    "Given a string S, compute recursively a new string where identical chars that are adjacent in the original string are separated from each other by a \"*\"."
   ]
  },
  {
   "cell_type": "code",
   "execution_count": 5,
   "id": "65531808",
   "metadata": {},
   "outputs": [
    {
     "name": "stdout",
     "output_type": "stream",
     "text": [
      "Hel*lo*o*o*o\n"
     ]
    }
   ],
   "source": [
    "def pairStar(arr):\n",
    "    if len(arr) <= 1:\n",
    "        return arr\n",
    "    if arr[0] == arr[1]:\n",
    "        return arr[0] + '*' + pairStar(arr[1:])\n",
    "    return arr[0] + pairStar(arr[1:])\n",
    "arr = 'Helloooo'\n",
    "print(pairStar(arr))"
   ]
  }
 ],
 "metadata": {
  "kernelspec": {
   "display_name": "Python 3",
   "language": "python",
   "name": "python3"
  },
  "language_info": {
   "codemirror_mode": {
    "name": "ipython",
    "version": 3
   },
   "file_extension": ".py",
   "mimetype": "text/x-python",
   "name": "python",
   "nbconvert_exporter": "python",
   "pygments_lexer": "ipython3",
   "version": "3.8.8"
  }
 },
 "nbformat": 4,
 "nbformat_minor": 5
}
