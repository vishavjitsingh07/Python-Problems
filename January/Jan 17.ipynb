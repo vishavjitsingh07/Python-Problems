{
 "cells": [
  {
   "cell_type": "markdown",
   "id": "e0ca6ca3",
   "metadata": {},
   "source": [
    "### Finding a Node in Linked List"
   ]
  },
  {
   "cell_type": "raw",
   "id": "1381ac7b",
   "metadata": {},
   "source": [
    "Next Cell is defualt function to do questions"
   ]
  },
  {
   "cell_type": "code",
   "execution_count": 1,
   "id": "254e8c8d",
   "metadata": {},
   "outputs": [],
   "source": [
    "#Basic Operation Required for program\n",
    "\n",
    "\n",
    "class Node: #Creating a Node Class\n",
    "    def __init__(self, data):\n",
    "        self.data = data\n",
    "        self.next = None\n",
    "        \n",
    "def createLL(a): #Creating a Linked List\n",
    "    head = None #Intiallize head with None\n",
    "    for i in a: #Iterate over array\n",
    "        if i == -1: #-1 means end \n",
    "            break\n",
    "                \n",
    "        currNode = Node(i) #Curr node\n",
    "        if head == None:  #Checking is None or not\n",
    "            head = currNode \n",
    "            tail = currNode\n",
    "        else:\n",
    "            tail.next = currNode #Adding other Nodes as tail\n",
    "            tail = currNode\n",
    "    return head #returing the head\n",
    "\n",
    "def printLL(head):\n",
    "    if head is None: #Edge Case\n",
    "        return\n",
    "    while head is not None:\n",
    "        print(head.data, '--->', end = \" \") #Printing Node\n",
    "        head = head.next\n",
    "    print(None) #Just for fun no need\n",
    "    \n",
    "def lenLL(head): #Finding Lenght of LinkedList Iterative\n",
    "    count = 0\n",
    "    while head is not None: #Tail\n",
    "        head = head.next\n",
    "        count +=1 #iterator\n",
    "    return count #Return Count\n",
    "\n",
    "def ithNode(head, ith):    \n",
    "    if ith <0: #handling -ve case\n",
    "        print('i cannot be negative')\n",
    "        return\n",
    "    \n",
    "    count = 0\n",
    "    while count <= ith-1: #\n",
    "        if head is None: #Handling i>len(LinkedList)\n",
    "            print('i is greater than lenght of LinkedList')\n",
    "            return\n",
    "        head = head.next #head.next\n",
    "        count += 1 #counter\n",
    "        \n",
    "    return head.data\n",
    "\n",
    "def insertAtithRec(head, i, ele):\n",
    "    if i == 0: #If ith position found\n",
    "        newNode = Node(ele) #NewNode\n",
    "        newNode.next = head #Making new Node as head\n",
    "        return newNode\n",
    "    \n",
    "    if i<0: #if i is less than 0\n",
    "        return head\n",
    "    if head is None: #if i is greater than len of list\n",
    "        return None\n",
    "    smallHead = insertAtithRec(head.next, i-1, ele) #Getting Small Head\n",
    "    head.next = smallHead #Joining New head(small head) with value before that if any\n",
    "    return head\n",
    "\n",
    "\n",
    "def delNode(head, i): #Delete Ith node Iteratively\n",
    "    if i<0 or i>lenLL(head): #Handling Edge Cases\n",
    "        return head\n",
    "    if i == 0: #If 0 changing head\n",
    "        head = head.next\n",
    "        return head\n",
    "    \n",
    "    count = 0\n",
    "    currNode = head\n",
    "    while count<i-1 and currNode.next is not None: #Iterate till ith value\n",
    "        currNode = currNode.next\n",
    "        count+=1\n",
    "        \n",
    "    currNode.next = currNode.next.next #Deleting node\n",
    "    return head \n",
    "\n",
    "def delnextNode(head):\n",
    "    if head.next is not None: #if next node exist\n",
    "        return head.next #Getting next node\n",
    "    return None \n"
   ]
  },
  {
   "cell_type": "markdown",
   "id": "ee51d420",
   "metadata": {},
   "source": [
    "# Find a Node in Linked List\n",
    "\n",
    "You have been given a singly linked list of integers. Write a function that returns the index/position of integer data denoted by 'N' (if it exists). Return -1 otherwise."
   ]
  },
  {
   "cell_type": "code",
   "execution_count": 2,
   "id": "2c7c3fee",
   "metadata": {},
   "outputs": [],
   "source": [
    "def findNode(head, toFind):\n",
    "    maxLeg = lenLL(head) \n",
    "    if head is None:\n",
    "        return head\n",
    "\n",
    "    count = 0\n",
    "    while count<maxLeg or head is not None:\n",
    "        if head.data == toFind:\n",
    "            return count\n",
    "        head = head.next\n",
    "        count+=1\n",
    "    return -1 "
   ]
  },
  {
   "cell_type": "code",
   "execution_count": 3,
   "id": "c4332c9e",
   "metadata": {},
   "outputs": [
    {
     "name": "stdout",
     "output_type": "stream",
     "text": [
      "-1\n"
     ]
    }
   ],
   "source": [
    "arr = [1, 2, 3, 4, 5, 6, -1]\n",
    "toFind = 40\n",
    "linkedList = createLL(arr)\n",
    "print(findNode(linkedList, toFind))"
   ]
  },
  {
   "cell_type": "markdown",
   "id": "9db22b38",
   "metadata": {},
   "source": [
    "# AppendLastNToFirst\n",
    "\n",
    "You have been given a singly linked list of integers along with an integer 'N'. Write a function to append the last 'N' nodes towards the front of the singly linked list and returns the new head to the list."
   ]
  },
  {
   "cell_type": "code",
   "execution_count": 4,
   "id": "28c56b35",
   "metadata": {},
   "outputs": [],
   "source": [
    "def circularList(head):\n",
    "    curr = head\n",
    "    while curr.next is not None:\n",
    "        curr = curr.next\n",
    "    curr.next = head\n",
    "    return head"
   ]
  },
  {
   "cell_type": "code",
   "execution_count": 5,
   "id": "58f282ec",
   "metadata": {},
   "outputs": [
    {
     "name": "stdout",
     "output_type": "stream",
     "text": [
      "90 ---> 61 ---> 67 ---> 100 ---> 10 ---> 6 ---> 77 ---> None\n"
     ]
    }
   ],
   "source": [
    "def appendLastNtoFirst(head, kth):\n",
    "    if head is None or kth< 0 or kth>= lenLL(head):\n",
    "        return head\n",
    "    \n",
    "    intial = head #Complete list pivot point 1\n",
    "    fast = head #Complete list pivot point 2\n",
    "    slow = head #Complete list pivot point 3\n",
    "    for i in range(kth): #Getting list till kth\n",
    "        fast = fast.next\n",
    "    while fast.next is not None:  #Dividing list in 2 parts after kth fast before kth slow\n",
    "        fast = fast.next #list before kth\n",
    "        slow = slow.next #List before kth\n",
    "    \n",
    "    temp = slow.next #Getting Kth element\n",
    "    slow.next = None #Break till kth element\n",
    "    fast.next = intial #Join before list\n",
    "    head = temp #Making kth element as head\n",
    "\n",
    "    return head\n",
    "    \n",
    "    \n",
    "arr = [10, 6, 77, 90, 61, 67, 100, -1]\n",
    "toFind = 4\n",
    "linkedList = createLL(arr)\n",
    "newList = appendLastNtoFirst(linkedList, toFind)\n",
    "#newList = circularList(linkedList)\n",
    "printLL(newList)"
   ]
  },
  {
   "cell_type": "markdown",
   "id": "cfcba2ab",
   "metadata": {},
   "source": [
    "# Eliminate duplicates from LL\n",
    "You have been given a singly linked list of integers where the elements are sorted in ascending order. Write a function that removes the consecutive duplicate values such that the given list only contains unique elements and returns the head to the updated list."
   ]
  },
  {
   "cell_type": "code",
   "execution_count": 6,
   "id": "01d2b3d3",
   "metadata": {},
   "outputs": [
    {
     "name": "stdout",
     "output_type": "stream",
     "text": [
      "1 ---> 2 ---> 3 ---> 4 ---> 5 ---> 7 ---> None\n"
     ]
    }
   ],
   "source": [
    "def eliminateDuplicateLL(head):\n",
    "    curr = head #Getting curr pivot point\n",
    "    while curr.next is not None: #Iterating\n",
    "        if curr.data == curr.next.data: #If next element is Same\n",
    "            curr.next = delnextNode(curr.next)#Delete same node\n",
    "        else:\n",
    "            curr = curr.next #Continue\n",
    "    return head\n",
    "\n",
    "arr = [1, 2, 3, 3, 3, 3, 4, 4, 4, 5, 5, 7, 7, -1]\n",
    "linkedList = createLL(arr)\n",
    "newList = eliminateDuplicateLL(linkedList)\n",
    "printLL(newList)"
   ]
  },
  {
   "cell_type": "markdown",
   "id": "f519b1c8",
   "metadata": {},
   "source": [
    "# Doubly Linked List"
   ]
  },
  {
   "cell_type": "code",
   "execution_count": 7,
   "id": "ec3293e7",
   "metadata": {},
   "outputs": [
    {
     "name": "stdout",
     "output_type": "stream",
     "text": [
      "7--->7--->5--->5--->4--->4--->4--->3--->3--->3--->3--->2--->1--->None\n"
     ]
    }
   ],
   "source": [
    "class Node2: #creating a Doubly Linked List\n",
    "    def __init__(self, data):\n",
    "        self.data = data \n",
    "        self.next = None #Next\n",
    "        self.prev = None #Previous\n",
    "        \n",
    "def createDoubleLL(arr):\n",
    "    if len(arr) <= 1:\n",
    "        return None, None\n",
    "    head = None #Intiallize head with None\n",
    "    \n",
    "    \n",
    "    temp = None #Temporary Node\n",
    "    for i in range(len(arr)):\n",
    "        if arr[i] == -1: #-1 Means end of Node\n",
    "            break\n",
    "            \n",
    "        NewNode = Node2(arr[i]) #Creating a new Node\n",
    "        if head is None: #Assigning Head\n",
    "            head = NewNode\n",
    "            temp = head\n",
    "        else:\n",
    "            temp.next = NewNode #Next Node Connection\n",
    "            NewNode.prev = temp #Previous Node Connection\n",
    "            temp = temp.next #Moving temporary pivot\n",
    "        tail = temp\n",
    "    return head, tail #Return Head and Tail\n",
    "\n",
    "\n",
    "def printReverse(tail): #Reversing the Node\n",
    "    while tail is not None: #Till Head node\n",
    "        print(tail.data, end = '--->')\n",
    "        tail = tail.prev\n",
    "    print(None)\n",
    "\n",
    "arr = [1, 2, 3, 3, 3, 3, 4, 4, 4, 5, 5, 7, 7, -1]\n",
    "linkedList = createDoubleLL(arr)\n",
    "head, tail = linkedList\n",
    "printReverse(tail)"
   ]
  },
  {
   "cell_type": "markdown",
   "id": "5eff0702",
   "metadata": {},
   "source": [
    "# Palindrome LinkedList\n",
    "\n",
    "You have been given a head to a singly linked list of integers. Write a function check to whether the list given is a 'Palindrome' or not."
   ]
  },
  {
   "cell_type": "code",
   "execution_count": 8,
   "id": "6cc2aeea",
   "metadata": {},
   "outputs": [
    {
     "name": "stdout",
     "output_type": "stream",
     "text": [
      "False\n"
     ]
    }
   ],
   "source": [
    "#O(n/2) Time Complexity\n",
    "def CheckPalindrome(head):\n",
    "    if head is None:\n",
    "        return True\n",
    "    start = head #Assigning frwd list\n",
    "    end = head #Assigning backward list\n",
    "    count = 1 #Counter to get mid\n",
    "    while count < (lenLL(head)/2): \n",
    "        start = start.next \n",
    "        end = end.next\n",
    "        count += 1\n",
    "    if lenLL(head)%2 == 0: #If even then two middle element\n",
    "        start = start.next #Getting middle 2nd\n",
    "    \n",
    "    while count >=0 and count <=lenLL(head) and start is not None and end is not None: #Edge Cases\n",
    "        if start.data != end.data: #Check Pallidrome\n",
    "            return False \n",
    "        start = start.next #Next\n",
    "        end = end.prev #previous\n",
    "        count -= 1 #Reduce counter\n",
    "    return True\n",
    "\n",
    "\n",
    "\n",
    "def CheckPalindrome2(head, tail):\n",
    "    if head is None and tail is None:\n",
    "        return True\n",
    "    \n",
    "    while head is not None and tail is not None: #Edge Case\n",
    "        if head.data != tail.data: #Check Palidrome\n",
    "            return False\n",
    "        head = head.next\n",
    "        tail = tail.prev\n",
    "    return True\n",
    "    \n",
    "arr = [1, 2, 3, 4, 5, 6, 4, 4, 3, 2, 1, -1]\n",
    "linkedList = createDoubleLL(arr)\n",
    "head, tail = linkedList\n",
    "if CheckPalindrome2(head, tail):\n",
    "    print('True')\n",
    "else:\n",
    "    print('False')"
   ]
  }
 ],
 "metadata": {
  "kernelspec": {
   "display_name": "Python 3",
   "language": "python",
   "name": "python3"
  },
  "language_info": {
   "codemirror_mode": {
    "name": "ipython",
    "version": 3
   },
   "file_extension": ".py",
   "mimetype": "text/x-python",
   "name": "python",
   "nbconvert_exporter": "python",
   "pygments_lexer": "ipython3",
   "version": "3.8.8"
  }
 },
 "nbformat": 4,
 "nbformat_minor": 5
}
