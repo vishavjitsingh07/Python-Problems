{
 "cells": [
  {
   "cell_type": "markdown",
   "id": "7fed563b",
   "metadata": {},
   "source": [
    "# Linked Lists"
   ]
  },
  {
   "cell_type": "code",
   "execution_count": 1,
   "id": "3b0ac540",
   "metadata": {
    "scrolled": true
   },
   "outputs": [],
   "source": [
    "class Node: #Creating a Node Class\n",
    "    def __init__(self, data):\n",
    "        self.data = data\n",
    "        self.next = None"
   ]
  },
  {
   "cell_type": "markdown",
   "id": "3f7f3d93",
   "metadata": {},
   "source": [
    "### Creating a Linked List and making Nodes\n",
    "O(n) Space and Time Complexity"
   ]
  },
  {
   "cell_type": "code",
   "execution_count": 2,
   "id": "8100dcf1",
   "metadata": {},
   "outputs": [],
   "source": [
    "def createLL(a): #Creating a Linked List\n",
    "    head = None #Intiallize head with None\n",
    "    for i in a: #Iterate over array\n",
    "        if i == -1: #-1 means end \n",
    "            break\n",
    "                \n",
    "        currNode = Node(i) #Curr node\n",
    "        if head == None:  #Checking is None or not\n",
    "            head = currNode \n",
    "            tail = currNode\n",
    "        else:\n",
    "            tail.next = currNode #Adding other Nodes as tail\n",
    "            tail = currNode\n",
    "    return head #returing the head"
   ]
  },
  {
   "cell_type": "markdown",
   "id": "a7f81c71",
   "metadata": {},
   "source": [
    "### Printing Linked List"
   ]
  },
  {
   "cell_type": "code",
   "execution_count": 3,
   "id": "3b1c26ae",
   "metadata": {},
   "outputs": [],
   "source": [
    "def printLL(head):\n",
    "    if head is None: #Edge Case\n",
    "        return\n",
    "    while head is not None:\n",
    "        print(head.data, '--->', end = \" \") #Printing Node\n",
    "        head = head.next\n",
    "    print(None) #Just for fun no need"
   ]
  },
  {
   "cell_type": "markdown",
   "id": "9dbd41fb",
   "metadata": {},
   "source": [
    "### Getting Length of Linked List"
   ]
  },
  {
   "cell_type": "code",
   "execution_count": 4,
   "id": "be5b8cd4",
   "metadata": {},
   "outputs": [],
   "source": [
    "def lenLL(head): #Finding Lenght of LinkedList Iterative\n",
    "    count = 0\n",
    "    while head is not None: #Tail\n",
    "        head = head.next\n",
    "        count +=1 #iterator\n",
    "    return count #Return Count\n",
    "\n",
    "def lenLLRec(head): #Finding Lenght of LinkedList Recursiverly\n",
    "    if head is None: #Base case\n",
    "        return 0\n",
    "    lengthLinkedList = lenLLRec(head.next)\n",
    "    return lengthLinkedList + 1 #returning the length"
   ]
  },
  {
   "cell_type": "markdown",
   "id": "3f9490b3",
   "metadata": {},
   "source": [
    "### Printing Ith Node"
   ]
  },
  {
   "cell_type": "code",
   "execution_count": 5,
   "id": "ac5579f9",
   "metadata": {},
   "outputs": [],
   "source": [
    "def printithNode(head, ith):    \n",
    "    if ith <0: #handling -ve case\n",
    "        print('i cannot be negative')\n",
    "        return\n",
    "    \n",
    "    count = 0\n",
    "    while count <= ith-1: #\n",
    "        if head is None: #Handling i>len(LinkedList)\n",
    "            print('i is greater than lenght of LinkedList')\n",
    "            return\n",
    "        head = head.next #head.next\n",
    "        count += 1 #counter\n",
    "        \n",
    "    print('Node at ith index is',head.data)"
   ]
  },
  {
   "cell_type": "markdown",
   "id": "f1b05b71",
   "metadata": {},
   "source": [
    "### Inserting ith Node"
   ]
  },
  {
   "cell_type": "code",
   "execution_count": 6,
   "id": "c3a24f56",
   "metadata": {},
   "outputs": [],
   "source": [
    "def insertAtithRec(head, i, ele):\n",
    "    if i == 0: #If ith position found\n",
    "        newNode = Node(ele) #NewNode\n",
    "        newNode.next = head #Making new Node as head\n",
    "        return newNode\n",
    "    \n",
    "    if i<0: #if i is less than 0\n",
    "        return head\n",
    "    if head is None: #if i is greater than len of list\n",
    "        return None\n",
    "    smallHead = insertAtithRec(head.next, i-1, ele) #Getting Small Head\n",
    "    head.next = smallHead #Joining New head(small head) with value before that if any\n",
    "    return head\n",
    "    \n",
    "def insertAtithIter(head, i, ele): #Insertion Iterative\n",
    "    if i< 0  or i> lenLL(head): #If i is greater than Length of LiinkedList of less than 0\n",
    "        print('No change in LinkedList')\n",
    "        return head #Return Head\n",
    "    \n",
    "    \n",
    "    NewNode = Node(ele) \n",
    "    if i == 0: #Head Node\n",
    "        NewNode.next = head #Assigning new Head\n",
    "        head = NewNode \n",
    "        return head\n",
    "    \n",
    "    count = 0\n",
    "    currNode = head\n",
    "    while count<i: #At any other position   \n",
    "        if count == i-1: #ith position\n",
    "            NewNode.next = currNode.next #Handling Node.next\n",
    "            currNode.next = NewNode #joining New Node with prev List\n",
    "            currNode = NewNode \n",
    "            \n",
    "        else: #Else no Change\n",
    "            currNode = currNode.next\n",
    "        count += 1 #Iterator\n",
    "    return head #return Head"
   ]
  },
  {
   "cell_type": "markdown",
   "id": "91047dea",
   "metadata": {},
   "source": [
    "### Deleting a Node"
   ]
  },
  {
   "cell_type": "code",
   "execution_count": 7,
   "id": "ca698384",
   "metadata": {},
   "outputs": [],
   "source": [
    "def delNode(head, i): #Delete Ith node Iteratively\n",
    "    if i<0 or i>lenLL(head): #Handling Edge Cases\n",
    "        return head\n",
    "    if i == 0: #If 0 changing head\n",
    "        head = head.next\n",
    "        return head\n",
    "    \n",
    "    count = 0\n",
    "    currNode = head\n",
    "    while count<i-1 and currNode.next is not None: #Iterate till ith value\n",
    "        currNode = currNode.next\n",
    "        count+=1\n",
    "        \n",
    "    currNode.next = currNode.next.next #Deleting node\n",
    "    return head \n",
    "\n",
    "\n",
    "def delNodeRec(head, ith): #Del ith node recursively\n",
    "    if ith == 0: #base case\n",
    "        return head.next\n",
    "    if ith <0 or ith> lenLL(head) or head is None: #Edge Case\n",
    "        return head\n",
    "            \n",
    "    smallHead = delNodeRec(head.next, ith-1) #Getting small head\n",
    "    head.next = smallHead #Adding heads\n",
    "    return head #return head"
   ]
  },
  {
   "cell_type": "code",
   "execution_count": 8,
   "id": "c3209415",
   "metadata": {},
   "outputs": [
    {
     "name": "stdout",
     "output_type": "stream",
     "text": [
      "My LinkedList\n",
      "1 ---> 2 ---> 3 ---> 4 ---> 5 ---> 6 ---> 7 ---> 8 ---> 9 ---> None\n",
      "Node at ith index is 2\n",
      "1 ---> 2 ---> 3 ---> 4 ---> 5 ---> 6 ---> 7 ---> 8 ---> 9 ---> None\n",
      "1 ---> 2 ---> 3 ---> 4 ---> 5 ---> 200 ---> 6 ---> 7 ---> 8 ---> 9 ---> None\n",
      "1 ---> 2 ---> 3 ---> 4 ---> 5 ---> 6 ---> 7 ---> 8 ---> 9 ---> None\n",
      "1 ---> 2 ---> 3 ---> 4 ---> 5 ---> 7 ---> 8 ---> 9 ---> None\n"
     ]
    }
   ],
   "source": [
    "a = [1, 2, 3, 4, 5, 6, 7, 8, 9, -1]\n",
    "z = createLL(a) #Creating a Linked List\n",
    "print(\"My LinkedList\")\n",
    "printLL(z) #Printing The Linked List\n",
    "printithNode(z, 1) #Printing Ith Node\n",
    "insertAtithIter(z, 0, 100) #0th index\n",
    "insertAtithRec(z, 12, 600) #last reucursive\n",
    "printLL(z)\n",
    "z = insertAtithIter(z, 5, 200) #Insert Ith Node\n",
    "printLL(z)\n",
    "z = delNode(z, 5) #delete a node\n",
    "printLL(z)\n",
    "delNodeRec(z, 5)\n",
    "printLL(z)"
   ]
  },
  {
   "cell_type": "code",
   "execution_count": null,
   "id": "c822b7e0",
   "metadata": {},
   "outputs": [],
   "source": []
  }
 ],
 "metadata": {
  "kernelspec": {
   "display_name": "Python 3",
   "language": "python",
   "name": "python3"
  },
  "language_info": {
   "codemirror_mode": {
    "name": "ipython",
    "version": 3
   },
   "file_extension": ".py",
   "mimetype": "text/x-python",
   "name": "python",
   "nbconvert_exporter": "python",
   "pygments_lexer": "ipython3",
   "version": "3.8.8"
  }
 },
 "nbformat": 4,
 "nbformat_minor": 5
}
