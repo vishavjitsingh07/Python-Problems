{
 "cells": [
  {
   "cell_type": "markdown",
   "id": "c8d4d601",
   "metadata": {},
   "source": [
    "# Array Reverse\n",
    "Write a program to reverse an array or string in log(n) complexity (GFG)"
   ]
  },
  {
   "cell_type": "code",
   "execution_count": 1,
   "id": "98c2bbae",
   "metadata": {},
   "outputs": [
    {
     "name": "stdout",
     "output_type": "stream",
     "text": [
      "Iterative Approach :  [7, 6, 5, 4, 3, 2, 1]\n",
      "Recursive Approach :  [7, 6, 5, 4, 3, 2, 1]\n",
      "Inbuilt Function 1 :  [7, 6, 5, 4, 3, 2, 1]\n",
      "Inbuilt Function 2 :  [7, 6, 5, 4, 3, 2, 1]\n"
     ]
    }
   ],
   "source": [
    "def reverse(arr): #Function \n",
    "    s = 0 #First element \n",
    "    e = len(arr) -1 #last element\n",
    "    while s < e:\n",
    "        arr[s], arr[e] = arr[e], arr[s] #Swap first with last\n",
    "        s+=1 #Increment\n",
    "        e-=1 #decrement\n",
    "    return arr\n",
    "\n",
    "arr = [1, 2, 3, 4, 5, 6, 7]\n",
    "print(\"Iterative Approach : \", reverse(arr))\n",
    "\n",
    "\n",
    "\n",
    "#using Recursion\n",
    "def rev_rec_Help(arr, start, end):\n",
    "    if start >= end:\n",
    "        return arr\n",
    "    arr[start], arr[end] = arr[end], arr[start] # Swap first with last element\n",
    "    return rev_rec_Help(arr, start+1, end - 1)\n",
    "    \n",
    "def rev_rec(arr):\n",
    "    return rev_rec_Help(arr, 0, len(arr) - 1)\n",
    "\n",
    "arr = [1, 2, 3, 4, 5, 6, 7]\n",
    "print(\"Recursive Approach : \", rev_rec(arr))\n",
    "\n",
    "\n",
    "\n",
    "#Using Inbuilt Function\n",
    "arr = [1, 2, 3, 4, 5, 6, 7]\n",
    "print(\"Inbuilt Function 1 : \", arr[:: -1])\n",
    "print('Inbuilt Function 2 : ', reverse(arr))"
   ]
  },
  {
   "cell_type": "markdown",
   "id": "1258023d",
   "metadata": {},
   "source": [
    "# Find Max Min\n",
    "Maximum and minimum of an array using minimum number of comparisons (GFG)"
   ]
  },
  {
   "cell_type": "code",
   "execution_count": 2,
   "id": "d52bf2b3",
   "metadata": {},
   "outputs": [
    {
     "name": "stdout",
     "output_type": "stream",
     "text": [
      "(7, 6, 1, 0)\n"
     ]
    }
   ],
   "source": [
    "import sys\n",
    "def max_min(arr):\n",
    "    max_ = -sys.maxsize #Assign Smallest Number possible\n",
    "    max_i = -1 #Minimum index\n",
    "    min_ = sys.maxsize #Assign Max value possible\n",
    "    min_i = -1 #Minimum Index\n",
    "    for i in range(len(arr)):\n",
    "        if arr[i] >= max_: #If arr[i] greater than max\n",
    "            max_ = arr[i]\n",
    "            max_i = i\n",
    "        if arr[i] <= min_: #If a[i] smaller than min\n",
    "            min_i = i\n",
    "            min_ = arr[i]\n",
    "    return max_, max_i, min_, min_i #return all the value\n",
    "arr = [1, 2, 3, 4, 5, 6, 7]\n",
    "print(max_min(arr))\n",
    "#Max Value\n",
    "#Max Index\n",
    "#Min Value\n",
    "#Min Index"
   ]
  },
  {
   "cell_type": "markdown",
   "id": "c885208e",
   "metadata": {},
   "source": [
    "# Kth Smallest Element\n",
    "Given an array arr[] and an integer K where K is smaller than size of array, the task is to find the Kth smallest element in the given array. It is given that all array elements are distinct. (GFG)"
   ]
  },
  {
   "cell_type": "code",
   "execution_count": 3,
   "id": "23a7b7a8",
   "metadata": {},
   "outputs": [
    {
     "name": "stdout",
     "output_type": "stream",
     "text": [
      "5\n"
     ]
    }
   ],
   "source": [
    "def kthSmall(arr, k):\n",
    "    arr = sorted(arr) #Sort the arr\n",
    "    return arr[k-1] #Return kth element\n",
    "arr = [10, 1, 2, 3, 4, 5, 6, 7, 8]\n",
    "k = 5\n",
    "print(kthSmall(arr, k))"
   ]
  },
  {
   "cell_type": "code",
   "execution_count": null,
   "id": "3386d364",
   "metadata": {},
   "outputs": [],
   "source": []
  }
 ],
 "metadata": {
  "kernelspec": {
   "display_name": "Python 3",
   "language": "python",
   "name": "python3"
  },
  "language_info": {
   "codemirror_mode": {
    "name": "ipython",
    "version": 3
   },
   "file_extension": ".py",
   "mimetype": "text/x-python",
   "name": "python",
   "nbconvert_exporter": "python",
   "pygments_lexer": "ipython3",
   "version": "3.8.8"
  }
 },
 "nbformat": 4,
 "nbformat_minor": 5
}
