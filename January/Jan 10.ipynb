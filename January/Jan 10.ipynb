{
 "cells": [
  {
   "cell_type": "markdown",
   "id": "78dc709c",
   "metadata": {},
   "source": [
    "# Longest Subsequence\n",
    "Given an array of integers, find the longest subarray where the absolute difference between any two elements is less than or equal to ."
   ]
  },
  {
   "cell_type": "code",
   "execution_count": 1,
   "id": "e3ae289e",
   "metadata": {},
   "outputs": [
    {
     "name": "stdout",
     "output_type": "stream",
     "text": [
      "1\n"
     ]
    }
   ],
   "source": [
    "def longestSeq(arr):\n",
    "    count = 1\n",
    "    max_len = 0\n",
    "    for i in range(len(arr)-1):\n",
    "        if abs(arr[i] - arr[i+1])<=1:\n",
    "            count+=1\n",
    "            if count > max_len:\n",
    "                max_len = count\n",
    "        else:\n",
    "            count = 1\n",
    "    return count\n",
    "\n",
    "arr = [4, 6, 5, 3, 3, 1]\n",
    "print(longestSeq(arr))\n"
   ]
  },
  {
   "cell_type": "code",
   "execution_count": null,
   "id": "76a821b9",
   "metadata": {},
   "outputs": [],
   "source": []
  }
 ],
 "metadata": {
  "kernelspec": {
   "display_name": "Python 3",
   "language": "python",
   "name": "python3"
  },
  "language_info": {
   "codemirror_mode": {
    "name": "ipython",
    "version": 3
   },
   "file_extension": ".py",
   "mimetype": "text/x-python",
   "name": "python",
   "nbconvert_exporter": "python",
   "pygments_lexer": "ipython3",
   "version": "3.8.8"
  }
 },
 "nbformat": 4,
 "nbformat_minor": 5
}
