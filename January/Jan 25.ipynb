{
 "cells": [
  {
   "cell_type": "markdown",
   "id": "099ca846",
   "metadata": {},
   "source": [
    "# Maximum Product Subarray \n",
    "Given an array Arr[] that contains N integers (may be positive, negative or zero). Find the product of the maximum product subarray"
   ]
  },
  {
   "cell_type": "code",
   "execution_count": 1,
   "id": "b28cf1ee",
   "metadata": {},
   "outputs": [
    {
     "name": "stdout",
     "output_type": "stream",
     "text": [
      "24\n",
      "24\n"
     ]
    }
   ],
   "source": [
    "#O(n3)\n",
    "def multiply(arr):\n",
    "    product = 1\n",
    "    for i in arr:\n",
    "        product*=i\n",
    "    return product\n",
    "\n",
    "def maxProduct(arr):\n",
    "    maxprod = 1\n",
    "    for i in range(len(arr)):\n",
    "        product = 1\n",
    "        for j in range(len(arr)):\n",
    "            product = multiply(arr[i:j+1])\n",
    "            if product > maxprod:\n",
    "                maxprod = product\n",
    "    return maxprod\n",
    "\n",
    "#O(n)\n",
    "\n",
    "def maxProduct1(arr):\n",
    "        n = len(arr) \n",
    "        minVal = arr[0] #Assuming max and min value as first element\n",
    "        maxVal = arr[0]\n",
    "    \n",
    "        maxProduct = arr[0] #Assumin max product is first element\n",
    "    \n",
    "        for i in range(1, n):\n",
    "            if (arr[i] < 0): #if -ve element found\n",
    "                maxVal, minVal = minVal, maxVal #Save last value as min value as max and min value as max since -ve value change the product\n",
    "                \n",
    "            maxVal = max(arr[i], maxVal * arr[i]) #Getting the new max\n",
    "            minVal = min(arr[i], minVal * arr[i]) #Getting the new min\n",
    "    \n",
    "            maxProduct = max(maxProduct, maxVal) #Max Product of each iteration\n",
    "        return maxProduct\n",
    "            \n",
    "arr = [9, 0, 8, -1, -2, -2, 6]\n",
    "print(maxProduct(arr))\n",
    "print(maxProduct1(arr))"
   ]
  },
  {
   "cell_type": "markdown",
   "id": "78908dd9",
   "metadata": {},
   "source": [
    "# Given an array of size n and a number k, find all elements that appear more than n/k times\n",
    "\n",
    "Given an array of size n, find all elements in array that appear more than n/k times. For example, if the input arrays is {3, 1, 2, 2, 1, 2, 3, 3} and k is 4, then the output should be [2, 3]. Note that size of array is 8 (or n = 8), so we need to find all e"
   ]
  },
  {
   "cell_type": "code",
   "execution_count": 2,
   "id": "c34a02c0",
   "metadata": {},
   "outputs": [
    {
     "name": "stdout",
     "output_type": "stream",
     "text": [
      "1 5\n",
      "2 4\n",
      "1 5\n",
      "2 4\n"
     ]
    }
   ],
   "source": [
    "def freq1(arr, k):\n",
    "    freqDict = {}\n",
    "    freq = len(arr)//k\n",
    "    for i in arr:\n",
    "        freqDict[i] = freqDict.get(i, 0) + 1\n",
    "    for i in freqDict:\n",
    "        if freqDict[i] > freq:\n",
    "            print(i,freqDict[i])\n",
    "        \n",
    "def freq2(arr, k):\n",
    "    arrfreq = [0]* 9\n",
    "    freq = len(arr)//k\n",
    "    for i in arr:\n",
    "        arrfreq[i-1] +=1\n",
    "        \n",
    "    for i in range(9):\n",
    "        if arrfreq[i]> freq:\n",
    "            print(i+1, arrfreq[i])\n",
    "arr = [ 1, 1, 2, 2, 3, 5, 4, 2, 2, 3, 1, 1, 1 ]\n",
    "k = 4\n",
    "freq1(arr, k)\n",
    "freq2(arr, k)"
   ]
  },
  {
   "cell_type": "markdown",
   "id": "2d2041f3",
   "metadata": {},
   "source": [
    "# Array Subset of another array \n",
    "\n",
    "Given two arrays: a1[0..n-1] of size n and a2[0..m-1] of size m. Task is to check whether a2[] is a subset of a1[] or not. Both the arrays can be sorted or unsorted. It may be assumed that elements in both array are distinct"
   ]
  },
  {
   "cell_type": "code",
   "execution_count": 3,
   "id": "a92db012",
   "metadata": {},
   "outputs": [
    {
     "data": {
      "text/plain": [
       "True"
      ]
     },
     "execution_count": 3,
     "metadata": {},
     "output_type": "execute_result"
    }
   ],
   "source": [
    "def subSet(arr1, arr2):\n",
    "    m = arr1\n",
    "    n = arr2\n",
    "    if m>n:\n",
    "        set1\n",
    "    set1 = set(arr1)\n",
    "    set2 = set(arr2)\n",
    "    set3 = set1.intersection(set2)\n",
    "    if set3 == set1 or set3 == set2:\n",
    "        return True\n",
    "    return False\n",
    "    \n",
    "a1 = [11, 1, 13, 21, 3, 7]\n",
    "a2 = [11, 3, 7, 1]\n",
    "subSet(a1, a2)"
   ]
  }
 ],
 "metadata": {
  "kernelspec": {
   "display_name": "Python 3",
   "language": "python",
   "name": "python3"
  },
  "language_info": {
   "codemirror_mode": {
    "name": "ipython",
    "version": 3
   },
   "file_extension": ".py",
   "mimetype": "text/x-python",
   "name": "python",
   "nbconvert_exporter": "python",
   "pygments_lexer": "ipython3",
   "version": "3.8.8"
  }
 },
 "nbformat": 4,
 "nbformat_minor": 5
}
