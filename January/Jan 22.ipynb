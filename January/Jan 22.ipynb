{
 "cells": [
  {
   "cell_type": "markdown",
   "id": "ee7daf9b",
   "metadata": {},
   "source": [
    "### Stack using Array"
   ]
  },
  {
   "cell_type": "code",
   "execution_count": 1,
   "id": "8579ac51",
   "metadata": {
    "scrolled": false
   },
   "outputs": [
    {
     "name": "stdout",
     "output_type": "stream",
     "text": [
      "Element is appended 1\n",
      "Element is appended 3\n",
      "Element is appended 5\n",
      "Element is appended 7\n",
      "Element 7 poped\n",
      "Top is 5\n",
      "|   |\n",
      "| 5 |\n",
      "|   |\n",
      "-----\n",
      "|   |\n",
      "| 3 |\n",
      "|   |\n",
      "-----\n",
      "|   |\n",
      "| 1 |\n",
      "|   |\n",
      "-----\n"
     ]
    }
   ],
   "source": [
    "class Stack:\n",
    "    def __init__(self):\n",
    "        self.__arr = [] #Creating a private array\n",
    "        \n",
    "    def push(self, value):#Push a element\n",
    "        print('Element is appended', value)\n",
    "        self.__arr.append(value) #Add element to array\n",
    "        return self.__arr\n",
    "    \n",
    "    def pop(self): #Pop a element\n",
    "        if self.isEmpty(): #if array is empty\n",
    "            \n",
    "            print('Hey! Stack is Empty')\n",
    "            return\n",
    "            \n",
    "        print('Element',self.__arr[-1], 'poped') #else Pop the top element\n",
    "        element = self.__arr[-1]\n",
    "        del self.__arr[-1] #Delete element from list\n",
    "        return element\n",
    "    \n",
    "    def top(self): #Top\n",
    "        if self.size() == 0: #If no element\n",
    "            print('Hey! Stack is Empty')\n",
    "            return \n",
    "        \n",
    "        print('Top is', self.__arr[-1]) #Return top element if element is not empty\n",
    "        return self.__arr[-1] #return same element again\n",
    "    \n",
    "    def size(self): #Get the length of array\n",
    "        return len(self.__arr)\n",
    "    \n",
    "    def isEmpty(self): #if array is empty\n",
    "        if self.size() == 0:\n",
    "            print('Hey! Stack is Empty')\n",
    "            return\n",
    "        return False\n",
    "    \n",
    "    def printStack(self): #printing the array in shape of tower of honoi\n",
    "        for i in range(self.size() -1, -1, -1):\n",
    "            print('|',' ', '|')\n",
    "            print('|', self.__arr[i] , '|')\n",
    "            print('|',' ', '|')\n",
    "            print('-----')\n",
    "        \n",
    "s = Stack()\n",
    "s.push(1)\n",
    "s.push(3)\n",
    "s.push(5)\n",
    "s.push(7)\n",
    "s.pop()\n",
    "s.top()\n",
    "s.printStack()"
   ]
  },
  {
   "cell_type": "markdown",
   "id": "53f4e8ad",
   "metadata": {},
   "source": [
    "### Stack Using LinkedList"
   ]
  },
  {
   "cell_type": "code",
   "execution_count": 2,
   "id": "776a6614",
   "metadata": {},
   "outputs": [
    {
     "name": "stdout",
     "output_type": "stream",
     "text": [
      "Poped element : 7\n",
      "Element At top:  5\n",
      "|   |\n",
      "| 5 |\n",
      "|   |\n",
      "-----\n",
      "|   |\n",
      "| 3 |\n",
      "|   |\n",
      "-----\n",
      "|   |\n",
      "| 1 |\n",
      "|   |\n",
      "-----\n"
     ]
    }
   ],
   "source": [
    "class Node:\n",
    "    def __init__(self, data):\n",
    "        self.data = data\n",
    "        self.next = None\n",
    "        self.prev = None\n",
    "        \n",
    "        \n",
    "class Stack2:\n",
    "    def __init__(self):\n",
    "        self.__head = None\n",
    "        self.__count = 0\n",
    "    \n",
    "    def push(self, value):\n",
    "        if self.__head is None:\n",
    "            head = value\n",
    "            \n",
    "        if self.__head is None:\n",
    "            self.__head = Node(value)\n",
    "            self.__count = 1\n",
    "            \n",
    "        else:\n",
    "            nextNode = Node(value)\n",
    "            prevNode = self.__head\n",
    "            self.__head.next = nextNode\n",
    "            nextNode.prev = self.__head\n",
    "            self.__head = nextNode\n",
    "            self.__count+=1\n",
    "            \n",
    "    def pop(self):\n",
    "        if self.isEmpty() == True:\n",
    "            print('Stack is empty')\n",
    "            self.__count = 0\n",
    "            return\n",
    "        print('Poped element :',self.__head.data)\n",
    "        self.__head.next = None\n",
    "        self.__head = self.__head.prev\n",
    "        self.__count -= 1\n",
    "        \n",
    "    def top(self):\n",
    "        if self.isEmpty() == True:\n",
    "            print('Stack is empty')\n",
    "            return\n",
    "        print('Element At top: ', self.__head.data)\n",
    "        return self.__head.data\n",
    "    \n",
    "    def size(self):\n",
    "        if self.isEmpty() == True:\n",
    "            print('Stack is empty')\n",
    "            return\n",
    "        print('Size of Stack : ', self.__count)\n",
    "        return self.__count\n",
    "    \n",
    "    def isEmpty(self):\n",
    "        if self.__count == 0:\n",
    "            return True\n",
    "        return False\n",
    "    \n",
    "    def printStack(self):\n",
    "        if self.isEmpty() == True:\n",
    "            print('Stack is empty')\n",
    "            return\n",
    "            \n",
    "        curr = self.__head\n",
    "        while curr is not None:\n",
    "            print('|',' ', '|')\n",
    "            print('|', curr.data , '|')\n",
    "            print('|',' ', '|')\n",
    "            print('-----')\n",
    "            curr = curr.prev\n",
    "        return\n",
    "                  \n",
    "s = Stack2()\n",
    "s.push(1)\n",
    "s.push(3)\n",
    "s.push(5)\n",
    "s.push(7)\n",
    "s.pop()\n",
    "s.top()\n",
    "s.printStack()"
   ]
  },
  {
   "cell_type": "markdown",
   "id": "54a29a92",
   "metadata": {},
   "source": [
    "# Balanced Paranthesis\n",
    "\n",
    "For a given a string expression containing only round brackets or parentheses, check if they are balanced or not. Brackets are said to be balanced if the bracket which opens last, closes first."
   ]
  },
  {
   "cell_type": "code",
   "execution_count": 3,
   "id": "384f3e14",
   "metadata": {},
   "outputs": [
    {
     "name": "stdout",
     "output_type": "stream",
     "text": [
      "Element is appended (\n",
      "Element is appended (\n",
      "Top is (\n",
      "Element ( poped\n",
      "Element is appended {\n",
      "Top is {\n",
      "Element { poped\n",
      "Top is (\n",
      "Element ( poped\n",
      "----------------------------------------------\n",
      "True\n"
     ]
    }
   ],
   "source": [
    "string = \"((){})\"\n",
    "s = Stack()\n",
    "Flag = True\n",
    "for i in string:\n",
    "    if i == '(' or i == \"{\" or i == \"[\": #append in array\n",
    "        s.push(i)\n",
    "    if i == \"}\" or i == \")\" or i == ']': #pop the brackets\n",
    "        if i == ')' and s.top() != '(': #top doesn't match\n",
    "            Flag = False\n",
    "            break\n",
    "        if i == '}' and s.top() != '{':#top doesn't match\n",
    "            Flag = False\n",
    "            break\n",
    "        if i == ']' and s.top() != '[':#top doesn't match\n",
    "            Flag = False\n",
    "            break\n",
    "        if s.size() == 0: #Size is empty\n",
    "            Flag = False\n",
    "            break\n",
    "        s.pop() #If all condition satisify add element\n",
    "        \n",
    "if s.size() != 0: #Check size \n",
    "    Flag = False\n",
    "        \n",
    "print('----------------------------------------------')\n",
    "if Flag:\n",
    "    print('True')\n",
    "    \n",
    "else:\n",
    "    print('False')"
   ]
  },
  {
   "cell_type": "markdown",
   "id": "b50e56e4",
   "metadata": {},
   "source": [
    "# Reverse Stack using 2 Stack"
   ]
  },
  {
   "cell_type": "code",
   "execution_count": 4,
   "id": "f197ec52",
   "metadata": {},
   "outputs": [
    {
     "name": "stdout",
     "output_type": "stream",
     "text": [
      "[5, 4, 3, 2, 1]\n"
     ]
    }
   ],
   "source": [
    "def reverseStack(s1, s2):\n",
    "    if len(s1) == 1: #Last element\n",
    "        return s1\n",
    "    \n",
    "    while len(s1) != 1: #Append all element except last one from s1 to s2\n",
    "        s2.append(s1.pop())\n",
    "        \n",
    "    lastEle = s1.pop() #Save the last element\n",
    "    while len(s2) != 0:#Append all element to s2 to s1\n",
    "        s1.append(s2.pop())\n",
    "        \n",
    "    reverseStack(s1, s2) #Recursive\n",
    "    s1.append(lastEle) #Last element is Now top element\n",
    "    \n",
    "    return s1 #Return\n",
    "    \n",
    "    \n",
    "s1 = [1, 2, 3, 4, 5]\n",
    "s2 = []\n",
    "s1 = reverseStack(s1, s2)\n",
    "print(s1)"
   ]
  },
  {
   "cell_type": "markdown",
   "id": "b8124ba2",
   "metadata": {},
   "source": [
    "# Check redundant brackets\n",
    "\n",
    "For a given expression in the form of a string, find if there exist any redundant brackets or not. It is given that the expression contains only rounded brackets or parenthesis and the input expression will always be balanced.\n",
    "\n",
    "A pair of the bracket is said to be redundant when a sub-expression is surrounded by unnecessary or needless brackets."
   ]
  },
  {
   "cell_type": "code",
   "execution_count": 5,
   "id": "db301b3b",
   "metadata": {},
   "outputs": [
    {
     "name": "stdout",
     "output_type": "stream",
     "text": [
      "false\n"
     ]
    }
   ],
   "source": [
    "string = 'a+b*(a/c-d)'\n",
    "s = []\n",
    "flag = True\n",
    "syntax = '([{+-*/' #possible values\n",
    "for i in string:\n",
    "    if i in syntax: #if i found in syntax\n",
    "        s.append(i)\n",
    "        \n",
    "    if i == ']' or i == ')' or i == '}': \n",
    "        if s[-1] == '(' or s[-1] == '[' or s[-1] == '{': #if redundant brackets\n",
    "            flag = False\n",
    "            break\n",
    "            \n",
    "        while True: #Pop till last append values\n",
    "            if s[-1] == '(' or s[-1] == '[' or s[-1] == '{':\n",
    "                break\n",
    "            s.pop() #Pop last bracket\n",
    "        s.pop()\n",
    "        \n",
    "if len(s) == 0: #if element found\n",
    "    flag = True\n",
    "    \n",
    "if flag: #If not redudency found\n",
    "    print('false')\n",
    "else:\n",
    "    print('true')"
   ]
  },
  {
   "cell_type": "markdown",
   "id": "9eeda85e",
   "metadata": {},
   "source": [
    "# Stock Span\n",
    "\n",
    "Afzal has been working with an organization called 'Money Traders' for the past few years. The organization is into the money trading business. His manager assigned him a task. For a given array/list of stock's prices for N days, find the stock's span for each day.\n",
    "\n",
    "The span of the stock's price today is defined as the maximum number of consecutive days(starting from today and going backwards) for which the price of the stock was less than today's price.\n",
    "\n",
    "For example, if the price of a stock over a period of 7 days are [100, 80, 60, 70, 60, 75, 85], then the stock spans will be [1, 1, 1, 2, 1, 4, 6]."
   ]
  },
  {
   "cell_type": "code",
   "execution_count": 6,
   "id": "eeb7f738",
   "metadata": {},
   "outputs": [
    {
     "name": "stdout",
     "output_type": "stream",
     "text": [
      "[1, 1, 1, 2, 1, 4, 6]\n"
     ]
    }
   ],
   "source": [
    "def stockSpan(price, n) :     \n",
    "    stk = list()     \n",
    "    output = [-1] * n      \n",
    "    stk.append(0)     \n",
    "    output[0] = 1      \n",
    "    for i in range(1, n) :         \n",
    "        while (not len(stk) == 0 ) and (price[stk[-1]] < price[i]): \n",
    "            stk.pop()          \n",
    "        if len(stk) == 0 :#if stack is empty\n",
    "            output[i] = i + 1 # add values\n",
    "            \n",
    "        else :             \n",
    "            output[i] = i - stk[-1] #save index\n",
    "            \n",
    "        stk.append(i) #else add values\n",
    "        \n",
    "    return output #return result\n",
    "    \n",
    "stocks = [100, 80, 60, 70, 60, 75, 85]\n",
    "print(stockSpan(stocks, len(stocks)))"
   ]
  },
  {
   "cell_type": "markdown",
   "id": "65e311b0",
   "metadata": {},
   "source": [
    "# Minimum bracket Reversal\n",
    "\n",
    "For a given expression in the form of a string, find the minimum number of brackets that can be reversed in order to make the expression balanced. The expression will only contain curly brackets.\n",
    "If the expression can't be balanced, return -1."
   ]
  },
  {
   "cell_type": "code",
   "execution_count": 7,
   "id": "bc567989",
   "metadata": {},
   "outputs": [
    {
     "name": "stdout",
     "output_type": "stream",
     "text": [
      "4\n"
     ]
    }
   ],
   "source": [
    "s = '}}}{{{' \n",
    "\n",
    "def minRevBracket(s):\n",
    "    stack = []\n",
    "    if len(s)%2 != 0: #only even bracket can balance\n",
    "        return -1\n",
    "    \n",
    "    for i in s:\n",
    "        if i == '{': #if open bracket\n",
    "            stack.append(i)\n",
    "        else: #if close brack\n",
    "            if len(stack)> 0 and stack[-1] == '{': #if balanced\n",
    "                stack.pop()\n",
    "            else: #else append\n",
    "                stack.append(i)\n",
    "            \n",
    "    counter = 0\n",
    "    \n",
    "    while not len(stack) == 0: #Iterate\n",
    "        #Check top 2 elements\n",
    "        char1 = stack.pop() \n",
    "        char2 = stack.pop()\n",
    "        \n",
    "        if char1 != char2: #if element are not same then both need to turn\n",
    "            counter+=2\n",
    "        else: #if they are same then one need to change\n",
    "            counter +=1\n",
    "            \n",
    "\n",
    "    return counter #return final value\n",
    "\n",
    "\n",
    "print(minRevBracket(s))"
   ]
  }
 ],
 "metadata": {
  "kernelspec": {
   "display_name": "Python 3",
   "language": "python",
   "name": "python3"
  },
  "language_info": {
   "codemirror_mode": {
    "name": "ipython",
    "version": 3
   },
   "file_extension": ".py",
   "mimetype": "text/x-python",
   "name": "python",
   "nbconvert_exporter": "python",
   "pygments_lexer": "ipython3",
   "version": "3.8.8"
  }
 },
 "nbformat": 4,
 "nbformat_minor": 5
}
