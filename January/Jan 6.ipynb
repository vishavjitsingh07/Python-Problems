{
 "cells": [
  {
   "cell_type": "markdown",
   "id": "8aaf7b56",
   "metadata": {},
   "source": [
    "# Get Subsequence\n",
    "\n",
    "1. You are given a string str.\n",
    "2. Complete the body of getSS function - without changing signature - to calculate all subsequences of str.\n",
    "\n",
    "__Use sample input and output to take idea about subsequences.__"
   ]
  },
  {
   "cell_type": "code",
   "execution_count": 1,
   "id": "3ce0fd8e",
   "metadata": {},
   "outputs": [
    {
     "name": "stdout",
     "output_type": "stream",
     "text": [
      "c\n",
      "b\n",
      "bc\n",
      "a\n",
      "ac\n",
      "ab\n",
      "abc\n"
     ]
    }
   ],
   "source": [
    "def subStringHelper(arr, start, substring):\n",
    "    if start == len(arr): #last element found\n",
    "        if len(substring) != 0: #empty String\n",
    "            print(substring)\n",
    "    else:    \n",
    "        subStringHelper(arr, start+1, substring) #Excluding the  first letter of string\n",
    "        subStringHelper(arr, start+1, substring + arr[start]) #including first letter of string\n",
    "    \n",
    "    return \n",
    "\n",
    "def subString(arr):\n",
    "    return subStringHelper(arr, 0, '')\n",
    "\n",
    "arr = 'abc'\n",
    "subString(arr)"
   ]
  },
  {
   "cell_type": "markdown",
   "id": "f94ede5a",
   "metadata": {},
   "source": [
    "# Get Keypad Combinations\n",
    "You are given a string str. The string str will contains numbers only, where each number stands for a key pressed on a mobile phone.\n",
    "2. The following list is the key to characters map :\n",
    "1.    0 -> .;\n",
    "2.    1 -> abc\n",
    "3.    2 -> def\n",
    "4.    3 -> ghi\n",
    "5.    4 -> jkl\n",
    "6.    5 -> mno\n",
    "7.    6 -> pqrs\n",
    "8.    7 -> tu\n",
    "9.    8 -> vwx\n",
    "10.   9 -> yz\n",
    "\n",
    "\n",
    "3. Complete the body of getKPC function - without changing signature - to get the list of all words that could be produced by the keys in str.\n",
    "\n",
    "\n",
    "Use sample input and output to take idea about output."
   ]
  },
  {
   "cell_type": "code",
   "execution_count": 2,
   "id": "30b176f1",
   "metadata": {
    "scrolled": true
   },
   "outputs": [
    {
     "name": "stdout",
     "output_type": "stream",
     "text": [
      "['dp', 'dq', 'dr', 'ds', 'ep', 'eq', 'er', 'es', 'fp', 'fq', 'fr', 'fs']\n"
     ]
    }
   ],
   "source": [
    "def keypadCombinations(num): #keypad values\n",
    "    if num == 0:\n",
    "        return '.;'\n",
    "    if num == 1:\n",
    "        return 'abc'\n",
    "    if num == 2:\n",
    "        return 'def'\n",
    "    if num == 3:\n",
    "        return 'ghi'\n",
    "    if num == 4:\n",
    "        return 'jkl'\n",
    "    if num == 5:\n",
    "        return 'mno'\n",
    "    if num == 6:\n",
    "        return 'pqrs'\n",
    "    if num == 7:\n",
    "        return 'tu'\n",
    "    if num == 8:\n",
    "        return 'vwx'\n",
    "    if num == 9:\n",
    "        return 'yz'\n",
    "    return \" \"\n",
    "def seperateNumber(number):\n",
    "    if number == 0: #If arr is empty return\n",
    "        output = []\n",
    "        output.append('')\n",
    "        return output\n",
    "    \n",
    "    smallNumber = number//10 #Finding minimal number\n",
    "    lastDigit = number%10 #Last digit of number\n",
    "    \n",
    "    \n",
    "    equivalentString = seperateNumber(smallNumber) #Finding smallest number possible\n",
    "    smallOutput = keypadCombinations(lastDigit) #Converting last digit with respective string\n",
    "    \n",
    "    \n",
    "    output = []\n",
    "    for i in equivalentString: \n",
    "        for j in smallOutput:\n",
    "            output.append(i+j) #Finalized generated string\n",
    "            \n",
    "    return output #Final output\n",
    "\n",
    "number = 26\n",
    "z = seperateNumber(number)\n",
    "print(z)"
   ]
  }
 ],
 "metadata": {
  "kernelspec": {
   "display_name": "Python 3",
   "language": "python",
   "name": "python3"
  },
  "language_info": {
   "codemirror_mode": {
    "name": "ipython",
    "version": 3
   },
   "file_extension": ".py",
   "mimetype": "text/x-python",
   "name": "python",
   "nbconvert_exporter": "python",
   "pygments_lexer": "ipython3",
   "version": "3.8.8"
  }
 },
 "nbformat": 4,
 "nbformat_minor": 5
}
