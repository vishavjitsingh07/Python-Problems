{
 "cells": [
  {
   "cell_type": "markdown",
   "id": "bcbe1234",
   "metadata": {},
   "source": [
    "# Count Zeros\n",
    "Given an integer N, count and return the number of zeros that are present in the given integer using recursion."
   ]
  },
  {
   "cell_type": "code",
   "execution_count": 1,
   "id": "91083d02",
   "metadata": {},
   "outputs": [
    {
     "name": "stdout",
     "output_type": "stream",
     "text": [
      "5\n"
     ]
    }
   ],
   "source": [
    "def countZeroHelper(n):\n",
    "    if len(n) == 0:\n",
    "        return 0\n",
    "    if n[0] == '0':\n",
    "        return 1 + countZeroHelper(n[1:])\n",
    "    return countZeroHelper(n[1:])\n",
    "    \n",
    "    \n",
    "def countZero(n): \n",
    "    return countZeroHelper(str(n))\n",
    "\n",
    "n = 30002304140\n",
    "print(countZero(n))"
   ]
  },
  {
   "cell_type": "markdown",
   "id": "67e58a1d",
   "metadata": {},
   "source": [
    "# Check AB\n",
    "Suppose you have a string, S, made up of only 'a's and 'b's. Write a recursive function that checks if the string was generated using the following rules:\n",
    "1. The string begins with an 'a'\n",
    "2. Each 'a' is followed by nothing or an 'a' or \"bb\"\n",
    "3. Each \"bb\" is followed by nothing or an 'a'.\n",
    "\n",
    "__If all the rules are followed by the given string, return true otherwise return false.__"
   ]
  },
  {
   "cell_type": "code",
   "execution_count": 2,
   "id": "38560c18",
   "metadata": {},
   "outputs": [
    {
     "name": "stdout",
     "output_type": "stream",
     "text": [
      "True\n"
     ]
    }
   ],
   "source": [
    "def checkAB(string):\n",
    "    if len(string) <= 2:\n",
    "        return True\n",
    "    if 'aa' in string:\n",
    "        return True\n",
    "    if 'aba' in string:\n",
    "        return False\n",
    "    if 'bbb' in string:\n",
    "        return False\n",
    "    return string[3:]\n",
    "string = 'abbabbabbabbabbabbabba'\n",
    "z = checkAB(string)\n",
    "if z:\n",
    "    print('True')\n",
    "else:\n",
    "    print('False')"
   ]
  },
  {
   "cell_type": "markdown",
   "id": "25315ca8",
   "metadata": {},
   "source": [
    "# Staircase\n",
    "\n",
    "__A child is running up a staircase with N steps, and can hop either 1 step, 2 steps or 3 steps at a time. Implement a method to count how many possible ways the child can run up to the stairs. You need to return number of possible ways W.__"
   ]
  },
  {
   "cell_type": "code",
   "execution_count": 3,
   "id": "80c08cdb",
   "metadata": {
    "scrolled": true
   },
   "outputs": [
    {
     "name": "stdout",
     "output_type": "stream",
     "text": [
      "274\n"
     ]
    }
   ],
   "source": [
    "def staircase(n):\n",
    "    if n<=2:\n",
    "        return n\n",
    "    if n<=3:\n",
    "        return 4\n",
    "\n",
    "    return staircase(n-1) +staircase(n-2) + staircase(n-3)\n",
    "n = 10\n",
    "print(staircase(n))"
   ]
  }
 ],
 "metadata": {
  "kernelspec": {
   "display_name": "Python 3",
   "language": "python",
   "name": "python3"
  },
  "language_info": {
   "codemirror_mode": {
    "name": "ipython",
    "version": 3
   },
   "file_extension": ".py",
   "mimetype": "text/x-python",
   "name": "python",
   "nbconvert_exporter": "python",
   "pygments_lexer": "ipython3",
   "version": "3.8.8"
  }
 },
 "nbformat": 4,
 "nbformat_minor": 5
}
