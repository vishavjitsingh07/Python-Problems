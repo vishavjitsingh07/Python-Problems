{
 "cells": [
  {
   "cell_type": "markdown",
   "id": "6c164213",
   "metadata": {},
   "source": [
    "# Best Time to Buy and Sell Stock\n",
    "\n",
    "\n",
    "You are given an array prices where prices[i] is the price of a given stock on the ith day.\n",
    "\n",
    "You want to maximize your profit by choosing a single day to buy one stock and choosing a different day in the future to sell that stock.\n",
    "\n",
    "Return the maximum profit you can achieve from this transaction. If you cannot achieve any profit, return 0."
   ]
  },
  {
   "cell_type": "code",
   "execution_count": 1,
   "id": "4a52049f",
   "metadata": {},
   "outputs": [
    {
     "name": "stdout",
     "output_type": "stream",
     "text": [
      "5\n"
     ]
    }
   ],
   "source": [
    "#O(n^2)\n",
    "def priceStock1(arr):\n",
    "    max_value = -1\n",
    "    for i in range(len(arr)):\n",
    "        for j in range(i+1, len(arr)):\n",
    "            if arr[i] < arr[j]:\n",
    "                count = abs(arr[i] - arr[j])\n",
    "                if count> max_value :\n",
    "                    max_value = count\n",
    "    \n",
    "    return max_value\n",
    "\n",
    "#O(n) Iterate over array maintain the smallest price and get max profit by subtracting it with max\n",
    "def priceStock2(price):\n",
    "    min_price = float('inf') #Save the price of lowest\n",
    "    max_profit = 0\n",
    "    for i in range(len(prices)):  #Iterate\n",
    "        if prices[i] < min_price: #If we found minimum price\n",
    "            min_price = prices[i]\n",
    "        elif prices[i] - min_price > max_profit: #max_profit = curr[price] - min_Price\n",
    "            max_profit = prices[i] - min_price\n",
    "                \n",
    "    return max_profit\n",
    "        \n",
    "\n",
    "\n",
    "price = [7, 1, 5, 3, 6, 4]\n",
    "print(priceStock1(price))"
   ]
  },
  {
   "cell_type": "markdown",
   "id": "27f5554d",
   "metadata": {},
   "source": [
    "# Count pairs with given sum \n",
    "\n",
    "Given an array of N integers, and an integer K, find the number of pairs of elements in the array whose sum is equal to K."
   ]
  },
  {
   "cell_type": "code",
   "execution_count": 2,
   "id": "dee9a478",
   "metadata": {},
   "outputs": [
    {
     "data": {
      "text/plain": [
       "6"
      ]
     },
     "execution_count": 2,
     "metadata": {},
     "output_type": "execute_result"
    }
   ],
   "source": [
    "#O(n) create an array and make sure element exist in dict if yes add count since thr exist two same pair like (1, 49) and (49, 1) so divide it by 2 at last\n",
    "def countPair(arr, k):\n",
    "    dictPair = {} #Create dict\n",
    "    for i in arr:\n",
    "        dictPair[i] = dictPair.get(i, 0) + 1   \n",
    "    \n",
    "    pairSum = 0\n",
    "    for i in dictPair: #Iterate over dict\n",
    "        num = k - i \n",
    "        if num == i: #If sum is double then it is always n*n-1 terms not n^2 terms remeber divide by 2 happens at last\n",
    "            value = dictPair[i]\n",
    "            pairSum += ((value * (value - 1)))\n",
    "        elif num in dictPair: #If pair found\n",
    "            pairSum += dictPair[num] * dictPair[i]\n",
    "    return pairSum//2 #return Value\n",
    "\n",
    "k = 10\n",
    "arr = [1, 5, 5, 5, 5, 7]\n",
    "countPair(arr, k)"
   ]
  },
  {
   "cell_type": "markdown",
   "id": "f68a6398",
   "metadata": {},
   "source": [
    "# Common elements \n",
    "Given three arrays sorted in increasing order. Find the elements that are common in all three arrays."
   ]
  },
  {
   "cell_type": "code",
   "execution_count": 3,
   "id": "d140093b",
   "metadata": {},
   "outputs": [
    {
     "name": "stdout",
     "output_type": "stream",
     "text": [
      "[20, 80]\n"
     ]
    },
    {
     "data": {
      "text/plain": [
       "[20, 80]"
      ]
     },
     "execution_count": 3,
     "metadata": {},
     "output_type": "execute_result"
    }
   ],
   "source": [
    "# O(n*m) where n and m is max 2 len of (arr1, arr2, arr3)\n",
    "def commonIn3Arr(arr1, arr2, arr3):\n",
    "    subSetArr1Arr2 = []\n",
    "    for i in arr1: #get the intersection or arr1 and arr2\n",
    "        if i in arr2:\n",
    "            subSetArr1Arr2.append(i)\n",
    "    finalSubSet = []\n",
    "    for i in arr3: #get the intersection fo intersect array with arr3\n",
    "        if i in subSetArr1Arr2:\n",
    "            finalSubSet.append(i)\n",
    "    return sorted(set(finalSubSet)) #return final answer\n",
    "\n",
    "#O(nlogn) where n is len of intersection array or len of arr1 bcz in worst case arr1, arr2, arr3 will be same\n",
    "def commonIn3Arr2(A, B, C):\n",
    "    arr1 = set(A)\n",
    "    arr2 = set(B)\n",
    "    arr3 = set(C)\n",
    "    \n",
    "    finalSubSet = sorted(arr3.intersection(arr2).intersection(arr1)) #get the sorted array \n",
    "    return finalSubSet\n",
    "\n",
    "arr1 = [1, 20, 10, 20, 40, 80]\n",
    "arr2 = [6, 20, 20, 80, 100]\n",
    "arr3 = [3, 20, 15, 20, 30, 70, 80, 120]\n",
    "print(commonIn3Arr(arr1, arr2, arr3))\n",
    "commonIn3Arr2(arr1, arr2, arr3)"
   ]
  },
  {
   "cell_type": "markdown",
   "id": "4b53e753",
   "metadata": {},
   "source": [
    "# Rearrange array in alternating positive & negative items with O(1) extra space | Set 1\n",
    "\n",
    "Given an array of positive and negative numbers, arrange them in an alternate fashion such that every positive number is followed by negative and vice-versa maintaining the order of appearance. \n",
    "Number of positive and negative numbers need not be equal. If there are more positive numbers they appear at the end of the array. If there are more negative numbers, they too appear in the end of the array."
   ]
  },
  {
   "cell_type": "code",
   "execution_count": 4,
   "id": "7edfad13",
   "metadata": {},
   "outputs": [
    {
     "data": {
      "text/plain": [
       "[-5, 5, -2, 2, -8, 4, 7, 1, 8, 0]"
      ]
     },
     "execution_count": 4,
     "metadata": {},
     "output_type": "execute_result"
    }
   ],
   "source": [
    "def rightRotate(arr, n, outOfPlace, cur): #rotate the array\n",
    "    temp = arr[cur]\n",
    "    for i in range(cur, outOfPlace, -1):\n",
    "        arr[i] = arr[i - 1]\n",
    "    arr[outOfPlace] = temp\n",
    "    return arr\n",
    "\n",
    "def rearrange(arr):\n",
    "    n = len(arr)\n",
    "    outOfPlace = -1 #Element not in place index\n",
    "    for index in range(n):\n",
    "        if(outOfPlace >= 0):\n",
    "            if((arr[index] >= 0 and arr[outOfPlace] < 0) or (arr[index] < 0 and arr[outOfPlace] >= 0)): #if range found that start with either +ve or -ve number and ends with vice verse number\n",
    "                arr = rightRotate(arr, n, outOfPlace, index) #rotate\n",
    "                if(index-outOfPlace > 2):\n",
    "                    outOfPlace += 2 #increase index by 2 as two elements are placed correct\n",
    "                else:\n",
    "                    outOfPlace =- 1\n",
    "                    \n",
    "        if(outOfPlace == -1): #no element changes yet\n",
    "            if((arr[index] >= 0 and index % 2 == 0) or (arr[index] < 0 and index % 2 == 1)): #get the index of placed element\n",
    "                outOfPlace = index\n",
    "    return arr\n",
    "\n",
    "arr = [-5, -2, 5, 2, 4, 7, 1, 8, 0, -8]\n",
    "rearrange(arr)"
   ]
  },
  {
   "cell_type": "markdown",
   "id": "a9c02108",
   "metadata": {},
   "source": [
    "# Subarray with 0 sum \n",
    "Given an array of positive and negative numbers. Find if there is a subarray (of size at-least one) with 0 sum."
   ]
  },
  {
   "cell_type": "code",
   "execution_count": 5,
   "id": "8909b314",
   "metadata": {
    "scrolled": true
   },
   "outputs": [
    {
     "data": {
      "text/plain": [
       "True"
      ]
     },
     "execution_count": 5,
     "metadata": {},
     "output_type": "execute_result"
    }
   ],
   "source": [
    "#O(n) create a array of sum if thr exist a sum having any value same or 0 then thr exist a pair\n",
    "def zeroSum(arr):\n",
    "        n = len(arr)\n",
    "        n_sum = 0 #Sum of array\n",
    "        s = set()\n",
    "\n",
    "        for i in range(n):\n",
    "            n_sum += arr[i] #add cumulative sum\n",
    "\n",
    "            if n_sum == 0 or n_sum in s: #If cumulative sum exist in set then thr exist pair of 0\n",
    "                return True\n",
    "            s.add(n_sum) #Else continue\n",
    "\n",
    "        return False #after loop completion \n",
    "arr = [4, 2, -3, 1, 6]\n",
    "zeroSum(arr)"
   ]
  }
 ],
 "metadata": {
  "kernelspec": {
   "display_name": "Python 3",
   "language": "python",
   "name": "python3"
  },
  "language_info": {
   "codemirror_mode": {
    "name": "ipython",
    "version": 3
   },
   "file_extension": ".py",
   "mimetype": "text/x-python",
   "name": "python",
   "nbconvert_exporter": "python",
   "pygments_lexer": "ipython3",
   "version": "3.8.8"
  }
 },
 "nbformat": 4,
 "nbformat_minor": 5
}
