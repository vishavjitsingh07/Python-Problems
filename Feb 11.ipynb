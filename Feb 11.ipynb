class Solution:
    def minLength(self, s, n): 
        l = ["12", "21", "34", "43", "56", "65", "78", "87", "09", "90"]
        i = 0
        while True:
            currS = len(s)
            for i in l:
                if i in s:
                    s = s.replace(i, "")
            temp = len(s)
            if currS == temp:
                break
        return len(s)
