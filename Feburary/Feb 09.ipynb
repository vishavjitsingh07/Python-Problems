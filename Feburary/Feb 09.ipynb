{
 "cells": [
  {
   "cell_type": "markdown",
   "id": "8061cfbe",
   "metadata": {},
   "source": [
    " <header class=\"amp-wp-article-header\">\n",
    "\t\t<h3 class=\"amp-wp-title style = font-family:courier new;font-size: 100px;\">42. Trapping Rain Water\n",
    "\n",
    "</h3>\n",
    "</header>\n",
    "<font color = \"Red\">Hard</font>\n",
    "</header>\n",
    "\n",
    "<font  style = \"font-family:courier new;font-size: 16px;\">\n",
    "<div><p>Given <code>n</code> non-negative integers representing an elevation map where the width of each bar is <code>1</code>, compute how much water it can trap after raining.</p>\n",
    "\n",
    "<p>&nbsp;</p>\n",
    "<p><strong>Example 1:</strong></p>\n",
    "<img src=\"https://assets.leetcode.com/uploads/2018/10/22/rainwatertrap.png\" style=\"width: 412px; height: 161px;\">\n",
    "<pre><strong>Input:</strong> height = [0,1,0,2,1,0,1,3,2,1,2,1]\n",
    "<strong>Output:</strong> 6\n",
    "<strong>Explanation:</strong> The above elevation map (black section) is represented by array [0,1,0,2,1,0,1,3,2,1,2,1]. In this case, 6 units of rain water (blue section) are being trapped.\n",
    "</pre>\n",
    "\n",
    "<p><strong>Example 2:</strong></p>\n",
    "\n",
    "<pre><strong>Input:</strong> height = [4,2,0,3,2,5]\n",
    "<strong>Output:</strong> 9\n",
    "</pre>\n",
    "\n",
    "<p>&nbsp;</p>\n",
    "<p><strong>Constraints:</strong></p>\n",
    "\n",
    "<ul>\n",
    "\t<li><code>n == height.length</code></li>\n",
    "\t<li><code>1 &lt;= n &lt;= 2 * 10<sup>4</sup></code></li>\n",
    "\t<li><code>0 &lt;= height[i] &lt;= 10<sup>5</sup></code></li>\n",
    "</ul>\n",
    "</div></div>"
   ]
  },
  {
   "cell_type": "code",
   "execution_count": 1,
   "id": "33ba6d2d",
   "metadata": {
    "ExecuteTime": {
     "end_time": "2022-09-19T15:08:16.566260Z",
     "start_time": "2022-09-19T15:08:16.546954Z"
    }
   },
   "outputs": [
    {
     "data": {
      "text/plain": [
       "[['root/a/1.txt', 'root/c/3.txt'],\n",
       " ['root/a/2.txt', 'root/c/d/4.txt', 'root/4.txt']]"
      ]
     },
     "execution_count": 1,
     "metadata": {},
     "output_type": "execute_result"
    }
   ],
   "source": [
    "def trap(height):\n",
    "    n = len(height)\n",
    "    left = 0\n",
    "    leftMax = 0\n",
    "    right = n - 1\n",
    "    rightMax = n - 1\n",
    "    ans = 0\n",
    "    while left < right:\n",
    "        if height[left] <= height[right]:\n",
    "            if height[left] >= height[leftMax]:\n",
    "                leftMax = left\n",
    "            else:\n",
    "                ans += height[leftMax] - height[left]\n",
    "            left += 1\n",
    "        else:\n",
    "            if height[right] >= height[rightMax]:\n",
    "                rightMax = right\n",
    "            else:\n",
    "                ans += height[rightMax] - height[right]\n",
    "            right -= 1\n",
    "    return ans\n",
    "\n",
    "trap(height = [0, 1, 0, 2, 1, 0, 1, 3, 2, 1, 2, 1])"
   ]
  },
  {
   "cell_type": "code",
   "execution_count": null,
   "id": "e40473fe",
   "metadata": {},
   "outputs": [],
   "source": []
  }
 ],
 "metadata": {
  "kernelspec": {
   "display_name": "Python 3 (ipykernel)",
   "language": "python",
   "name": "python3"
  },
  "language_info": {
   "codemirror_mode": {
    "name": "ipython",
    "version": 3
   },
   "file_extension": ".py",
   "mimetype": "text/x-python",
   "name": "python",
   "nbconvert_exporter": "python",
   "pygments_lexer": "ipython3",
   "version": "3.8.8"
  },
  "latex_envs": {
   "LaTeX_envs_menu_present": true,
   "autoclose": false,
   "autocomplete": true,
   "bibliofile": "biblio.bib",
   "cite_by": "apalike",
   "current_citInitial": 1,
   "eqLabelWithNumbers": true,
   "eqNumInitial": 1,
   "hotkeys": {
    "equation": "Ctrl-E",
    "itemize": "Ctrl-I"
   },
   "labels_anchors": false,
   "latex_user_defs": false,
   "report_style_numbering": false,
   "user_envs_cfg": false
  },
  "varInspector": {
   "cols": {
    "lenName": 16,
    "lenType": 16,
    "lenVar": 40
   },
   "kernels_config": {
    "python": {
     "delete_cmd_postfix": "",
     "delete_cmd_prefix": "del ",
     "library": "var_list.py",
     "varRefreshCmd": "print(var_dic_list())"
    },
    "r": {
     "delete_cmd_postfix": ") ",
     "delete_cmd_prefix": "rm(",
     "library": "var_list.r",
     "varRefreshCmd": "cat(var_dic_list()) "
    }
   },
   "types_to_exclude": [
    "module",
    "function",
    "builtin_function_or_method",
    "instance",
    "_Feature"
   ],
   "window_display": false
  }
 },
 "nbformat": 4,
 "nbformat_minor": 5
}
