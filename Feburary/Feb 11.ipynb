def pushDominoes(dominoes):
    dom = "L" + dominoes + "R"
    i = 0
    ans = ""
    m = len(dom)
    while i<m:
        j = i + 1
        while j<m:
            if dom[j] == ".":
                j+=1
                continue
            elif dom[i] == "L" and dom[j] == "L":
                ans += "L" * (j - i)
                break
            elif dom[i] == "R" and dom[j] == "R":
                ans+= "R" * (j - i)
                break
            elif dom[i] == "L" and dom[j] == "R":
                ans += "." * (j-i - 1)
                break
            else:
                if (j - i)%2 == 1:
                    n = (j-i)//2
                    ans += "R"
                    ans += "R" * n
                    ans += "L" * n
                    ans += "L"
                else:                    
                    n = (j-i)//2
                    ans += "R" * n
                    ans += "."
                    ans += "L" * n
                break
        i = j
    return ans
