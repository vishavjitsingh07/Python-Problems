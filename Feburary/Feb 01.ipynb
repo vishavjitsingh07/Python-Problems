{
 "cells": [
  {
   "cell_type": "markdown",
   "id": "868c2ac9",
   "metadata": {},
   "source": [
    "# Row with max 1s \n",
    "Given a boolean 2D array of n x m dimensions where each row is sorted. Find the 0-based index of the first row that has the maximum number of 1's."
   ]
  },
  {
   "cell_type": "code",
   "execution_count": 1,
   "id": "a4986583",
   "metadata": {},
   "outputs": [
    {
     "data": {
      "text/plain": [
       "2"
      ]
     },
     "execution_count": 1,
     "metadata": {},
     "output_type": "execute_result"
    }
   ],
   "source": [
    "def max1s(mat):\n",
    "    n = len(mat) #Number of rows\n",
    "    m = len(mat[0]) #number of columns\n",
    "    arr = [0]*n #Creating a list having values of one in each row\n",
    "    for i in range(n): \n",
    "        for j in mat[i]:\n",
    "            if j == 1:#if 1 found\n",
    "                arr[i]+=1\n",
    "        \n",
    "    maxValue = 0\n",
    "    index = -1 #Assuming there is no max value\n",
    "    for i in range(n):\n",
    "        if arr[i]> maxValue: #If max found\n",
    "            index = i #get the index of max value row\n",
    "            maxValue = arr[i] #update max value of 1's\n",
    "    return index\n",
    "\n",
    "\n",
    "mat = [[0, 1, 1, 1], [0, 0, 1, 1], [1, 1, 1, 1], [0, 0, 0, 0]]\n",
    "max1s(mat)"
   ]
  },
  {
   "cell_type": "markdown",
   "id": "e53cdfd2",
   "metadata": {},
   "source": [
    "# Sorted matrix \n",
    "Given an NxN matrix Mat. Sort all elements of the matrix."
   ]
  },
  {
   "cell_type": "code",
   "execution_count": 2,
   "id": "42f67db9",
   "metadata": {},
   "outputs": [
    {
     "data": {
      "text/plain": [
       "array([[0, 0, 0, 0],\n",
       "       [0, 0, 0, 1],\n",
       "       [1, 1, 1, 1],\n",
       "       [1, 1, 1, 1]])"
      ]
     },
     "execution_count": 2,
     "metadata": {},
     "output_type": "execute_result"
    }
   ],
   "source": [
    "import numpy as np\n",
    "def sortMatrix(mat):\n",
    "    n = len(mat) #Len of matrix\n",
    "    mat = np.array(mat) #convert it into numpy\n",
    "    mat = mat.reshape(n*n) #Reshape it into 1d\n",
    "    mat.sort() #sort the matrix\n",
    "    mat = mat.reshape(n, n) #again reshape to previous one\n",
    "    return mat \n",
    "\n",
    "mat = [[0, 1, 1, 1], [0, 0, 1, 1], [1, 1, 1, 1], [0, 0, 0, 0]]\n",
    "sortMatrix(mat)"
   ]
  },
  {
   "cell_type": "markdown",
   "id": "68af3e75",
   "metadata": {},
   "source": [
    "# Max area of histogram \n",
    "Given a array of various heigth of histograms. Find the maximum area that can form using these values"
   ]
  },
  {
   "cell_type": "code",
   "execution_count": 3,
   "id": "a4170e30",
   "metadata": {},
   "outputs": [
    {
     "data": {
      "text/plain": [
       "9"
      ]
     },
     "execution_count": 3,
     "metadata": {},
     "output_type": "execute_result"
    }
   ],
   "source": [
    "def maxArea(arr):\n",
    "    n = len(arr) #Length of array \n",
    "    nextNear = [n]* n #creating a array of next nearest smallest value if no value found update with sizeofArray\n",
    "    for i in range(n):\n",
    "        for j in range(i+1, n):\n",
    "            if arr[i]>arr[j]: #if minimum value found\n",
    "                nextNear[i] = j #update with index\n",
    "                break #break the loop\n",
    "                \n",
    "    prevNear = [-1]*n #Get the previous smallest value if no value found update with -1\n",
    "    for i in range(n-1, -1, -1):\n",
    "        for j in range(i-1, -1, -1):\n",
    "            if arr[i]>arr[j]: #if minimum value found\n",
    "                prevNear[i] = j #Update with index\n",
    "                break\n",
    "\n",
    "    maxValue = 0 #assuming area to be 0\n",
    "    for i in range(n):\n",
    "        area = (nextNear[i] - prevNear[i] - 1)*(arr[i]) #This formula will give the max area for particular histogram\n",
    "        maxValue = max(area, maxValue) #if it max then previous value\n",
    "        \n",
    "    return maxValue #return max\n",
    "\n",
    "mat = [3, 4, 3, 2]\n",
    "maxArea(mat)"
   ]
  }
 ],
 "metadata": {
  "kernelspec": {
   "display_name": "Python 3",
   "language": "python",
   "name": "python3"
  },
  "language_info": {
   "codemirror_mode": {
    "name": "ipython",
    "version": 3
   },
   "file_extension": ".py",
   "mimetype": "text/x-python",
   "name": "python",
   "nbconvert_exporter": "python",
   "pygments_lexer": "ipython3",
   "version": "3.8.8"
  }
 },
 "nbformat": 4,
 "nbformat_minor": 5
}
