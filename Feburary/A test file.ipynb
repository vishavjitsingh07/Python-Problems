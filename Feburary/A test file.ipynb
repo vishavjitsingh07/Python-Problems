{
 "cells": [
  {
   "cell_type": "code",
   "execution_count": 1,
   "id": "3045d4fb",
   "metadata": {},
   "outputs": [],
   "source": [
    "import MySQLdb"
   ]
  },
  {
   "cell_type": "code",
   "execution_count": 2,
   "id": "cefd506a",
   "metadata": {},
   "outputs": [
    {
     "ename": "TypeError",
     "evalue": "connect() argument 1 must be str, not None",
     "output_type": "error",
     "traceback": [
      "\u001b[1;31m---------------------------------------------------------------------------\u001b[0m",
      "\u001b[1;31mTypeError\u001b[0m                                 Traceback (most recent call last)",
      "\u001b[1;32m<ipython-input-2-3fcc12f6acf0>\u001b[0m in \u001b[0;36m<module>\u001b[1;34m\u001b[0m\n\u001b[0;32m     41\u001b[0m \u001b[1;33m\u001b[0m\u001b[0m\n\u001b[0;32m     42\u001b[0m \u001b[1;33m\u001b[0m\u001b[0m\n\u001b[1;32m---> 43\u001b[1;33m \u001b[0mfetchdb\u001b[0m \u001b[1;33m=\u001b[0m \u001b[0mDb\u001b[0m\u001b[1;33m(\u001b[0m\u001b[1;34m\"scrap_token\"\u001b[0m\u001b[1;33m,\u001b[0m\u001b[0mfetch_db_host\u001b[0m\u001b[1;33m,\u001b[0m\u001b[0mfetch_db_user\u001b[0m\u001b[1;33m,\u001b[0m\u001b[0mfetch_db_password\u001b[0m\u001b[1;33m)\u001b[0m\u001b[1;33m\u001b[0m\u001b[1;33m\u001b[0m\u001b[0m\n\u001b[0m\u001b[0;32m     44\u001b[0m \u001b[0mfetchdb_cursor\u001b[0m \u001b[1;33m=\u001b[0m \u001b[0mfetchdb\u001b[0m\u001b[1;33m.\u001b[0m\u001b[0mcursor\u001b[0m\u001b[1;33m\u001b[0m\u001b[1;33m\u001b[0m\u001b[0m\n\u001b[0;32m     45\u001b[0m \u001b[0minsertdb\u001b[0m \u001b[1;33m=\u001b[0m \u001b[0mDb\u001b[0m\u001b[1;33m(\u001b[0m\u001b[1;34m\"Instagram_Scraping\"\u001b[0m\u001b[1;33m,\u001b[0m\u001b[0minsert_db_host\u001b[0m\u001b[1;33m,\u001b[0m\u001b[0minsert_db_user\u001b[0m\u001b[1;33m,\u001b[0m\u001b[0minsert_db_password\u001b[0m\u001b[1;33m)\u001b[0m\u001b[1;33m\u001b[0m\u001b[1;33m\u001b[0m\u001b[0m\n",
      "\u001b[1;32m<ipython-input-2-3fcc12f6acf0>\u001b[0m in \u001b[0;36m__init__\u001b[1;34m(self, db, host, user, password)\u001b[0m\n\u001b[0;32m     17\u001b[0m         \u001b[0mself\u001b[0m\u001b[1;33m.\u001b[0m\u001b[0muser\u001b[0m \u001b[1;33m=\u001b[0m \u001b[0muser\u001b[0m\u001b[1;33m\u001b[0m\u001b[1;33m\u001b[0m\u001b[0m\n\u001b[0;32m     18\u001b[0m         \u001b[0mself\u001b[0m\u001b[1;33m.\u001b[0m\u001b[0mpassword\u001b[0m \u001b[1;33m=\u001b[0m \u001b[0mpassword\u001b[0m\u001b[1;33m\u001b[0m\u001b[1;33m\u001b[0m\u001b[0m\n\u001b[1;32m---> 19\u001b[1;33m         \u001b[0mself\u001b[0m\u001b[1;33m.\u001b[0m\u001b[0mdb\u001b[0m \u001b[1;33m=\u001b[0m \u001b[0mMySQLdb\u001b[0m\u001b[1;33m.\u001b[0m\u001b[0mconnect\u001b[0m\u001b[1;33m(\u001b[0m\u001b[0mhost\u001b[0m\u001b[1;33m=\u001b[0m\u001b[0mself\u001b[0m\u001b[1;33m.\u001b[0m\u001b[0mhost\u001b[0m\u001b[1;33m,\u001b[0m \u001b[0muser\u001b[0m\u001b[1;33m=\u001b[0m\u001b[0mself\u001b[0m\u001b[1;33m.\u001b[0m\u001b[0muser\u001b[0m\u001b[1;33m,\u001b[0m \u001b[0mpassword\u001b[0m\u001b[1;33m=\u001b[0m\u001b[0mself\u001b[0m\u001b[1;33m.\u001b[0m\u001b[0mpassword\u001b[0m\u001b[1;33m,\u001b[0m \u001b[0mdb\u001b[0m\u001b[1;33m=\u001b[0m\u001b[0mdb\u001b[0m\u001b[1;33m)\u001b[0m\u001b[1;33m\u001b[0m\u001b[1;33m\u001b[0m\u001b[0m\n\u001b[0m\u001b[0;32m     20\u001b[0m         \u001b[0mself\u001b[0m\u001b[1;33m.\u001b[0m\u001b[0mcursor\u001b[0m \u001b[1;33m=\u001b[0m \u001b[0mself\u001b[0m\u001b[1;33m.\u001b[0m\u001b[0mdb\u001b[0m\u001b[1;33m.\u001b[0m\u001b[0mcursor\u001b[0m\u001b[1;33m(\u001b[0m\u001b[1;33m)\u001b[0m\u001b[1;33m\u001b[0m\u001b[1;33m\u001b[0m\u001b[0m\n\u001b[0;32m     21\u001b[0m \u001b[1;33m\u001b[0m\u001b[0m\n",
      "\u001b[1;32m~\\anaconda3\\lib\\site-packages\\MySQLdb\\__init__.py\u001b[0m in \u001b[0;36mConnect\u001b[1;34m(*args, **kwargs)\u001b[0m\n\u001b[0;32m    121\u001b[0m     \u001b[1;32mfrom\u001b[0m \u001b[0mMySQLdb\u001b[0m\u001b[1;33m.\u001b[0m\u001b[0mconnections\u001b[0m \u001b[1;32mimport\u001b[0m \u001b[0mConnection\u001b[0m\u001b[1;33m\u001b[0m\u001b[1;33m\u001b[0m\u001b[0m\n\u001b[0;32m    122\u001b[0m \u001b[1;33m\u001b[0m\u001b[0m\n\u001b[1;32m--> 123\u001b[1;33m     \u001b[1;32mreturn\u001b[0m \u001b[0mConnection\u001b[0m\u001b[1;33m(\u001b[0m\u001b[1;33m*\u001b[0m\u001b[0margs\u001b[0m\u001b[1;33m,\u001b[0m \u001b[1;33m**\u001b[0m\u001b[0mkwargs\u001b[0m\u001b[1;33m)\u001b[0m\u001b[1;33m\u001b[0m\u001b[1;33m\u001b[0m\u001b[0m\n\u001b[0m\u001b[0;32m    124\u001b[0m \u001b[1;33m\u001b[0m\u001b[0m\n\u001b[0;32m    125\u001b[0m \u001b[1;33m\u001b[0m\u001b[0m\n",
      "\u001b[1;32m~\\anaconda3\\lib\\site-packages\\MySQLdb\\connections.py\u001b[0m in \u001b[0;36m__init__\u001b[1;34m(self, *args, **kwargs)\u001b[0m\n\u001b[0;32m    183\u001b[0m         \u001b[0mautocommit\u001b[0m \u001b[1;33m=\u001b[0m \u001b[0mkwargs2\u001b[0m\u001b[1;33m.\u001b[0m\u001b[0mpop\u001b[0m\u001b[1;33m(\u001b[0m\u001b[1;34m\"autocommit\"\u001b[0m\u001b[1;33m,\u001b[0m \u001b[1;32mFalse\u001b[0m\u001b[1;33m)\u001b[0m\u001b[1;33m\u001b[0m\u001b[1;33m\u001b[0m\u001b[0m\n\u001b[0;32m    184\u001b[0m \u001b[1;33m\u001b[0m\u001b[0m\n\u001b[1;32m--> 185\u001b[1;33m         \u001b[0msuper\u001b[0m\u001b[1;33m(\u001b[0m\u001b[1;33m)\u001b[0m\u001b[1;33m.\u001b[0m\u001b[0m__init__\u001b[0m\u001b[1;33m(\u001b[0m\u001b[1;33m*\u001b[0m\u001b[0margs\u001b[0m\u001b[1;33m,\u001b[0m \u001b[1;33m**\u001b[0m\u001b[0mkwargs2\u001b[0m\u001b[1;33m)\u001b[0m\u001b[1;33m\u001b[0m\u001b[1;33m\u001b[0m\u001b[0m\n\u001b[0m\u001b[0;32m    186\u001b[0m         \u001b[0mself\u001b[0m\u001b[1;33m.\u001b[0m\u001b[0mcursorclass\u001b[0m \u001b[1;33m=\u001b[0m \u001b[0mcursorclass\u001b[0m\u001b[1;33m\u001b[0m\u001b[1;33m\u001b[0m\u001b[0m\n\u001b[0;32m    187\u001b[0m         \u001b[0mself\u001b[0m\u001b[1;33m.\u001b[0m\u001b[0mencoders\u001b[0m \u001b[1;33m=\u001b[0m \u001b[1;33m{\u001b[0m\u001b[0mk\u001b[0m\u001b[1;33m:\u001b[0m \u001b[0mv\u001b[0m \u001b[1;32mfor\u001b[0m \u001b[0mk\u001b[0m\u001b[1;33m,\u001b[0m \u001b[0mv\u001b[0m \u001b[1;32min\u001b[0m \u001b[0mconv\u001b[0m\u001b[1;33m.\u001b[0m\u001b[0mitems\u001b[0m\u001b[1;33m(\u001b[0m\u001b[1;33m)\u001b[0m \u001b[1;32mif\u001b[0m \u001b[0mtype\u001b[0m\u001b[1;33m(\u001b[0m\u001b[0mk\u001b[0m\u001b[1;33m)\u001b[0m \u001b[1;32mis\u001b[0m \u001b[1;32mnot\u001b[0m \u001b[0mint\u001b[0m\u001b[1;33m}\u001b[0m\u001b[1;33m\u001b[0m\u001b[1;33m\u001b[0m\u001b[0m\n",
      "\u001b[1;31mTypeError\u001b[0m: connect() argument 1 must be str, not None"
     ]
    }
   ],
   "source": [
    "import requests\n",
    "import MySQLdb \n",
    "import pandas as pd\n",
    "from dotenv import load_dotenv\n",
    "import os\n",
    "import time\n",
    "import datetime\n",
    "import pytz\n",
    "from datetime import timedelta\n",
    "\n",
    "UTC = pytz.utc\n",
    "IST = pytz.timezone('Asia/Kolkata')\n",
    "\n",
    "class Db:\n",
    "    def __init__(self,db, host, user, password):\n",
    "        self.host = host\n",
    "        self.user = user\n",
    "        self.password = password\n",
    "        self.db = MySQLdb.connect(host=self.host, user=self.user, password=self.password, db=db)\n",
    "        self.cursor = self.db.cursor()\n",
    "\n",
    "load_dotenv(\"ig.env\")\n",
    "\n",
    "if os.getenv(\"DEBUGGING\")==\"true\":\n",
    "    insert_db_host = os.getenv(\"DB_HOST_LOCAL\")\n",
    "    insert_db_user = os.getenv(\"DB_USER_LOCAL\")\n",
    "    insert_db_password = os.getenv(\"DB_PASSWORD_LOCAL\")\n",
    "\n",
    "    fetch_db_host= os.getenv(\"DB_HOST_MAIN\")\n",
    "    fetch_db_user = os.getenv(\"DB_USER_MAIN\")\n",
    "    fetch_db_password = os.getenv(\"DB_PASSWORD_MAIN\")\n",
    "else:\n",
    "    insert_db_host = os.getenv(\"DB_HOST_MAIN\")\n",
    "    insert_db_user = os.getenv(\"DB_USER_MAIN\")\n",
    "    insert_db_password = os.getenv(\"DB_PASSWORD_MAIN\")\n",
    "\n",
    "    fetch_db_host= os.getenv(\"DB_HOST_MAIN\")\n",
    "    fetch_db_user = os.getenv(\"DB_USER_MAIN\")\n",
    "    fetch_db_password = os.getenv(\"DB_PASSWORD_MAIN\")\n",
    "    \n",
    "\n",
    "\n",
    "fetchdb = Db(\"scrap_token\",fetch_db_host,fetch_db_user,fetch_db_password)\n",
    "fetchdb_cursor = fetchdb.cursor\n",
    "insertdb = Db(\"Instagram_Scraping\",insert_db_host,insert_db_user,insert_db_password)\n",
    "insertdb_cursor = insertdb.cursor\n",
    "table_name = \"ig_insights\"\n",
    "frequency = \"daily\"\n",
    "\n",
    "\n",
    "\n",
    "def page_id_tkn():\n",
    "    sql = \"SELECT page_id,long_token FROM Token_instapagetoken\"\n",
    "    fetchdb_cursor.execute(sql)\n",
    "    fetchdb_data = fetchdb_cursor.fetchall()\n",
    "    return fetchdb_data\n",
    "\n",
    "page_id_tkn_list = page_id_tkn()\n",
    "page_id_tkn_dict = {page_id_tkn_list[i][0]:page_id_tkn_list[i][1] for i in range(len(page_id_tkn_list))}\n",
    "\n",
    "def month_ends_date():\n",
    "    current_month = datetime.datetime.now(IST).month\n",
    "    last_month = current_month - 1\n",
    "    if last_month == 0:\n",
    "        last_month = 12\n",
    "        last_month_first_date = datetime.datetime(datetime.datetime.now(IST).year - 1, last_month, 1, 0, 0, 0).strftime('%Y-%m-%d')\n",
    "    else:\n",
    "        last_month_first_date = datetime.datetime(datetime.datetime.now(IST).year, last_month, 1, 0, 0, 0).strftime('%Y-%m-%d')\n",
    "\n",
    "    current_month_first_date = datetime.datetime(datetime.datetime.now(IST).year, current_month, 1, 0, 0, 0).strftime('%Y-%m-%d')\n",
    "\n",
    "    return last_month_first_date,current_month_first_date\n",
    "\n",
    "def start_end_frequency(frequency):\n",
    "    start,end,scrap_type = None,None,None\n",
    "    end = datetime.datetime.now(IST)\n",
    "    if frequency == \"daily\":\n",
    "        start = (end - timedelta(days=1)).strftime(\"%Y-%m-%d %H:%M:%S\")\n",
    "        end = end.strftime(\"%Y-%m-%d %H:%M:%S\")\n",
    "        scrap_type= 'D'\n",
    "    elif frequency == \"weekly\":\n",
    "        start = (end - timedelta(days=7)).strftime(\"%Y-%m-%d %H:%M:%S\")\n",
    "        end = end.strftime(\"%Y-%m-%d %H:%M:%S\")\n",
    "        scrap_type= 'W'\n",
    "    elif frequency==\"monthly\":\n",
    "        start,end = month_ends_date()\n",
    "        scrap_type= 'M'\n",
    "    elif frequency==\"manual\":\n",
    "        print(\"The code for this category is still in progress.\")\n",
    "    else:\n",
    "        print(\"Invalid String\")\n",
    "    return start,end,scrap_type\n",
    "\n",
    "start,end,scrap_type = start_end_frequency(frequency)\n",
    "\n",
    "start,end = start.split()[0],end.split()[0]\n",
    "#print(start,end)    \n",
    "\n",
    "def page_post_id():\n",
    "    sql = \"SELECT page_id,post_id,media_type FROM {} where frequency = '{}' AND  date(created_time)>='{}' and date(created_time)<='{}' \".format(table_name,scrap_type,start,end)\n",
    "    insertdb_cursor.execute(sql)\n",
    "    pagepostdata = insertdb_cursor.fetchall()\n",
    "    return pagepostdata\n",
    "\n",
    "pagepostdata = page_post_id()\n",
    "field_titles = [ \"impressions\",\"reach\",\"engagement\",\"saved\",\"video_views\"]\n",
    "\n",
    "def metric_maker(media_type):\n",
    "    metric_list = field_titles\n",
    "    \n",
    "    if media_type==\"IMAGE\":\n",
    "        #metrics=\",\".join(metric_list[:-1]) \n",
    "        metrics = \"impressions,reach,engagement,saved\"\n",
    "    elif media_type==\"VIDEO\":\n",
    "        #metrics=\",\".join(metric_list[:])\n",
    "        metrics = \"impressions,reach,engagement,saved,video_views\"\n",
    "    else:\n",
    "        #metrics = ','.join([\"carousel_album_\"+x for x in metric_list[:]])  \n",
    "        metrics = 'carousel_album_impressions,carousel_album_reach,carousel_album_engagement,carousel_album_saved,carousel_album_video_views'\n",
    "   \n",
    "    \n",
    "    return metrics\n",
    "  \n",
    "#CAROUSEL_ALBUM\n",
    "#,\n",
    "def fetch_insights():\n",
    "    for page_id,post_id,media_type in pagepostdata:\n",
    "        try:\n",
    "            page_token = page_id_tkn_dict[page_id]\n",
    "            metrics = metric_maker(media_type)\n",
    "            url = \"\"\"https://graph.facebook.com/v13.0/{}/insights?access_token={}&metric={}\"\"\".format(post_id,page_token,metrics)\n",
    "            response = requests.get(url)\n",
    "            post_data = response.json()\n",
    "            post_metric= {}\n",
    "            post_metric = {\"post_id\":post_id,\"page_id\":page_id,\"media_type\":media_type}\n",
    "            for metric in post_data.get(\"data\"):\n",
    "                title =  metric.get(\"name\")\n",
    "                if media_type==\"CAROUSEL_ALBUM\":\n",
    "                    title = title.replace(\"carousel_album_\",\"\")\n",
    "                post_metric[title] = metric.get(\"values\")[0].get(\"value\")\n",
    "            if media_type==\"IMAGE\":\n",
    "                post_metric[\"video_views\"]=0 \n",
    "            for field in field_titles:\n",
    "                if field not in list(post_metric.keys()):\n",
    "                    post_metric[field]= 0\n",
    "            post_metric['updated_time'] = datetime.datetime.now(IST).strftime(\"%Y-%m-%d %H:%M:%S\")\n",
    "            \n",
    "            insert_insights(post_metric,page_id,post_id)\n",
    "        except Exception as e:\n",
    "            print(e)\n",
    "            \n",
    "        \n",
    "def insert_insights(post_metric,page_id,post_id):\n",
    "    idb = insertdb.db\n",
    "    columns = list(post_metric.keys())\n",
    "    values = list(post_metric.values())\n",
    "    \n",
    "    helper = ['%s'] * len(columns)\n",
    "    duplicate_update_sql = ', '.join(['%s=VALUES(%s)' % (k, k) for k in columns])\n",
    "    try:\n",
    "        insertdb_cursor.execute(\n",
    "            \"\"\"INSERT INTO {} ({}) VALUES ({}) ON DUPLICATE KEY UPDATE {} \"\"\".format(table_name, ' ,'.join(columns)  , ' ,'.join(helper), duplicate_update_sql),\n",
    "            values)\n",
    "        idb.commit()\n",
    "        print(page_id,post_id,\"Success\")\n",
    "    except Exception as e:\n",
    "        print(e)\n",
    "        idb.rollback()\n",
    "print(\"Started at\",datetime.datetime.now(IST).strftime(\"%Y-%m-%d %H:%M:%S\"))\n",
    "\n",
    "fetch_insights()\n",
    "\n",
    "print(\"Ended at\",datetime.datetime.now(IST).strftime(\"%Y-%m-%d %H:%M:%S\")) "
   ]
  },
  {
   "cell_type": "code",
   "execution_count": null,
   "id": "dda31f8a",
   "metadata": {},
   "outputs": [],
   "source": [
    "def move1(str1, str2):\n",
    "    char = str1[0]\n",
    "    str2 = str2 + char\n",
    "    str1 = str1[1:]\n",
    "    return str1, str2\n",
    "def move2(str2, str3):\n",
    "    char = str2[-1]\n",
    "    str3 = char + str2\n",
    "    str2 = str2[:-1]\n",
    "    return str2, str3\n",
    "    \n",
    "    \n",
    "    \n",
    "    \n",
    "str1 = 'akbjofjfhao'\n",
    "str2 = \"\"\n",
    "str3 = \"\"\n",
    "new_str = \"\"\n",
    "n = len(str1)\n",
    "for i in range(n):\n",
    "    if str1 == \"\" and str2 == \"\":\n",
    "        break\n",
    "    elif str1[i] == min(str1):\n",
    "        str2, str3 = move1(str2, str3)\n",
    "        str1, str2 = move1(str1, str2)\n",
    "    else:\n",
    "        str1, str2 = move1(str1, str2)\n",
    "    \n",
    "    \n",
    "    "
   ]
  },
  {
   "cell_type": "code",
   "execution_count": 2,
   "id": "0cdd6d4b",
   "metadata": {},
   "outputs": [
    {
     "name": "stdout",
     "output_type": "stream",
     "text": [
      "e\n"
     ]
    }
   ],
   "source": [
    "str1 = \"hello\"\n",
    "print(min(str1))"
   ]
  },
  {
   "cell_type": "code",
   "execution_count": 3,
   "id": "0ff68556",
   "metadata": {},
   "outputs": [
    {
     "name": "stdout",
     "output_type": "stream",
     "text": [
      "1.4142135623730951\n"
     ]
    }
   ],
   "source": [
    "def distance(x, y):\n",
    "    return ((x[0] - y[0])**2 + (x[1] - y[1])**2)**.5\n",
    "\n",
    "class:\n",
    "    def func(self, x, y, z)\n",
    "        x = 2\n",
    "        y = 3\n",
    "        z = [[0, 0], [2, 0], [0, 2]]\n",
    "\n",
    "        max_dist = 0\n",
    "        for i in range(len(z)):\n",
    "            for j in range(i, len(z)):\n",
    "                dist = distance(z[i], z[j])\n",
    "                if dist > max_dist:\n",
    "                    max_dist = dist\n",
    "        return (max_dist/x)\n",
    "        "
   ]
  },
  {
   "cell_type": "code",
   "execution_count": 1,
   "id": "dd9ebba9",
   "metadata": {},
   "outputs": [
    {
     "data": {
      "text/plain": [
       "5"
      ]
     },
     "execution_count": 1,
     "metadata": {},
     "output_type": "execute_result"
    }
   ],
   "source": [
    "int.__add__(2, 3)"
   ]
  },
  {
   "cell_type": "code",
   "execution_count": 17,
   "id": "2d58f876",
   "metadata": {},
   "outputs": [
    {
     "name": "stdout",
     "output_type": "stream",
     "text": [
      "2\n",
      "14\n",
      "26\n",
      "38\n",
      "50\n"
     ]
    }
   ],
   "source": [
    "p = 5\n",
    "count = 1\n",
    "n = 0\n",
    "while count<= p:\n",
    "    ele = 6*n + 2\n",
    "    if ele%4 == 0:\n",
    "        p+=1\n",
    "        count+=1\n",
    "        continue\n",
    "    else:\n",
    "        count+=1\n",
    "        n += 2\n",
    "        print(ele)"
   ]
  },
  {
   "cell_type": "code",
   "execution_count": 10,
   "id": "ca17749a",
   "metadata": {},
   "outputs": [
    {
     "name": "stdout",
     "output_type": "stream",
     "text": [
      "pYTHON rOCKs!\n"
     ]
    }
   ],
   "source": [
    "s='Python RockS!'\n",
    "print(s.swapcase().rpartition('o')[2])"
   ]
  },
  {
   "cell_type": "code",
   "execution_count": 1,
   "id": "da380f00",
   "metadata": {},
   "outputs": [
    {
     "data": {
      "text/plain": [
       "{'e', 's', 't'}"
      ]
     },
     "execution_count": 1,
     "metadata": {},
     "output_type": "execute_result"
    }
   ],
   "source": [
    "a = \"test\"\n",
    "set(a)"
   ]
  },
  {
   "cell_type": "code",
   "execution_count": 7,
   "id": "6668e293",
   "metadata": {},
   "outputs": [
    {
     "data": {
      "text/plain": [
       "5"
      ]
     },
     "execution_count": 7,
     "metadata": {},
     "output_type": "execute_result"
    }
   ],
   "source": [
    "def minSubstring(a, b, currMin = float(\"inf\")):\n",
    "    if len(a) < len(b) or (len(a) == len(b) and a!=b) or set(a).intersection(set(b)) != set(b):\n",
    "        return False\n",
    "    else:\n",
    "        return min(len(a), currMin)\n",
    "    return minSubstring(a[1:], b)\n",
    "\n",
    "minSubstring(\"fight\", \"it\")"
   ]
  },
  {
   "cell_type": "code",
   "execution_count": null,
   "id": "b28fbfb8",
   "metadata": {},
   "outputs": [],
   "source": []
  }
 ],
 "metadata": {
  "kernelspec": {
   "display_name": "Python 3 (ipykernel)",
   "language": "python",
   "name": "python3"
  },
  "language_info": {
   "codemirror_mode": {
    "name": "ipython",
    "version": 3
   },
   "file_extension": ".py",
   "mimetype": "text/x-python",
   "name": "python",
   "nbconvert_exporter": "python",
   "pygments_lexer": "ipython3",
   "version": "3.8.8"
  }
 },
 "nbformat": 4,
 "nbformat_minor": 5
}
