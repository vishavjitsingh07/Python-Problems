{
 "cells": [
  {
   "cell_type": "markdown",
   "id": "330c1ebf",
   "metadata": {},
   "source": [
    " <header class=\"amp-wp-article-header\">\n",
    "\t\t<h3 class=\"amp-wp-title style = font-family:courier new;font-size: 100px;\">609. Find Duplicate File in System\n",
    "\n",
    "</h3>\n",
    "</header>\n",
    "<font color = \"Orange\">Medium</font>\n",
    "<div><p>Given a list <code>paths</code> of directory info, including the directory path, and all the files with contents in this directory, return <em>all the duplicate files in the file system in terms of their paths</em>. You may return the answer in <strong>any order</strong>.</p>\n",
    "\n",
    "<p>A group of duplicate files consists of at least two files that have the same content.</p>\n",
    "\n",
    "<p>A single directory info string in the input list has the following format:</p>\n",
    "\n",
    "<ul>\n",
    "\t<li><code>\"root/d1/d2/.../dm f1.txt(f1_content) f2.txt(f2_content) ... fn.txt(fn_content)\"</code></li>\n",
    "</ul>\n",
    "\n",
    "<p>It means there are <code>n</code> files <code>(f1.txt, f2.txt ... fn.txt)</code> with content <code>(f1_content, f2_content ... fn_content)</code> respectively in the directory \"<code>root/d1/d2/.../dm\"</code>. Note that <code>n &gt;= 1</code> and <code>m &gt;= 0</code>. If <code>m = 0</code>, it means the directory is just the root directory.</p>\n",
    "\n",
    "<p>The output is a list of groups of duplicate file paths. For each group, it contains all the file paths of the files that have the same content. A file path is a string that has the following format:</p>\n",
    "\n",
    "<ul>\n",
    "\t<li><code>\"directory_path/file_name.txt\"</code></li>\n",
    "</ul>\n",
    "\n",
    "<p>&nbsp;</p>\n",
    "<p><strong>Example 1:</strong></p>\n",
    "<pre><strong>Input:</strong> paths = [\"root/a 1.txt(abcd) 2.txt(efgh)\",\"root/c 3.txt(abcd)\",\"root/c/d 4.txt(efgh)\",\"root 4.txt(efgh)\"]\n",
    "<strong>Output:</strong> [[\"root/a/2.txt\",\"root/c/d/4.txt\",\"root/4.txt\"],[\"root/a/1.txt\",\"root/c/3.txt\"]]\n",
    "</pre><p><strong>Example 2:</strong></p>\n",
    "<pre><strong>Input:</strong> paths = [\"root/a 1.txt(abcd) 2.txt(efgh)\",\"root/c 3.txt(abcd)\",\"root/c/d 4.txt(efgh)\"]\n",
    "<strong>Output:</strong> [[\"root/a/2.txt\",\"root/c/d/4.txt\"],[\"root/a/1.txt\",\"root/c/3.txt\"]]\n",
    "</pre>\n",
    "<p>&nbsp;</p>\n",
    "<p><strong>Constraints:</strong></p>\n",
    "\n",
    "<ul>\n",
    "\t<li><code>1 &lt;= paths.length &lt;= 2 * 10<sup>4</sup></code></li>\n",
    "\t<li><code>1 &lt;= paths[i].length &lt;= 3000</code></li>\n",
    "\t<li><code>1 &lt;= sum(paths[i].length) &lt;= 5 * 10<sup>5</sup></code></li>\n",
    "\t<li><code>paths[i]</code> consist of English letters, digits, <code>'/'</code>, <code>'.'</code>, <code>'('</code>, <code>')'</code>, and <code>' '</code>.</li>\n",
    "\t<li>You may assume no files or directories share the same name in the same directory.</li>\n",
    "\t<li>You may assume each given directory info represents a unique directory. A single blank space separates the directory path and file info.</li>\n",
    "</ul>\n",
    "\n",
    "<p>&nbsp;</p>\n",
    "<p><strong>Follow up:</strong></p>\n",
    "\n",
    "<ul>\n",
    "\t<li>Imagine you are given a real file system, how will you search files? DFS or BFS?</li>\n",
    "\t<li>If the file content is very large (GB level), how will you modify your solution?</li>\n",
    "\t<li>If you can only read the file by 1kb each time, how will you modify your solution?</li>\n",
    "\t<li>What is the time complexity of your modified solution? What is the most time-consuming part and memory-consuming part of it? How to optimize?</li>\n",
    "\t<li>How to make sure the duplicated files you find are not false positive?</li>\n",
    "</ul>\n",
    "    </div></div>"
   ]
  },
  {
   "cell_type": "code",
   "execution_count": 1,
   "id": "643d8e60",
   "metadata": {
    "ExecuteTime": {
     "end_time": "2022-09-19T15:08:16.566260Z",
     "start_time": "2022-09-19T15:08:16.546954Z"
    }
   },
   "outputs": [
    {
     "data": {
      "text/plain": [
       "[['root/a/1.txt', 'root/c/3.txt'],\n",
       " ['root/a/2.txt', 'root/c/d/4.txt', 'root/4.txt']]"
      ]
     },
     "execution_count": 1,
     "metadata": {},
     "output_type": "execute_result"
    }
   ],
   "source": [
    "from collections import defaultdict\n",
    "def findDuplicate(paths):\n",
    "    txtSet = defaultdict(list)\n",
    "    for i in paths:\n",
    "        txt = i.split(\" \")\n",
    "        folder = txt[0]\n",
    "        files = txt[1:]\n",
    "        for j in files:\n",
    "            j = j.split('.txt')\n",
    "            name = j[0]\n",
    "            context = j[1]\n",
    "            txtSet[context].append((folder,  name))\n",
    "    ans = []\n",
    "    for k, v in txtSet.items():\n",
    "        if len(v)>1:\n",
    "            temp = []\n",
    "            for path, name in v:\n",
    "                temp.append(path + \"/\" + name + '.txt')\n",
    "        ans.append(temp)\n",
    "    return ans\n",
    "            \n",
    "    \n",
    "    \n",
    "paths = [\n",
    "    \"root/a 1.txt(abcd) 2.txt(efgh)\",\n",
    "    \"root/c 3.txt(abcd)\",\n",
    "    \"root/c/d 4.txt(efgh)\",\n",
    "    \"root 4.txt(efgh)\"]\n",
    "findDuplicate(paths)"
   ]
  },
  {
   "cell_type": "code",
   "execution_count": null,
   "id": "994a329d",
   "metadata": {},
   "outputs": [],
   "source": []
  }
 ],
 "metadata": {
  "kernelspec": {
   "display_name": "Python 3 (ipykernel)",
   "language": "python",
   "name": "python3"
  },
  "language_info": {
   "codemirror_mode": {
    "name": "ipython",
    "version": 3
   },
   "file_extension": ".py",
   "mimetype": "text/x-python",
   "name": "python",
   "nbconvert_exporter": "python",
   "pygments_lexer": "ipython3",
   "version": "3.8.8"
  },
  "latex_envs": {
   "LaTeX_envs_menu_present": true,
   "autoclose": false,
   "autocomplete": true,
   "bibliofile": "biblio.bib",
   "cite_by": "apalike",
   "current_citInitial": 1,
   "eqLabelWithNumbers": true,
   "eqNumInitial": 1,
   "hotkeys": {
    "equation": "Ctrl-E",
    "itemize": "Ctrl-I"
   },
   "labels_anchors": false,
   "latex_user_defs": false,
   "report_style_numbering": false,
   "user_envs_cfg": false
  },
  "varInspector": {
   "cols": {
    "lenName": 16,
    "lenType": 16,
    "lenVar": 40
   },
   "kernels_config": {
    "python": {
     "delete_cmd_postfix": "",
     "delete_cmd_prefix": "del ",
     "library": "var_list.py",
     "varRefreshCmd": "print(var_dic_list())"
    },
    "r": {
     "delete_cmd_postfix": ") ",
     "delete_cmd_prefix": "rm(",
     "library": "var_list.r",
     "varRefreshCmd": "cat(var_dic_list()) "
    }
   },
   "types_to_exclude": [
    "module",
    "function",
    "builtin_function_or_method",
    "instance",
    "_Feature"
   ],
   "window_display": false
  }
 },
 "nbformat": 4,
 "nbformat_minor": 5
}
