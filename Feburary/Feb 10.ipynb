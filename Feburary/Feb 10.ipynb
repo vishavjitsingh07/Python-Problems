class Solution:
    def sumEvenAfterQueries(self, nums: List[int], queries: List[List[int]]) -> List[int]:
        s = sum(i for i in nums if i%2==0)
        ans = []
        for val, index in queries:
            if nums[index]%2 == 0:
                s -= nums[index]
            nums[index] += val
            if nums[index]%2 == 0:
                s += nums[index]
            ans.append(s)
            
        return ans
            
        
