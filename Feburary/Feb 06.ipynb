 <header class="amp-wp-article-header">
		<h3 class="amp-wp-title style = font-family:courier new;font-size: 100px;">967. Numbers With Same Consecutive Differences
</h3>
</header>
<font color = "Orange">Medium</font>
<font  style = "font-family:courier new;font-size: 16px;">

<div><p>Return all <strong>non-negative</strong> integers of length <code>n</code> such that the absolute difference between every two consecutive digits is <code>k</code>.</p>

<p>Note that <strong>every</strong> number in the answer <strong>must not</strong> have leading zeros. For example, <code>01</code> has one leading zero and is invalid.</p>

<p>You may return the answer in <strong>any order</strong>.</p>

<p>&nbsp;</p>
<p><strong>Example 1:</strong></p>

<pre><strong>Input:</strong> n = 3, k = 7
<strong>Output:</strong> [181,292,707,818,929]
<strong>Explanation:</strong> Note that 070 is not a valid number, because it has leading zeroes.
</pre>

<p><strong>Example 2:</strong></p>

<pre><strong>Input:</strong> n = 2, k = 1
<strong>Output:</strong> [10,12,21,23,32,34,43,45,54,56,65,67,76,78,87,89,98]
</pre>

<p>&nbsp;</p>
<p><strong>Constraints:</strong></p>

<ul>
	<li><code>2 &lt;= n &lt;= 9</code></li>
	<li><code>0 &lt;= k &lt;= 9</code></li>
</ul>
</div></div>



def numsSameConsecDiff(n, k):
        temp = range(10)
        for i in range(n-1):
            temp = {x*10 + y for x in temp for y in [x%10+k, x%10-k] if x and 0<=y<10}
        return list(temp)
numsSameConsecDiff(3, 7)
